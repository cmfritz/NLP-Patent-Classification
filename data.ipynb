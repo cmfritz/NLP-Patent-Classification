{
  "nbformat": 4,
  "nbformat_minor": 0,
  "metadata": {
    "colab": {
      "name": "data.ipynb",
      "provenance": [],
      "collapsed_sections": [],
      "mount_file_id": "1iJgHy3pC5QPZ3CFx1GvlyiX4cW5Oa_T5",
      "authorship_tag": "ABX9TyOH0SGXV70DQwbiM1e3D7yr",
      "include_colab_link": true
    },
    "kernelspec": {
      "name": "python3",
      "display_name": "Python 3"
    },
    "language_info": {
      "name": "python"
    }
  },
  "cells": [
    {
      "cell_type": "markdown",
      "metadata": {
        "id": "view-in-github",
        "colab_type": "text"
      },
      "source": [
        "<a href=\"https://colab.research.google.com/github/cmfritz/capstone/blob/main/data.ipynb\" target=\"_parent\"><img src=\"https://colab.research.google.com/assets/colab-badge.svg\" alt=\"Open In Colab\"/></a>"
      ]
    },
    {
      "cell_type": "code",
      "metadata": {
        "colab": {
          "base_uri": "https://localhost:8080/"
        },
        "id": "aT9H85Uc-hmo",
        "outputId": "4c6ec7df-f6ca-4819-9d03-020f90408a71"
      },
      "source": [
        "from google.colab import drive\n",
        "drive.mount('/content/gdrive')"
      ],
      "execution_count": null,
      "outputs": [
        {
          "output_type": "stream",
          "text": [
            "Mounted at /content/gdrive\n"
          ],
          "name": "stdout"
        }
      ]
    },
    {
      "cell_type": "code",
      "metadata": {
        "colab": {
          "base_uri": "https://localhost:8080/"
        },
        "id": "zV7eOfAv-7PP",
        "outputId": "3e786cf7-4d96-49a6-9970-0151960c4749"
      },
      "source": [
        "%cd /content/gdrive/My Drive/Github/capstone"
      ],
      "execution_count": null,
      "outputs": [
        {
          "output_type": "stream",
          "text": [
            "/content/gdrive/My Drive/Github/capstone\n"
          ],
          "name": "stdout"
        }
      ]
    },
    {
      "cell_type": "code",
      "metadata": {
        "id": "F7D-25OYGtGP"
      },
      "source": [
        "#import packages\n",
        "import pandas as pd\n",
        "import numpy as np\n",
        "import gc"
      ],
      "execution_count": null,
      "outputs": []
    },
    {
      "cell_type": "code",
      "metadata": {
        "colab": {
          "base_uri": "https://localhost:8080/",
          "height": 417
        },
        "id": "Sn9cCeFzCDRh",
        "outputId": "3cbd51cd-40a7-4ed5-e8c7-5b93d698d0e3"
      },
      "source": [
        "# Load data and take a first look\n",
        "data = pd.read_csv('https://s3.amazonaws.com/data.patentsview.org/download/wipo_field.tsv.zip', \n",
        "                   compression='zip', sep='\\t')\n",
        "df_fields = pd.DataFrame(data)\n",
        "df_fields"
      ],
      "execution_count": null,
      "outputs": [
        {
          "output_type": "execute_result",
          "data": {
            "text/html": [
              "<div>\n",
              "<style scoped>\n",
              "    .dataframe tbody tr th:only-of-type {\n",
              "        vertical-align: middle;\n",
              "    }\n",
              "\n",
              "    .dataframe tbody tr th {\n",
              "        vertical-align: top;\n",
              "    }\n",
              "\n",
              "    .dataframe thead th {\n",
              "        text-align: right;\n",
              "    }\n",
              "</style>\n",
              "<table border=\"1\" class=\"dataframe\">\n",
              "  <thead>\n",
              "    <tr style=\"text-align: right;\">\n",
              "      <th></th>\n",
              "      <th>id</th>\n",
              "      <th>sector_title</th>\n",
              "      <th>field_title</th>\n",
              "    </tr>\n",
              "  </thead>\n",
              "  <tbody>\n",
              "    <tr>\n",
              "      <th>0</th>\n",
              "      <td>1</td>\n",
              "      <td>Electrical engineering</td>\n",
              "      <td>Electrical machinery, apparatus, energy</td>\n",
              "    </tr>\n",
              "    <tr>\n",
              "      <th>1</th>\n",
              "      <td>10</td>\n",
              "      <td>Instruments</td>\n",
              "      <td>Measurement</td>\n",
              "    </tr>\n",
              "    <tr>\n",
              "      <th>2</th>\n",
              "      <td>11</td>\n",
              "      <td>Instruments</td>\n",
              "      <td>Analysis of biological materials</td>\n",
              "    </tr>\n",
              "    <tr>\n",
              "      <th>3</th>\n",
              "      <td>12</td>\n",
              "      <td>Instruments</td>\n",
              "      <td>Control</td>\n",
              "    </tr>\n",
              "    <tr>\n",
              "      <th>4</th>\n",
              "      <td>13</td>\n",
              "      <td>Instruments</td>\n",
              "      <td>Medical technology</td>\n",
              "    </tr>\n",
              "    <tr>\n",
              "      <th>...</th>\n",
              "      <td>...</td>\n",
              "      <td>...</td>\n",
              "      <td>...</td>\n",
              "    </tr>\n",
              "    <tr>\n",
              "      <th>65</th>\n",
              "      <td>D30</td>\n",
              "      <td>Design</td>\n",
              "      <td>Articles for the care and handling of animals</td>\n",
              "    </tr>\n",
              "    <tr>\n",
              "      <th>66</th>\n",
              "      <td>D31</td>\n",
              "      <td>Design</td>\n",
              "      <td>Machines and appliances for preparing food or ...</td>\n",
              "    </tr>\n",
              "    <tr>\n",
              "      <th>67</th>\n",
              "      <td>D32</td>\n",
              "      <td>Design</td>\n",
              "      <td>Graphic symbols and logos, surface patterns, o...</td>\n",
              "    </tr>\n",
              "    <tr>\n",
              "      <th>68</th>\n",
              "      <td>D34</td>\n",
              "      <td>Design</td>\n",
              "      <td>Material or Article Handling Equipment</td>\n",
              "    </tr>\n",
              "    <tr>\n",
              "      <th>69</th>\n",
              "      <td>D99</td>\n",
              "      <td>Design</td>\n",
              "      <td>Miscellaneous</td>\n",
              "    </tr>\n",
              "  </tbody>\n",
              "</table>\n",
              "<p>70 rows × 3 columns</p>\n",
              "</div>"
            ],
            "text/plain": [
              "     id  ...                                        field_title\n",
              "0     1  ...            Electrical machinery, apparatus, energy\n",
              "1    10  ...                                        Measurement\n",
              "2    11  ...                   Analysis of biological materials\n",
              "3    12  ...                                            Control\n",
              "4    13  ...                                 Medical technology\n",
              "..  ...  ...                                                ...\n",
              "65  D30  ...      Articles for the care and handling of animals\n",
              "66  D31  ...  Machines and appliances for preparing food or ...\n",
              "67  D32  ...  Graphic symbols and logos, surface patterns, o...\n",
              "68  D34  ...             Material or Article Handling Equipment\n",
              "69  D99  ...                                      Miscellaneous\n",
              "\n",
              "[70 rows x 3 columns]"
            ]
          },
          "metadata": {
            "tags": []
          },
          "execution_count": 4
        }
      ]
    },
    {
      "cell_type": "code",
      "metadata": {
        "colab": {
          "base_uri": "https://localhost:8080/"
        },
        "id": "c9OWuhuN-Eax",
        "outputId": "e24a9147-7fbe-42a0-a001-8a59b69b72c5"
      },
      "source": [
        "df_fields = df_fields[df_fields.sector_title!=('Design' or 'Plant')]\n",
        "df_fields.id = df_fields.id.astype('int64')\n",
        "df_fields.info()"
      ],
      "execution_count": null,
      "outputs": [
        {
          "output_type": "stream",
          "text": [
            "<class 'pandas.core.frame.DataFrame'>\n",
            "Int64Index: 36 entries, 0 to 35\n",
            "Data columns (total 3 columns):\n",
            " #   Column        Non-Null Count  Dtype \n",
            "---  ------        --------------  ----- \n",
            " 0   id            36 non-null     int64 \n",
            " 1   sector_title  36 non-null     object\n",
            " 2   field_title   36 non-null     object\n",
            "dtypes: int64(1), object(2)\n",
            "memory usage: 1.1+ KB\n"
          ],
          "name": "stdout"
        },
        {
          "output_type": "stream",
          "text": [
            "/usr/local/lib/python3.7/dist-packages/pandas/core/generic.py:5170: SettingWithCopyWarning: \n",
            "A value is trying to be set on a copy of a slice from a DataFrame.\n",
            "Try using .loc[row_indexer,col_indexer] = value instead\n",
            "\n",
            "See the caveats in the documentation: https://pandas.pydata.org/pandas-docs/stable/user_guide/indexing.html#returning-a-view-versus-a-copy\n",
            "  self[name] = value\n"
          ],
          "name": "stderr"
        }
      ]
    },
    {
      "cell_type": "code",
      "metadata": {
        "id": "cX-Ndxv-jhv5"
      },
      "source": [
        "df_fields.to_csv('data/fields.csv')"
      ],
      "execution_count": null,
      "outputs": []
    },
    {
      "cell_type": "code",
      "metadata": {
        "id": "NNjwZ_9_x8ck"
      },
      "source": [
        "# Load data and take a first look\n",
        "data = pd.read_csv('https://s3.amazonaws.com/data.patentsview.org/download/wipo.tsv.zip', \n",
        "                   compression='zip', sep='\\t')\n",
        "df_field_lookup = pd.DataFrame(data)"
      ],
      "execution_count": null,
      "outputs": []
    },
    {
      "cell_type": "code",
      "metadata": {
        "id": "uPAsbxPCfsM8"
      },
      "source": [
        "df_field_lookup = df_field_lookup.sort_values('patent_id')\n",
        "df_field_lookup.to_csv('data/pats_w_sectors.csv')"
      ],
      "execution_count": null,
      "outputs": []
    },
    {
      "cell_type": "code",
      "metadata": {
        "colab": {
          "base_uri": "https://localhost:8080/",
          "height": 417
        },
        "id": "O727nSmP51A9",
        "outputId": "f6e5d9e1-9dc4-498d-fd65-1624ffa4755b"
      },
      "source": [
        "df_pats_w_sectors = df_field_lookup.merge(df_fields, \n",
        "                                          left_on='field_id', \n",
        "                                          right_on='id')\n",
        "df_pats_w_sectors"
      ],
      "execution_count": null,
      "outputs": [
        {
          "output_type": "execute_result",
          "data": {
            "text/html": [
              "<div>\n",
              "<style scoped>\n",
              "    .dataframe tbody tr th:only-of-type {\n",
              "        vertical-align: middle;\n",
              "    }\n",
              "\n",
              "    .dataframe tbody tr th {\n",
              "        vertical-align: top;\n",
              "    }\n",
              "\n",
              "    .dataframe thead th {\n",
              "        text-align: right;\n",
              "    }\n",
              "</style>\n",
              "<table border=\"1\" class=\"dataframe\">\n",
              "  <thead>\n",
              "    <tr style=\"text-align: right;\">\n",
              "      <th></th>\n",
              "      <th>patent_id</th>\n",
              "      <th>field_id</th>\n",
              "      <th>sequence</th>\n",
              "      <th>id</th>\n",
              "      <th>sector_title</th>\n",
              "      <th>field_title</th>\n",
              "    </tr>\n",
              "  </thead>\n",
              "  <tbody>\n",
              "    <tr>\n",
              "      <th>0</th>\n",
              "      <td>3930271</td>\n",
              "      <td>33</td>\n",
              "      <td>0</td>\n",
              "      <td>33</td>\n",
              "      <td>Other fields</td>\n",
              "      <td>Furniture, games</td>\n",
              "    </tr>\n",
              "    <tr>\n",
              "      <th>1</th>\n",
              "      <td>3930272</td>\n",
              "      <td>33</td>\n",
              "      <td>0</td>\n",
              "      <td>33</td>\n",
              "      <td>Other fields</td>\n",
              "      <td>Furniture, games</td>\n",
              "    </tr>\n",
              "    <tr>\n",
              "      <th>2</th>\n",
              "      <td>3930281</td>\n",
              "      <td>33</td>\n",
              "      <td>0</td>\n",
              "      <td>33</td>\n",
              "      <td>Other fields</td>\n",
              "      <td>Furniture, games</td>\n",
              "    </tr>\n",
              "    <tr>\n",
              "      <th>3</th>\n",
              "      <td>3930331</td>\n",
              "      <td>33</td>\n",
              "      <td>0</td>\n",
              "      <td>33</td>\n",
              "      <td>Other fields</td>\n",
              "      <td>Furniture, games</td>\n",
              "    </tr>\n",
              "    <tr>\n",
              "      <th>4</th>\n",
              "      <td>3930332</td>\n",
              "      <td>33</td>\n",
              "      <td>0</td>\n",
              "      <td>33</td>\n",
              "      <td>Other fields</td>\n",
              "      <td>Furniture, games</td>\n",
              "    </tr>\n",
              "    <tr>\n",
              "      <th>...</th>\n",
              "      <td>...</td>\n",
              "      <td>...</td>\n",
              "      <td>...</td>\n",
              "      <td>...</td>\n",
              "      <td>...</td>\n",
              "      <td>...</td>\n",
              "    </tr>\n",
              "    <tr>\n",
              "      <th>10296072</th>\n",
              "      <td>10818805</td>\n",
              "      <td>22</td>\n",
              "      <td>1</td>\n",
              "      <td>22</td>\n",
              "      <td>Chemistry</td>\n",
              "      <td>Micro-structural and nano-technology</td>\n",
              "    </tr>\n",
              "    <tr>\n",
              "      <th>10296073</th>\n",
              "      <td>10818835</td>\n",
              "      <td>22</td>\n",
              "      <td>2</td>\n",
              "      <td>22</td>\n",
              "      <td>Chemistry</td>\n",
              "      <td>Micro-structural and nano-technology</td>\n",
              "    </tr>\n",
              "    <tr>\n",
              "      <th>10296074</th>\n",
              "      <td>10818922</td>\n",
              "      <td>22</td>\n",
              "      <td>2</td>\n",
              "      <td>22</td>\n",
              "      <td>Chemistry</td>\n",
              "      <td>Micro-structural and nano-technology</td>\n",
              "    </tr>\n",
              "    <tr>\n",
              "      <th>10296075</th>\n",
              "      <td>10823691</td>\n",
              "      <td>22</td>\n",
              "      <td>3</td>\n",
              "      <td>22</td>\n",
              "      <td>Chemistry</td>\n",
              "      <td>Micro-structural and nano-technology</td>\n",
              "    </tr>\n",
              "    <tr>\n",
              "      <th>10296076</th>\n",
              "      <td>10829605</td>\n",
              "      <td>22</td>\n",
              "      <td>5</td>\n",
              "      <td>22</td>\n",
              "      <td>Chemistry</td>\n",
              "      <td>Micro-structural and nano-technology</td>\n",
              "    </tr>\n",
              "  </tbody>\n",
              "</table>\n",
              "<p>10296077 rows × 6 columns</p>\n",
              "</div>"
            ],
            "text/plain": [
              "          patent_id  ...                           field_title\n",
              "0           3930271  ...                      Furniture, games\n",
              "1           3930272  ...                      Furniture, games\n",
              "2           3930281  ...                      Furniture, games\n",
              "3           3930331  ...                      Furniture, games\n",
              "4           3930332  ...                      Furniture, games\n",
              "...             ...  ...                                   ...\n",
              "10296072   10818805  ...  Micro-structural and nano-technology\n",
              "10296073   10818835  ...  Micro-structural and nano-technology\n",
              "10296074   10818922  ...  Micro-structural and nano-technology\n",
              "10296075   10823691  ...  Micro-structural and nano-technology\n",
              "10296076   10829605  ...  Micro-structural and nano-technology\n",
              "\n",
              "[10296077 rows x 6 columns]"
            ]
          },
          "metadata": {
            "tags": []
          },
          "execution_count": 9
        }
      ]
    },
    {
      "cell_type": "code",
      "metadata": {
        "id": "kihnefEzYK7w"
      },
      "source": [
        "df_pats_w_sectors = df_pats_w_sectors.drop(['field_id', 'sequence', 'id'], axis=1)\n",
        "df_pats_w_sectors\n",
        "df_pats_w_sectors.to_csv('data/pats_w_sectors.csv')"
      ],
      "execution_count": null,
      "outputs": []
    },
    {
      "cell_type": "code",
      "metadata": {
        "colab": {
          "base_uri": "https://localhost:8080/"
        },
        "id": "AJuzXvLUa-ph",
        "outputId": "74246675-f627-4a97-bf35-1ef199361fc4"
      },
      "source": [
        "len(set(df_pats_w_sectors.patent_id))"
      ],
      "execution_count": null,
      "outputs": [
        {
          "output_type": "execute_result",
          "data": {
            "text/plain": [
              "6836110"
            ]
          },
          "metadata": {
            "tags": []
          },
          "execution_count": 11
        }
      ]
    },
    {
      "cell_type": "code",
      "metadata": {
        "colab": {
          "base_uri": "https://localhost:8080/",
          "height": 257
        },
        "id": "Y-zmfVwhH3gt",
        "outputId": "34abaf70-de1d-4bdf-fa85-7a2acf543cbb"
      },
      "source": [
        "# Load 2020 data\n",
        "data = pd.read_csv('https://s3.amazonaws.com/data.patentsview.org/claims/claims_2020.tsv.zip',\n",
        "                   compression='zip', sep='\\t')\n",
        "df = pd.DataFrame(data)\n",
        "del data\n",
        "df.head()"
      ],
      "execution_count": null,
      "outputs": [
        {
          "output_type": "stream",
          "text": [
            "/usr/local/lib/python3.7/dist-packages/IPython/core/interactiveshell.py:2718: DtypeWarning: Columns (1) have mixed types.Specify dtype option on import or set low_memory=False.\n",
            "  interactivity=interactivity, compiler=compiler, result=result)\n"
          ],
          "name": "stderr"
        },
        {
          "output_type": "execute_result",
          "data": {
            "text/html": [
              "<div>\n",
              "<style scoped>\n",
              "    .dataframe tbody tr th:only-of-type {\n",
              "        vertical-align: middle;\n",
              "    }\n",
              "\n",
              "    .dataframe tbody tr th {\n",
              "        vertical-align: top;\n",
              "    }\n",
              "\n",
              "    .dataframe thead th {\n",
              "        text-align: right;\n",
              "    }\n",
              "</style>\n",
              "<table border=\"1\" class=\"dataframe\">\n",
              "  <thead>\n",
              "    <tr style=\"text-align: right;\">\n",
              "      <th></th>\n",
              "      <th>uuid</th>\n",
              "      <th>patent_id</th>\n",
              "      <th>text</th>\n",
              "      <th>dependent</th>\n",
              "      <th>sequence</th>\n",
              "      <th>num</th>\n",
              "      <th>exemplary</th>\n",
              "    </tr>\n",
              "  </thead>\n",
              "  <tbody>\n",
              "    <tr>\n",
              "      <th>0</th>\n",
              "      <td>87720c54-7d3e-11ea-83c3-121df0c29c1e</td>\n",
              "      <td>10524402</td>\n",
              "      <td>1. A method comprising: capturing an image of ...</td>\n",
              "      <td>NaN</td>\n",
              "      <td>0</td>\n",
              "      <td>1</td>\n",
              "      <td>1</td>\n",
              "    </tr>\n",
              "    <tr>\n",
              "      <th>1</th>\n",
              "      <td>87720dc3-7d3e-11ea-83c3-121df0c29c1e</td>\n",
              "      <td>10524402</td>\n",
              "      <td>2. The method of claim 1 , wherein identifying...</td>\n",
              "      <td>claim 1</td>\n",
              "      <td>1</td>\n",
              "      <td>2</td>\n",
              "      <td>0</td>\n",
              "    </tr>\n",
              "    <tr>\n",
              "      <th>2</th>\n",
              "      <td>877214e9-7d3e-11ea-83c3-121df0c29c1e</td>\n",
              "      <td>10524402</td>\n",
              "      <td>3. The method of claim 1 , wherein the propert...</td>\n",
              "      <td>claim 1</td>\n",
              "      <td>2</td>\n",
              "      <td>3</td>\n",
              "      <td>0</td>\n",
              "    </tr>\n",
              "    <tr>\n",
              "      <th>3</th>\n",
              "      <td>87721630-7d3e-11ea-83c3-121df0c29c1e</td>\n",
              "      <td>10524402</td>\n",
              "      <td>4. The method of claim 1 , wherein selecting a...</td>\n",
              "      <td>claim 1</td>\n",
              "      <td>3</td>\n",
              "      <td>4</td>\n",
              "      <td>0</td>\n",
              "    </tr>\n",
              "    <tr>\n",
              "      <th>4</th>\n",
              "      <td>87721730-7d3e-11ea-83c3-121df0c29c1e</td>\n",
              "      <td>10524402</td>\n",
              "      <td>5. The method of claim 1 , wherein the propert...</td>\n",
              "      <td>claim 1</td>\n",
              "      <td>4</td>\n",
              "      <td>5</td>\n",
              "      <td>0</td>\n",
              "    </tr>\n",
              "  </tbody>\n",
              "</table>\n",
              "</div>"
            ],
            "text/plain": [
              "                                   uuid patent_id  ... num exemplary\n",
              "0  87720c54-7d3e-11ea-83c3-121df0c29c1e  10524402  ...   1         1\n",
              "1  87720dc3-7d3e-11ea-83c3-121df0c29c1e  10524402  ...   2         0\n",
              "2  877214e9-7d3e-11ea-83c3-121df0c29c1e  10524402  ...   3         0\n",
              "3  87721630-7d3e-11ea-83c3-121df0c29c1e  10524402  ...   4         0\n",
              "4  87721730-7d3e-11ea-83c3-121df0c29c1e  10524402  ...   5         0\n",
              "\n",
              "[5 rows x 7 columns]"
            ]
          },
          "metadata": {
            "tags": []
          },
          "execution_count": 12
        }
      ]
    },
    {
      "cell_type": "code",
      "metadata": {
        "colab": {
          "base_uri": "https://localhost:8080/",
          "height": 417
        },
        "id": "cva-vR6Ss0F8",
        "outputId": "b4c0c845-7157-4e91-8b91-f51916cec802"
      },
      "source": [
        "df = df.drop(['uuid', 'sequence', 'exemplary', 'dependent'], \n",
        "             axis=1)\n",
        "\n",
        "# rename num column since num name causes issues\n",
        "df = df.rename(columns={'num':'claim_number'})\n",
        "\n",
        "# get rid of reissue, design, and plant patents\n",
        "df = df[df.patent_id.str.isnumeric()==True]\n",
        "\n",
        "# make sure dtype for patid is integer\n",
        "df.patent_id = df.patent_id.astype('int64')\n",
        "\n",
        "# keep only rows with 1st claim\n",
        "df = df[df.claim_number==1]\n",
        "\n",
        "df_master = df\n",
        "del df\n",
        "gc.collect()\n",
        "df_master"
      ],
      "execution_count": null,
      "outputs": [
        {
          "output_type": "execute_result",
          "data": {
            "text/html": [
              "<div>\n",
              "<style scoped>\n",
              "    .dataframe tbody tr th:only-of-type {\n",
              "        vertical-align: middle;\n",
              "    }\n",
              "\n",
              "    .dataframe tbody tr th {\n",
              "        vertical-align: top;\n",
              "    }\n",
              "\n",
              "    .dataframe thead th {\n",
              "        text-align: right;\n",
              "    }\n",
              "</style>\n",
              "<table border=\"1\" class=\"dataframe\">\n",
              "  <thead>\n",
              "    <tr style=\"text-align: right;\">\n",
              "      <th></th>\n",
              "      <th>patent_id</th>\n",
              "      <th>text</th>\n",
              "      <th>claim_number</th>\n",
              "    </tr>\n",
              "  </thead>\n",
              "  <tbody>\n",
              "    <tr>\n",
              "      <th>5767175</th>\n",
              "      <td>10873754</td>\n",
              "      <td>1. A method for encoding video data, wherein t...</td>\n",
              "      <td>1</td>\n",
              "    </tr>\n",
              "    <tr>\n",
              "      <th>5767195</th>\n",
              "      <td>10873755</td>\n",
              "      <td>1. A computer-implemented method of motion est...</td>\n",
              "      <td>1</td>\n",
              "    </tr>\n",
              "    <tr>\n",
              "      <th>5767220</th>\n",
              "      <td>10873756</td>\n",
              "      <td>1. A video processing method, comprising: cons...</td>\n",
              "      <td>1</td>\n",
              "    </tr>\n",
              "    <tr>\n",
              "      <th>5767245</th>\n",
              "      <td>10873757</td>\n",
              "      <td>1. A method of decoding video data in uni-dire...</td>\n",
              "      <td>1</td>\n",
              "    </tr>\n",
              "    <tr>\n",
              "      <th>5767254</th>\n",
              "      <td>10873758</td>\n",
              "      <td>1. An image processing device comprising: a se...</td>\n",
              "      <td>1</td>\n",
              "    </tr>\n",
              "    <tr>\n",
              "      <th>...</th>\n",
              "      <td>...</td>\n",
              "      <td>...</td>\n",
              "      <td>...</td>\n",
              "    </tr>\n",
              "    <tr>\n",
              "      <th>5888339</th>\n",
              "      <td>10881037</td>\n",
              "      <td>1. A method of manufacturing a printed circuit...</td>\n",
              "      <td>1</td>\n",
              "    </tr>\n",
              "    <tr>\n",
              "      <th>5888358</th>\n",
              "      <td>10881038</td>\n",
              "      <td>1. A control system for a motor vehicle, in pa...</td>\n",
              "      <td>1</td>\n",
              "    </tr>\n",
              "    <tr>\n",
              "      <th>5888378</th>\n",
              "      <td>10881039</td>\n",
              "      <td>1. An Electromagnetic Interference shielding f...</td>\n",
              "      <td>1</td>\n",
              "    </tr>\n",
              "    <tr>\n",
              "      <th>5888398</th>\n",
              "      <td>10881040</td>\n",
              "      <td>1. An adjustable mobile cart, including: at le...</td>\n",
              "      <td>1</td>\n",
              "    </tr>\n",
              "    <tr>\n",
              "      <th>5888418</th>\n",
              "      <td>10881041</td>\n",
              "      <td>1. A feeder device that is equipped in a compo...</td>\n",
              "      <td>1</td>\n",
              "    </tr>\n",
              "  </tbody>\n",
              "</table>\n",
              "<p>7227 rows × 3 columns</p>\n",
              "</div>"
            ],
            "text/plain": [
              "         patent_id  ... claim_number\n",
              "5767175   10873754  ...            1\n",
              "5767195   10873755  ...            1\n",
              "5767220   10873756  ...            1\n",
              "5767245   10873757  ...            1\n",
              "5767254   10873758  ...            1\n",
              "...            ...  ...          ...\n",
              "5888339   10881037  ...            1\n",
              "5888358   10881038  ...            1\n",
              "5888378   10881039  ...            1\n",
              "5888398   10881040  ...            1\n",
              "5888418   10881041  ...            1\n",
              "\n",
              "[7227 rows x 3 columns]"
            ]
          },
          "metadata": {
            "tags": []
          },
          "execution_count": 13
        }
      ]
    },
    {
      "cell_type": "code",
      "metadata": {
        "id": "VAqFYSgrK3uX"
      },
      "source": [
        "def clean_tsv(df):\n",
        "  df = df.drop(['uuid', 'sequence', 'exemplary', 'dependent', \n",
        "              'patent_date','created_date', 'updated_date'], \n",
        "             axis=1)\n",
        "\n",
        "  # get rid of reissue, design, and plant patents\n",
        "  df = df[df.patent_id.str.isnumeric()==True]\n",
        "\n",
        "  # make sure dtype for patid is integer\n",
        "  df.patent_id = df.patent_id.astype('int64')\n",
        "\n",
        "  # keep rows only for claim 1\n",
        "  df = df[df.claim_number==1]\n",
        "\n",
        "  return df"
      ],
      "execution_count": null,
      "outputs": []
    },
    {
      "cell_type": "code",
      "metadata": {
        "colab": {
          "base_uri": "https://localhost:8080/"
        },
        "id": "BUtnmw3FKOS1",
        "outputId": "69ec6dee-0cea-4c67-93d9-00bc92fd81cf"
      },
      "source": [
        "# Iterate to load 2016 - 2019 data\n",
        "years = range(2016,2020,1)\n",
        "for year in years:\n",
        "  data = pd.read_csv(f'https://s3.amazonaws.com/data.patentsview.org/claims/claims_{year}.tsv.zip',\n",
        "                   compression='zip', sep='\\t')\n",
        "  df = pd.DataFrame(data)\n",
        "  del data\n",
        "  df = clean_tsv(df)\n",
        "  df_master=df_master.append(df, ignore_index=True)\n",
        "  del df\n",
        "  gc.collect()"
      ],
      "execution_count": null,
      "outputs": [
        {
          "output_type": "stream",
          "text": [
            "/usr/local/lib/python3.7/dist-packages/IPython/core/interactiveshell.py:2718: DtypeWarning: Columns (1,8) have mixed types.Specify dtype option on import or set low_memory=False.\n",
            "  interactivity=interactivity, compiler=compiler, result=result)\n",
            "/usr/local/lib/python3.7/dist-packages/IPython/core/interactiveshell.py:2718: DtypeWarning: Columns (1,8) have mixed types.Specify dtype option on import or set low_memory=False.\n",
            "  interactivity=interactivity, compiler=compiler, result=result)\n",
            "/usr/local/lib/python3.7/dist-packages/IPython/core/interactiveshell.py:2718: DtypeWarning: Columns (1,8) have mixed types.Specify dtype option on import or set low_memory=False.\n",
            "  interactivity=interactivity, compiler=compiler, result=result)\n",
            "/usr/local/lib/python3.7/dist-packages/IPython/core/interactiveshell.py:2718: DtypeWarning: Columns (1,8) have mixed types.Specify dtype option on import or set low_memory=False.\n",
            "  interactivity=interactivity, compiler=compiler, result=result)\n"
          ],
          "name": "stderr"
        }
      ]
    },
    {
      "cell_type": "code",
      "metadata": {
        "colab": {
          "base_uri": "https://localhost:8080/",
          "height": 417
        },
        "id": "vitiOjxNTSdB",
        "outputId": "a12c62d3-a84f-46d6-fab8-4b986c8a27e2"
      },
      "source": [
        "df_master"
      ],
      "execution_count": null,
      "outputs": [
        {
          "output_type": "execute_result",
          "data": {
            "text/html": [
              "<div>\n",
              "<style scoped>\n",
              "    .dataframe tbody tr th:only-of-type {\n",
              "        vertical-align: middle;\n",
              "    }\n",
              "\n",
              "    .dataframe tbody tr th {\n",
              "        vertical-align: top;\n",
              "    }\n",
              "\n",
              "    .dataframe thead th {\n",
              "        text-align: right;\n",
              "    }\n",
              "</style>\n",
              "<table border=\"1\" class=\"dataframe\">\n",
              "  <thead>\n",
              "    <tr style=\"text-align: right;\">\n",
              "      <th></th>\n",
              "      <th>patent_id</th>\n",
              "      <th>text</th>\n",
              "      <th>claim_number</th>\n",
              "    </tr>\n",
              "  </thead>\n",
              "  <tbody>\n",
              "    <tr>\n",
              "      <th>0</th>\n",
              "      <td>10873754</td>\n",
              "      <td>1. A method for encoding video data, wherein t...</td>\n",
              "      <td>1</td>\n",
              "    </tr>\n",
              "    <tr>\n",
              "      <th>1</th>\n",
              "      <td>10873755</td>\n",
              "      <td>1. A computer-implemented method of motion est...</td>\n",
              "      <td>1</td>\n",
              "    </tr>\n",
              "    <tr>\n",
              "      <th>2</th>\n",
              "      <td>10873756</td>\n",
              "      <td>1. A video processing method, comprising: cons...</td>\n",
              "      <td>1</td>\n",
              "    </tr>\n",
              "    <tr>\n",
              "      <th>3</th>\n",
              "      <td>10873757</td>\n",
              "      <td>1. A method of decoding video data in uni-dire...</td>\n",
              "      <td>1</td>\n",
              "    </tr>\n",
              "    <tr>\n",
              "      <th>4</th>\n",
              "      <td>10873758</td>\n",
              "      <td>1. An image processing device comprising: a se...</td>\n",
              "      <td>1</td>\n",
              "    </tr>\n",
              "    <tr>\n",
              "      <th>...</th>\n",
              "      <td>...</td>\n",
              "      <td>...</td>\n",
              "      <td>...</td>\n",
              "    </tr>\n",
              "    <tr>\n",
              "      <th>557406</th>\n",
              "      <td>10395357</td>\n",
              "      <td>1. An apparatus for detecting foam in a specim...</td>\n",
              "      <td>1</td>\n",
              "    </tr>\n",
              "    <tr>\n",
              "      <th>557407</th>\n",
              "      <td>10395358</td>\n",
              "      <td>1. A system configured to detect defects on a ...</td>\n",
              "      <td>1</td>\n",
              "    </tr>\n",
              "    <tr>\n",
              "      <th>557408</th>\n",
              "      <td>10395359</td>\n",
              "      <td>1. A system configured to detect defects on a ...</td>\n",
              "      <td>1</td>\n",
              "    </tr>\n",
              "    <tr>\n",
              "      <th>557409</th>\n",
              "      <td>10395360</td>\n",
              "      <td>1. An inspection system for inspecting an obje...</td>\n",
              "      <td>1</td>\n",
              "    </tr>\n",
              "    <tr>\n",
              "      <th>557410</th>\n",
              "      <td>10395361</td>\n",
              "      <td>1. A method of qualifying a photolithographic ...</td>\n",
              "      <td>1</td>\n",
              "    </tr>\n",
              "  </tbody>\n",
              "</table>\n",
              "<p>557411 rows × 3 columns</p>\n",
              "</div>"
            ],
            "text/plain": [
              "        patent_id  ... claim_number\n",
              "0        10873754  ...            1\n",
              "1        10873755  ...            1\n",
              "2        10873756  ...            1\n",
              "3        10873757  ...            1\n",
              "4        10873758  ...            1\n",
              "...           ...  ...          ...\n",
              "557406   10395357  ...            1\n",
              "557407   10395358  ...            1\n",
              "557408   10395359  ...            1\n",
              "557409   10395360  ...            1\n",
              "557410   10395361  ...            1\n",
              "\n",
              "[557411 rows x 3 columns]"
            ]
          },
          "metadata": {
            "tags": []
          },
          "execution_count": 16
        }
      ]
    }
  ]
}