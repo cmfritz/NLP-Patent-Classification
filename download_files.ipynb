{
  "nbformat": 4,
  "nbformat_minor": 0,
  "metadata": {
    "colab": {
      "name": "download_files.ipynb",
      "provenance": [],
      "collapsed_sections": [],
      "authorship_tag": "ABX9TyPBmrVzB1avDxB8pqFwGg2K",
      "include_colab_link": true
    },
    "kernelspec": {
      "name": "python3",
      "display_name": "Python 3"
    },
    "language_info": {
      "name": "python"
    }
  },
  "cells": [
    {
      "cell_type": "markdown",
      "metadata": {
        "id": "view-in-github",
        "colab_type": "text"
      },
      "source": [
        "<a href=\"https://colab.research.google.com/github/cmfritz/capstone/blob/main/download_files.ipynb\" target=\"_parent\"><img src=\"https://colab.research.google.com/assets/colab-badge.svg\" alt=\"Open In Colab\"/></a>"
      ]
    },
    {
      "cell_type": "code",
      "metadata": {
        "id": "5oh1qBWVO3Bm"
      },
      "source": [
        "# from google.colab import drive\n",
        "# drive.mount('/content/gdrive')"
      ],
      "execution_count": null,
      "outputs": []
    },
    {
      "cell_type": "code",
      "metadata": {
        "colab": {
          "base_uri": "https://localhost:8080/"
        },
        "id": "5TgLRJjFQfOb",
        "outputId": "71c45b17-db33-4f68-c26c-fd62c47520b6"
      },
      "source": [
        "%cd /content/gdrive/My Drive/Github/capstone"
      ],
      "execution_count": null,
      "outputs": [
        {
          "output_type": "stream",
          "text": [
            "/content/gdrive/My Drive/Github/capstone\n"
          ],
          "name": "stdout"
        }
      ]
    },
    {
      "cell_type": "code",
      "metadata": {
        "id": "VLFhD5-YPHRs"
      },
      "source": [
        "import requests as re\n",
        "import os\n",
        "import zipfile"
      ],
      "execution_count": null,
      "outputs": []
    },
    {
      "cell_type": "code",
      "metadata": {
        "id": "EYkJoJ2IPOW2"
      },
      "source": [
        "base_url = 'https://s3.amazonaws.com/data.patentsview.org/claims/claims_'\n",
        "tail_url = '.tsv.zip'\n",
        "years = range(2016,2021,1)\n",
        "\n",
        "for year in years:\n",
        "  url = base_url + str(year) + tail_url\n",
        "  r = re.get(url)\n",
        "  filename = 'data/claims_' + str(year) + '.zip'\n",
        "  open(filename, 'wb').write(r.content)\n",
        "  with zipfile.ZipFile(filename,'r') as zf:\n",
        "    zf.extractall(path='data/')\n",
        "  os.remove(filename)"
      ],
      "execution_count": null,
      "outputs": []
    },
    {
      "cell_type": "code",
      "metadata": {
        "id": "pTHGZW4wSADn"
      },
      "source": [
        ""
      ],
      "execution_count": null,
      "outputs": []
    }
  ]
}