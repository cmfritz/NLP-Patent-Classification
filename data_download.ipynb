{
  "nbformat": 4,
  "nbformat_minor": 0,
  "metadata": {
    "colab": {
      "name": "data_download.ipynb",
      "provenance": [],
      "collapsed_sections": [],
      "machine_shape": "hm",
      "mount_file_id": "1iJgHy3pC5QPZ3CFx1GvlyiX4cW5Oa_T5",
      "authorship_tag": "ABX9TyMyJnMpCS2Om2LhbwGLX8LQ",
      "include_colab_link": true
    },
    "kernelspec": {
      "name": "python3",
      "display_name": "Python 3"
    },
    "language_info": {
      "name": "python"
    }
  },
  "cells": [
    {
      "cell_type": "markdown",
      "metadata": {
        "id": "view-in-github",
        "colab_type": "text"
      },
      "source": [
        "<a href=\"https://colab.research.google.com/github/cmfritz/capstone/blob/main/data_download.ipynb\" target=\"_parent\"><img src=\"https://colab.research.google.com/assets/colab-badge.svg\" alt=\"Open In Colab\"/></a>"
      ]
    },
    {
      "cell_type": "code",
      "metadata": {
        "colab": {
          "base_uri": "https://localhost:8080/"
        },
        "id": "aT9H85Uc-hmo",
        "outputId": "47023a34-a69b-4cfa-9dcd-bbaa798694f1"
      },
      "source": [
        "from google.colab import drive\n",
        "drive.mount('/content/gdrive')"
      ],
      "execution_count": null,
      "outputs": [
        {
          "output_type": "stream",
          "text": [
            "Mounted at /content/gdrive\n"
          ],
          "name": "stdout"
        }
      ]
    },
    {
      "cell_type": "code",
      "metadata": {
        "colab": {
          "base_uri": "https://localhost:8080/"
        },
        "id": "zV7eOfAv-7PP",
        "outputId": "6af4beb8-6179-4146-a00e-808486302119"
      },
      "source": [
        "%cd /content/gdrive/My Drive/Github/capstone"
      ],
      "execution_count": null,
      "outputs": [
        {
          "output_type": "stream",
          "text": [
            "/content/gdrive/My Drive/Github/capstone\n"
          ],
          "name": "stdout"
        }
      ]
    },
    {
      "cell_type": "code",
      "metadata": {
        "id": "F7D-25OYGtGP"
      },
      "source": [
        "#import packages\n",
        "import pandas as pd\n",
        "import numpy as np\n",
        "import gc"
      ],
      "execution_count": null,
      "outputs": []
    },
    {
      "cell_type": "code",
      "metadata": {
        "id": "tQCCBY3KbSa9"
      },
      "source": [
        "# import my custom library into colab\n",
        "import sys\n",
        "sys.path.append('/content/gdrive/MyDrive/Github/capstone/')\n",
        "import mylibrary as mylib"
      ],
      "execution_count": null,
      "outputs": []
    },
    {
      "cell_type": "markdown",
      "metadata": {
        "id": "poo2yI14o3hg"
      },
      "source": [
        "First, get the sector (classification) data for each patent."
      ]
    },
    {
      "cell_type": "code",
      "metadata": {
        "id": "NNjwZ_9_x8ck",
        "colab": {
          "base_uri": "https://localhost:8080/",
          "height": 417
        },
        "outputId": "2b1e3884-085e-4883-e55c-f160d422e2e3"
      },
      "source": [
        "# Load data directly from USPTO \n",
        "# Data contains patent no. and its assigned sector id\n",
        "url = 'https://s3.amazonaws.com/data.patentsview.org/download/wipo.tsv.zip'\n",
        "df_field_lookup = mylib.tsv_to_df(url)\n",
        "df_field_lookup"
      ],
      "execution_count": null,
      "outputs": [
        {
          "output_type": "execute_result",
          "data": {
            "text/html": [
              "<div>\n",
              "<style scoped>\n",
              "    .dataframe tbody tr th:only-of-type {\n",
              "        vertical-align: middle;\n",
              "    }\n",
              "\n",
              "    .dataframe tbody tr th {\n",
              "        vertical-align: top;\n",
              "    }\n",
              "\n",
              "    .dataframe thead th {\n",
              "        text-align: right;\n",
              "    }\n",
              "</style>\n",
              "<table border=\"1\" class=\"dataframe\">\n",
              "  <thead>\n",
              "    <tr style=\"text-align: right;\">\n",
              "      <th></th>\n",
              "      <th>patent_id</th>\n",
              "      <th>field_id</th>\n",
              "      <th>sequence</th>\n",
              "    </tr>\n",
              "  </thead>\n",
              "  <tbody>\n",
              "    <tr>\n",
              "      <th>0</th>\n",
              "      <td>10001059</td>\n",
              "      <td>31</td>\n",
              "      <td>1</td>\n",
              "    </tr>\n",
              "    <tr>\n",
              "      <th>1</th>\n",
              "      <td>10001517</td>\n",
              "      <td>10</td>\n",
              "      <td>1</td>\n",
              "    </tr>\n",
              "    <tr>\n",
              "      <th>2</th>\n",
              "      <td>10002233</td>\n",
              "      <td>6</td>\n",
              "      <td>0</td>\n",
              "    </tr>\n",
              "    <tr>\n",
              "      <th>3</th>\n",
              "      <td>10002234</td>\n",
              "      <td>13</td>\n",
              "      <td>2</td>\n",
              "    </tr>\n",
              "    <tr>\n",
              "      <th>4</th>\n",
              "      <td>10002235</td>\n",
              "      <td>6</td>\n",
              "      <td>1</td>\n",
              "    </tr>\n",
              "    <tr>\n",
              "      <th>...</th>\n",
              "      <td>...</td>\n",
              "      <td>...</td>\n",
              "      <td>...</td>\n",
              "    </tr>\n",
              "    <tr>\n",
              "      <th>10296072</th>\n",
              "      <td>9999997</td>\n",
              "      <td>26</td>\n",
              "      <td>0</td>\n",
              "    </tr>\n",
              "    <tr>\n",
              "      <th>10296073</th>\n",
              "      <td>9999997</td>\n",
              "      <td>29</td>\n",
              "      <td>1</td>\n",
              "    </tr>\n",
              "    <tr>\n",
              "      <th>10296074</th>\n",
              "      <td>9999998</td>\n",
              "      <td>29</td>\n",
              "      <td>0</td>\n",
              "    </tr>\n",
              "    <tr>\n",
              "      <th>10296075</th>\n",
              "      <td>9999998</td>\n",
              "      <td>21</td>\n",
              "      <td>1</td>\n",
              "    </tr>\n",
              "    <tr>\n",
              "      <th>10296076</th>\n",
              "      <td>9999999</td>\n",
              "      <td>29</td>\n",
              "      <td>0</td>\n",
              "    </tr>\n",
              "  </tbody>\n",
              "</table>\n",
              "<p>10296077 rows × 3 columns</p>\n",
              "</div>"
            ],
            "text/plain": [
              "         patent_id field_id sequence\n",
              "0         10001059       31        1\n",
              "1         10001517       10        1\n",
              "2         10002233        6        0\n",
              "3         10002234       13        2\n",
              "4         10002235        6        1\n",
              "...            ...      ...      ...\n",
              "10296072   9999997       26        0\n",
              "10296073   9999997       29        1\n",
              "10296074   9999998       29        0\n",
              "10296075   9999998       21        1\n",
              "10296076   9999999       29        0\n",
              "\n",
              "[10296077 rows x 3 columns]"
            ]
          },
          "metadata": {
            "tags": []
          },
          "execution_count": 5
        }
      ]
    },
    {
      "cell_type": "code",
      "metadata": {
        "id": "TkyRCxycV1oy"
      },
      "source": [
        "# remove duplicate entries\n",
        "df_field_lookup = df_field_lookup.drop_duplicates()"
      ],
      "execution_count": null,
      "outputs": []
    },
    {
      "cell_type": "code",
      "metadata": {
        "colab": {
          "base_uri": "https://localhost:8080/",
          "height": 417
        },
        "id": "Sn9cCeFzCDRh",
        "outputId": "a8967360-63ec-45c5-d2f7-0834241f5000"
      },
      "source": [
        "# Load tsv file that explains the id and sector relationship\n",
        "url = 'https://s3.amazonaws.com/data.patentsview.org/download/wipo_field.tsv.zip'\n",
        "df_field_key = mylib.tsv_to_df(url)\n",
        "df_field_key"
      ],
      "execution_count": null,
      "outputs": [
        {
          "output_type": "execute_result",
          "data": {
            "text/html": [
              "<div>\n",
              "<style scoped>\n",
              "    .dataframe tbody tr th:only-of-type {\n",
              "        vertical-align: middle;\n",
              "    }\n",
              "\n",
              "    .dataframe tbody tr th {\n",
              "        vertical-align: top;\n",
              "    }\n",
              "\n",
              "    .dataframe thead th {\n",
              "        text-align: right;\n",
              "    }\n",
              "</style>\n",
              "<table border=\"1\" class=\"dataframe\">\n",
              "  <thead>\n",
              "    <tr style=\"text-align: right;\">\n",
              "      <th></th>\n",
              "      <th>id</th>\n",
              "      <th>sector_title</th>\n",
              "      <th>field_title</th>\n",
              "    </tr>\n",
              "  </thead>\n",
              "  <tbody>\n",
              "    <tr>\n",
              "      <th>0</th>\n",
              "      <td>1</td>\n",
              "      <td>Electrical engineering</td>\n",
              "      <td>Electrical machinery, apparatus, energy</td>\n",
              "    </tr>\n",
              "    <tr>\n",
              "      <th>1</th>\n",
              "      <td>10</td>\n",
              "      <td>Instruments</td>\n",
              "      <td>Measurement</td>\n",
              "    </tr>\n",
              "    <tr>\n",
              "      <th>2</th>\n",
              "      <td>11</td>\n",
              "      <td>Instruments</td>\n",
              "      <td>Analysis of biological materials</td>\n",
              "    </tr>\n",
              "    <tr>\n",
              "      <th>3</th>\n",
              "      <td>12</td>\n",
              "      <td>Instruments</td>\n",
              "      <td>Control</td>\n",
              "    </tr>\n",
              "    <tr>\n",
              "      <th>4</th>\n",
              "      <td>13</td>\n",
              "      <td>Instruments</td>\n",
              "      <td>Medical technology</td>\n",
              "    </tr>\n",
              "    <tr>\n",
              "      <th>...</th>\n",
              "      <td>...</td>\n",
              "      <td>...</td>\n",
              "      <td>...</td>\n",
              "    </tr>\n",
              "    <tr>\n",
              "      <th>65</th>\n",
              "      <td>D30</td>\n",
              "      <td>Design</td>\n",
              "      <td>Articles for the care and handling of animals</td>\n",
              "    </tr>\n",
              "    <tr>\n",
              "      <th>66</th>\n",
              "      <td>D31</td>\n",
              "      <td>Design</td>\n",
              "      <td>Machines and appliances for preparing food or ...</td>\n",
              "    </tr>\n",
              "    <tr>\n",
              "      <th>67</th>\n",
              "      <td>D32</td>\n",
              "      <td>Design</td>\n",
              "      <td>Graphic symbols and logos, surface patterns, o...</td>\n",
              "    </tr>\n",
              "    <tr>\n",
              "      <th>68</th>\n",
              "      <td>D34</td>\n",
              "      <td>Design</td>\n",
              "      <td>Material or Article Handling Equipment</td>\n",
              "    </tr>\n",
              "    <tr>\n",
              "      <th>69</th>\n",
              "      <td>D99</td>\n",
              "      <td>Design</td>\n",
              "      <td>Miscellaneous</td>\n",
              "    </tr>\n",
              "  </tbody>\n",
              "</table>\n",
              "<p>70 rows × 3 columns</p>\n",
              "</div>"
            ],
            "text/plain": [
              "     id  ...                                        field_title\n",
              "0     1  ...            Electrical machinery, apparatus, energy\n",
              "1    10  ...                                        Measurement\n",
              "2    11  ...                   Analysis of biological materials\n",
              "3    12  ...                                            Control\n",
              "4    13  ...                                 Medical technology\n",
              "..  ...  ...                                                ...\n",
              "65  D30  ...      Articles for the care and handling of animals\n",
              "66  D31  ...  Machines and appliances for preparing food or ...\n",
              "67  D32  ...  Graphic symbols and logos, surface patterns, o...\n",
              "68  D34  ...             Material or Article Handling Equipment\n",
              "69  D99  ...                                      Miscellaneous\n",
              "\n",
              "[70 rows x 3 columns]"
            ]
          },
          "metadata": {
            "tags": []
          },
          "execution_count": 7
        }
      ]
    },
    {
      "cell_type": "code",
      "metadata": {
        "colab": {
          "base_uri": "https://localhost:8080/",
          "height": 417
        },
        "id": "O727nSmP51A9",
        "outputId": "74c5b7c7-3378-439a-acde-1963759e6011"
      },
      "source": [
        "# Merge dataframes to match 'field_id' with the sector title\n",
        "df_pats_w_sectors = df_field_lookup.merge(df_field_key, \n",
        "                                          left_on='field_id', \n",
        "                                          right_on='id')\n",
        "df_pats_w_sectors\n"
      ],
      "execution_count": null,
      "outputs": [
        {
          "output_type": "execute_result",
          "data": {
            "text/html": [
              "<div>\n",
              "<style scoped>\n",
              "    .dataframe tbody tr th:only-of-type {\n",
              "        vertical-align: middle;\n",
              "    }\n",
              "\n",
              "    .dataframe tbody tr th {\n",
              "        vertical-align: top;\n",
              "    }\n",
              "\n",
              "    .dataframe thead th {\n",
              "        text-align: right;\n",
              "    }\n",
              "</style>\n",
              "<table border=\"1\" class=\"dataframe\">\n",
              "  <thead>\n",
              "    <tr style=\"text-align: right;\">\n",
              "      <th></th>\n",
              "      <th>patent_id</th>\n",
              "      <th>field_id</th>\n",
              "      <th>sequence</th>\n",
              "      <th>id</th>\n",
              "      <th>sector_title</th>\n",
              "      <th>field_title</th>\n",
              "    </tr>\n",
              "  </thead>\n",
              "  <tbody>\n",
              "    <tr>\n",
              "      <th>0</th>\n",
              "      <td>10001059</td>\n",
              "      <td>31</td>\n",
              "      <td>1</td>\n",
              "      <td>31</td>\n",
              "      <td>Mechanical engineering</td>\n",
              "      <td>Mechanical elements</td>\n",
              "    </tr>\n",
              "    <tr>\n",
              "      <th>1</th>\n",
              "      <td>10053304</td>\n",
              "      <td>31</td>\n",
              "      <td>2</td>\n",
              "      <td>31</td>\n",
              "      <td>Mechanical engineering</td>\n",
              "      <td>Mechanical elements</td>\n",
              "    </tr>\n",
              "    <tr>\n",
              "      <th>2</th>\n",
              "      <td>10085485</td>\n",
              "      <td>31</td>\n",
              "      <td>3</td>\n",
              "      <td>31</td>\n",
              "      <td>Mechanical engineering</td>\n",
              "      <td>Mechanical elements</td>\n",
              "    </tr>\n",
              "    <tr>\n",
              "      <th>3</th>\n",
              "      <td>10138340</td>\n",
              "      <td>31</td>\n",
              "      <td>3</td>\n",
              "      <td>31</td>\n",
              "      <td>Mechanical engineering</td>\n",
              "      <td>Mechanical elements</td>\n",
              "    </tr>\n",
              "    <tr>\n",
              "      <th>4</th>\n",
              "      <td>10189524</td>\n",
              "      <td>31</td>\n",
              "      <td>3</td>\n",
              "      <td>31</td>\n",
              "      <td>Mechanical engineering</td>\n",
              "      <td>Mechanical elements</td>\n",
              "    </tr>\n",
              "    <tr>\n",
              "      <th>...</th>\n",
              "      <td>...</td>\n",
              "      <td>...</td>\n",
              "      <td>...</td>\n",
              "      <td>...</td>\n",
              "      <td>...</td>\n",
              "      <td>...</td>\n",
              "    </tr>\n",
              "    <tr>\n",
              "      <th>9999995</th>\n",
              "      <td>10818791</td>\n",
              "      <td>22</td>\n",
              "      <td>1</td>\n",
              "      <td>22</td>\n",
              "      <td>Chemistry</td>\n",
              "      <td>Micro-structural and nano-technology</td>\n",
              "    </tr>\n",
              "    <tr>\n",
              "      <th>9999996</th>\n",
              "      <td>10818792</td>\n",
              "      <td>22</td>\n",
              "      <td>1</td>\n",
              "      <td>22</td>\n",
              "      <td>Chemistry</td>\n",
              "      <td>Micro-structural and nano-technology</td>\n",
              "    </tr>\n",
              "    <tr>\n",
              "      <th>9999997</th>\n",
              "      <td>10818805</td>\n",
              "      <td>22</td>\n",
              "      <td>1</td>\n",
              "      <td>22</td>\n",
              "      <td>Chemistry</td>\n",
              "      <td>Micro-structural and nano-technology</td>\n",
              "    </tr>\n",
              "    <tr>\n",
              "      <th>9999998</th>\n",
              "      <td>10818835</td>\n",
              "      <td>22</td>\n",
              "      <td>2</td>\n",
              "      <td>22</td>\n",
              "      <td>Chemistry</td>\n",
              "      <td>Micro-structural and nano-technology</td>\n",
              "    </tr>\n",
              "    <tr>\n",
              "      <th>9999999</th>\n",
              "      <td>10818922</td>\n",
              "      <td>22</td>\n",
              "      <td>2</td>\n",
              "      <td>22</td>\n",
              "      <td>Chemistry</td>\n",
              "      <td>Micro-structural and nano-technology</td>\n",
              "    </tr>\n",
              "  </tbody>\n",
              "</table>\n",
              "<p>10000000 rows × 6 columns</p>\n",
              "</div>"
            ],
            "text/plain": [
              "        patent_id  ...                           field_title\n",
              "0        10001059  ...                   Mechanical elements\n",
              "1        10053304  ...                   Mechanical elements\n",
              "2        10085485  ...                   Mechanical elements\n",
              "3        10138340  ...                   Mechanical elements\n",
              "4        10189524  ...                   Mechanical elements\n",
              "...           ...  ...                                   ...\n",
              "9999995  10818791  ...  Micro-structural and nano-technology\n",
              "9999996  10818792  ...  Micro-structural and nano-technology\n",
              "9999997  10818805  ...  Micro-structural and nano-technology\n",
              "9999998  10818835  ...  Micro-structural and nano-technology\n",
              "9999999  10818922  ...  Micro-structural and nano-technology\n",
              "\n",
              "[10000000 rows x 6 columns]"
            ]
          },
          "metadata": {
            "tags": []
          },
          "execution_count": 8
        }
      ]
    },
    {
      "cell_type": "code",
      "metadata": {
        "id": "kihnefEzYK7w",
        "colab": {
          "base_uri": "https://localhost:8080/",
          "height": 417
        },
        "outputId": "262506a8-f662-498f-d275-4f656e2f73da"
      },
      "source": [
        "# drop unnecessary columns\n",
        "df_pats_w_sectors = df_pats_w_sectors.drop(['field_id', 'sequence', 'id'], \n",
        "                                           axis=1)\n",
        "df_pats_w_sectors"
      ],
      "execution_count": null,
      "outputs": [
        {
          "output_type": "execute_result",
          "data": {
            "text/html": [
              "<div>\n",
              "<style scoped>\n",
              "    .dataframe tbody tr th:only-of-type {\n",
              "        vertical-align: middle;\n",
              "    }\n",
              "\n",
              "    .dataframe tbody tr th {\n",
              "        vertical-align: top;\n",
              "    }\n",
              "\n",
              "    .dataframe thead th {\n",
              "        text-align: right;\n",
              "    }\n",
              "</style>\n",
              "<table border=\"1\" class=\"dataframe\">\n",
              "  <thead>\n",
              "    <tr style=\"text-align: right;\">\n",
              "      <th></th>\n",
              "      <th>patent_id</th>\n",
              "      <th>sector_title</th>\n",
              "      <th>field_title</th>\n",
              "    </tr>\n",
              "  </thead>\n",
              "  <tbody>\n",
              "    <tr>\n",
              "      <th>0</th>\n",
              "      <td>10001059</td>\n",
              "      <td>Mechanical engineering</td>\n",
              "      <td>Mechanical elements</td>\n",
              "    </tr>\n",
              "    <tr>\n",
              "      <th>1</th>\n",
              "      <td>10053304</td>\n",
              "      <td>Mechanical engineering</td>\n",
              "      <td>Mechanical elements</td>\n",
              "    </tr>\n",
              "    <tr>\n",
              "      <th>2</th>\n",
              "      <td>10085485</td>\n",
              "      <td>Mechanical engineering</td>\n",
              "      <td>Mechanical elements</td>\n",
              "    </tr>\n",
              "    <tr>\n",
              "      <th>3</th>\n",
              "      <td>10138340</td>\n",
              "      <td>Mechanical engineering</td>\n",
              "      <td>Mechanical elements</td>\n",
              "    </tr>\n",
              "    <tr>\n",
              "      <th>4</th>\n",
              "      <td>10189524</td>\n",
              "      <td>Mechanical engineering</td>\n",
              "      <td>Mechanical elements</td>\n",
              "    </tr>\n",
              "    <tr>\n",
              "      <th>...</th>\n",
              "      <td>...</td>\n",
              "      <td>...</td>\n",
              "      <td>...</td>\n",
              "    </tr>\n",
              "    <tr>\n",
              "      <th>9999995</th>\n",
              "      <td>10818791</td>\n",
              "      <td>Chemistry</td>\n",
              "      <td>Micro-structural and nano-technology</td>\n",
              "    </tr>\n",
              "    <tr>\n",
              "      <th>9999996</th>\n",
              "      <td>10818792</td>\n",
              "      <td>Chemistry</td>\n",
              "      <td>Micro-structural and nano-technology</td>\n",
              "    </tr>\n",
              "    <tr>\n",
              "      <th>9999997</th>\n",
              "      <td>10818805</td>\n",
              "      <td>Chemistry</td>\n",
              "      <td>Micro-structural and nano-technology</td>\n",
              "    </tr>\n",
              "    <tr>\n",
              "      <th>9999998</th>\n",
              "      <td>10818835</td>\n",
              "      <td>Chemistry</td>\n",
              "      <td>Micro-structural and nano-technology</td>\n",
              "    </tr>\n",
              "    <tr>\n",
              "      <th>9999999</th>\n",
              "      <td>10818922</td>\n",
              "      <td>Chemistry</td>\n",
              "      <td>Micro-structural and nano-technology</td>\n",
              "    </tr>\n",
              "  </tbody>\n",
              "</table>\n",
              "<p>10000000 rows × 3 columns</p>\n",
              "</div>"
            ],
            "text/plain": [
              "        patent_id            sector_title                           field_title\n",
              "0        10001059  Mechanical engineering                   Mechanical elements\n",
              "1        10053304  Mechanical engineering                   Mechanical elements\n",
              "2        10085485  Mechanical engineering                   Mechanical elements\n",
              "3        10138340  Mechanical engineering                   Mechanical elements\n",
              "4        10189524  Mechanical engineering                   Mechanical elements\n",
              "...           ...                     ...                                   ...\n",
              "9999995  10818791               Chemistry  Micro-structural and nano-technology\n",
              "9999996  10818792               Chemistry  Micro-structural and nano-technology\n",
              "9999997  10818805               Chemistry  Micro-structural and nano-technology\n",
              "9999998  10818835               Chemistry  Micro-structural and nano-technology\n",
              "9999999  10818922               Chemistry  Micro-structural and nano-technology\n",
              "\n",
              "[10000000 rows x 3 columns]"
            ]
          },
          "metadata": {
            "tags": []
          },
          "execution_count": 9
        }
      ]
    },
    {
      "cell_type": "code",
      "metadata": {
        "id": "AJuzXvLUa-ph"
      },
      "source": [
        "# Store as pickle for using in another notebook\n",
        "df_pats_w_sectors.to_pickle('data/pats_w_sectors.pkl')"
      ],
      "execution_count": null,
      "outputs": []
    },
    {
      "cell_type": "markdown",
      "metadata": {
        "id": "O7WTgKrXoplx"
      },
      "source": [
        "Now, get the claims for each patent, which is a large amount of data. We will pair this down to the 1st claim, which is typically the most important."
      ]
    },
    {
      "cell_type": "code",
      "metadata": {
        "id": "VAqFYSgrK3uX"
      },
      "source": [
        "def clean_tsv(df, cols2drop):\n",
        "  df = df.drop(cols2drop, axis=1)\n",
        "\n",
        "  # get rid of reissue, design, and plant patents\n",
        "  df = df[df.patent_id.str.isnumeric()==True]\n",
        "\n",
        "  # make sure dtype for patid is integer\n",
        "  df.patent_id = df.patent_id.astype('int64')\n",
        "\n",
        "  # keep only rows with 1st claim, then drop column\n",
        "  df = df[df.claim_number=='00001']\n",
        "  df = df.drop('claim_number', axis=1)\n",
        "\n",
        "  return df"
      ],
      "execution_count": null,
      "outputs": []
    },
    {
      "cell_type": "code",
      "metadata": {
        "colab": {
          "base_uri": "https://localhost:8080/",
          "height": 203
        },
        "id": "Y-zmfVwhH3gt",
        "outputId": "2a9ad50e-839a-4562-b716-a2db79fab53d"
      },
      "source": [
        "# Load 2020 data\n",
        "url = 'https://s3.amazonaws.com/data.patentsview.org/claims/claims_2020.tsv.zip'\n",
        "df = mylib.tsv_to_df(url)\n",
        "df.head()"
      ],
      "execution_count": null,
      "outputs": [
        {
          "output_type": "execute_result",
          "data": {
            "text/html": [
              "<div>\n",
              "<style scoped>\n",
              "    .dataframe tbody tr th:only-of-type {\n",
              "        vertical-align: middle;\n",
              "    }\n",
              "\n",
              "    .dataframe tbody tr th {\n",
              "        vertical-align: top;\n",
              "    }\n",
              "\n",
              "    .dataframe thead th {\n",
              "        text-align: right;\n",
              "    }\n",
              "</style>\n",
              "<table border=\"1\" class=\"dataframe\">\n",
              "  <thead>\n",
              "    <tr style=\"text-align: right;\">\n",
              "      <th></th>\n",
              "      <th>uuid</th>\n",
              "      <th>patent_id</th>\n",
              "      <th>text</th>\n",
              "      <th>dependent</th>\n",
              "      <th>sequence</th>\n",
              "      <th>num</th>\n",
              "      <th>exemplary</th>\n",
              "    </tr>\n",
              "  </thead>\n",
              "  <tbody>\n",
              "    <tr>\n",
              "      <th>0</th>\n",
              "      <td>87720c54-7d3e-11ea-83c3-121df0c29c1e</td>\n",
              "      <td>10524402</td>\n",
              "      <td>1. A method comprising: capturing an image of ...</td>\n",
              "      <td>NaN</td>\n",
              "      <td>0</td>\n",
              "      <td>00001</td>\n",
              "      <td>1</td>\n",
              "    </tr>\n",
              "    <tr>\n",
              "      <th>1</th>\n",
              "      <td>87720dc3-7d3e-11ea-83c3-121df0c29c1e</td>\n",
              "      <td>10524402</td>\n",
              "      <td>2. The method of claim 1 , wherein identifying...</td>\n",
              "      <td>claim 1</td>\n",
              "      <td>1</td>\n",
              "      <td>00002</td>\n",
              "      <td>0</td>\n",
              "    </tr>\n",
              "    <tr>\n",
              "      <th>2</th>\n",
              "      <td>877214e9-7d3e-11ea-83c3-121df0c29c1e</td>\n",
              "      <td>10524402</td>\n",
              "      <td>3. The method of claim 1 , wherein the propert...</td>\n",
              "      <td>claim 1</td>\n",
              "      <td>2</td>\n",
              "      <td>00003</td>\n",
              "      <td>0</td>\n",
              "    </tr>\n",
              "    <tr>\n",
              "      <th>3</th>\n",
              "      <td>87721630-7d3e-11ea-83c3-121df0c29c1e</td>\n",
              "      <td>10524402</td>\n",
              "      <td>4. The method of claim 1 , wherein selecting a...</td>\n",
              "      <td>claim 1</td>\n",
              "      <td>3</td>\n",
              "      <td>00004</td>\n",
              "      <td>0</td>\n",
              "    </tr>\n",
              "    <tr>\n",
              "      <th>4</th>\n",
              "      <td>87721730-7d3e-11ea-83c3-121df0c29c1e</td>\n",
              "      <td>10524402</td>\n",
              "      <td>5. The method of claim 1 , wherein the propert...</td>\n",
              "      <td>claim 1</td>\n",
              "      <td>4</td>\n",
              "      <td>00005</td>\n",
              "      <td>0</td>\n",
              "    </tr>\n",
              "  </tbody>\n",
              "</table>\n",
              "</div>"
            ],
            "text/plain": [
              "                                   uuid patent_id  ...    num exemplary\n",
              "0  87720c54-7d3e-11ea-83c3-121df0c29c1e  10524402  ...  00001         1\n",
              "1  87720dc3-7d3e-11ea-83c3-121df0c29c1e  10524402  ...  00002         0\n",
              "2  877214e9-7d3e-11ea-83c3-121df0c29c1e  10524402  ...  00003         0\n",
              "3  87721630-7d3e-11ea-83c3-121df0c29c1e  10524402  ...  00004         0\n",
              "4  87721730-7d3e-11ea-83c3-121df0c29c1e  10524402  ...  00005         0\n",
              "\n",
              "[5 rows x 7 columns]"
            ]
          },
          "metadata": {
            "tags": []
          },
          "execution_count": 12
        }
      ]
    },
    {
      "cell_type": "code",
      "metadata": {
        "colab": {
          "base_uri": "https://localhost:8080/",
          "height": 417
        },
        "id": "cva-vR6Ss0F8",
        "outputId": "63e88eb2-572f-4a61-ca18-f1e0121df8c5"
      },
      "source": [
        "# Need to process 2020 data differently from other data since it is formatted \n",
        "# differently from other years\n",
        "\n",
        "# rename num column since num name causes issues\n",
        "df = df.rename(columns={'num':'claim_number'})\n",
        "\n",
        "# use my cleaning function to clean up df\n",
        "cols2drop=['uuid', 'sequence', 'exemplary', 'dependent']\n",
        "df = clean_tsv(df, cols2drop)\n",
        "\n",
        "# start master dataframe to collect data for all years\n",
        "df_master = df\n",
        "del df\n",
        "gc.collect()\n",
        "df_master"
      ],
      "execution_count": null,
      "outputs": [
        {
          "output_type": "execute_result",
          "data": {
            "text/html": [
              "<div>\n",
              "<style scoped>\n",
              "    .dataframe tbody tr th:only-of-type {\n",
              "        vertical-align: middle;\n",
              "    }\n",
              "\n",
              "    .dataframe tbody tr th {\n",
              "        vertical-align: top;\n",
              "    }\n",
              "\n",
              "    .dataframe thead th {\n",
              "        text-align: right;\n",
              "    }\n",
              "</style>\n",
              "<table border=\"1\" class=\"dataframe\">\n",
              "  <thead>\n",
              "    <tr style=\"text-align: right;\">\n",
              "      <th></th>\n",
              "      <th>patent_id</th>\n",
              "      <th>text</th>\n",
              "    </tr>\n",
              "  </thead>\n",
              "  <tbody>\n",
              "    <tr>\n",
              "      <th>0</th>\n",
              "      <td>10524402</td>\n",
              "      <td>1. A method comprising: capturing an image of ...</td>\n",
              "    </tr>\n",
              "    <tr>\n",
              "      <th>24</th>\n",
              "      <td>10524403</td>\n",
              "      <td>1. A method for determining a weight of a payl...</td>\n",
              "    </tr>\n",
              "    <tr>\n",
              "      <th>29</th>\n",
              "      <td>10524404</td>\n",
              "      <td>1. A break-away assembly, comprising: a swivel...</td>\n",
              "    </tr>\n",
              "    <tr>\n",
              "      <th>49</th>\n",
              "      <td>10524405</td>\n",
              "      <td>1. An agricultural implement system, comprisin...</td>\n",
              "    </tr>\n",
              "    <tr>\n",
              "      <th>59</th>\n",
              "      <td>10524406</td>\n",
              "      <td>1. A hitch comprising: a tractor; a towed or s...</td>\n",
              "    </tr>\n",
              "    <tr>\n",
              "      <th>...</th>\n",
              "      <td>...</td>\n",
              "      <td>...</td>\n",
              "    </tr>\n",
              "    <tr>\n",
              "      <th>5888339</th>\n",
              "      <td>10881037</td>\n",
              "      <td>1. A method of manufacturing a printed circuit...</td>\n",
              "    </tr>\n",
              "    <tr>\n",
              "      <th>5888358</th>\n",
              "      <td>10881038</td>\n",
              "      <td>1. A control system for a motor vehicle, in pa...</td>\n",
              "    </tr>\n",
              "    <tr>\n",
              "      <th>5888378</th>\n",
              "      <td>10881039</td>\n",
              "      <td>1. An Electromagnetic Interference shielding f...</td>\n",
              "    </tr>\n",
              "    <tr>\n",
              "      <th>5888398</th>\n",
              "      <td>10881040</td>\n",
              "      <td>1. An adjustable mobile cart, including: at le...</td>\n",
              "    </tr>\n",
              "    <tr>\n",
              "      <th>5888418</th>\n",
              "      <td>10881041</td>\n",
              "      <td>1. A feeder device that is equipped in a compo...</td>\n",
              "    </tr>\n",
              "  </tbody>\n",
              "</table>\n",
              "<p>354141 rows × 2 columns</p>\n",
              "</div>"
            ],
            "text/plain": [
              "         patent_id                                               text\n",
              "0         10524402  1. A method comprising: capturing an image of ...\n",
              "24        10524403  1. A method for determining a weight of a payl...\n",
              "29        10524404  1. A break-away assembly, comprising: a swivel...\n",
              "49        10524405  1. An agricultural implement system, comprisin...\n",
              "59        10524406  1. A hitch comprising: a tractor; a towed or s...\n",
              "...            ...                                                ...\n",
              "5888339   10881037  1. A method of manufacturing a printed circuit...\n",
              "5888358   10881038  1. A control system for a motor vehicle, in pa...\n",
              "5888378   10881039  1. An Electromagnetic Interference shielding f...\n",
              "5888398   10881040  1. An adjustable mobile cart, including: at le...\n",
              "5888418   10881041  1. A feeder device that is equipped in a compo...\n",
              "\n",
              "[354141 rows x 2 columns]"
            ]
          },
          "metadata": {
            "tags": []
          },
          "execution_count": 13
        }
      ]
    },
    {
      "cell_type": "code",
      "metadata": {
        "id": "BUtnmw3FKOS1"
      },
      "source": [
        "# Iterate to load 2011 - 2019 to round out 10 years of data\n",
        "years = range(2011,2020,1)\n",
        "cols2drop = ['uuid', 'sequence', 'exemplary', 'dependent', \n",
        "             'patent_date','created_date', 'updated_date']\n",
        "for year in years:\n",
        "  url = f'https://s3.amazonaws.com/data.patentsview.org/claims/claims_{year}.tsv.zip'\n",
        "  df = clean_tsv(mylib.tsv_to_df(url), cols2drop) # download and clean\n",
        "  df_master = df_master.append(df, ignore_index=True) # append to master df\n",
        "  del df\n",
        "  gc.collect()"
      ],
      "execution_count": null,
      "outputs": []
    },
    {
      "cell_type": "code",
      "metadata": {
        "colab": {
          "base_uri": "https://localhost:8080/"
        },
        "id": "8lQNjlto01tS",
        "outputId": "e5d83de2-2389-4c7a-9bb0-d8fb2915575e"
      },
      "source": [
        "df_master.info()"
      ],
      "execution_count": null,
      "outputs": [
        {
          "output_type": "stream",
          "text": [
            "<class 'pandas.core.frame.DataFrame'>\n",
            "RangeIndex: 3001035 entries, 0 to 3001034\n",
            "Data columns (total 2 columns):\n",
            " #   Column     Dtype \n",
            "---  ------     ----- \n",
            " 0   patent_id  int64 \n",
            " 1   text       object\n",
            "dtypes: int64(1), object(1)\n",
            "memory usage: 45.8+ MB\n"
          ],
          "name": "stdout"
        }
      ]
    },
    {
      "cell_type": "code",
      "metadata": {
        "id": "vitiOjxNTSdB"
      },
      "source": [
        "# Store as pickle for using in another notebook\n",
        "df_master.to_pickle('data/master_data.pkl')"
      ],
      "execution_count": null,
      "outputs": []
    }
  ]
}