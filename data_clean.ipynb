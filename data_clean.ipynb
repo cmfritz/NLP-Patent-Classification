{
  "nbformat": 4,
  "nbformat_minor": 0,
  "metadata": {
    "colab": {
      "name": "data_clean.ipynb",
      "provenance": [],
      "collapsed_sections": [],
      "authorship_tag": "ABX9TyMLUXZgOl7opb/0asH9pPTq",
      "include_colab_link": true
    },
    "kernelspec": {
      "name": "python3",
      "display_name": "Python 3"
    },
    "language_info": {
      "name": "python"
    }
  },
  "cells": [
    {
      "cell_type": "markdown",
      "metadata": {
        "id": "view-in-github",
        "colab_type": "text"
      },
      "source": [
        "<a href=\"https://colab.research.google.com/github/cmfritz/capstone/blob/main/data_clean.ipynb\" target=\"_parent\"><img src=\"https://colab.research.google.com/assets/colab-badge.svg\" alt=\"Open In Colab\"/></a>"
      ]
    },
    {
      "cell_type": "code",
      "metadata": {
        "colab": {
          "base_uri": "https://localhost:8080/"
        },
        "id": "Fam9qFd6MLrg",
        "outputId": "12ebf8e4-6143-4ba2-eff5-1cf75466c82b"
      },
      "source": [
        "import pandas as pd\n",
        "from google.colab import drive\n",
        "drive.mount('/content/gdrive')"
      ],
      "execution_count": null,
      "outputs": [
        {
          "output_type": "stream",
          "text": [
            "Mounted at /content/gdrive\n"
          ],
          "name": "stdout"
        }
      ]
    },
    {
      "cell_type": "code",
      "metadata": {
        "colab": {
          "base_uri": "https://localhost:8080/"
        },
        "id": "J9TDC2OcMee3",
        "outputId": "8110cc67-f03c-4680-d2a7-39640fc1c5ca"
      },
      "source": [
        "%cd /content/gdrive/My Drive/Github/capstone"
      ],
      "execution_count": null,
      "outputs": [
        {
          "output_type": "stream",
          "text": [
            "/content/gdrive/My Drive/Github/capstone\n"
          ],
          "name": "stdout"
        }
      ]
    },
    {
      "cell_type": "code",
      "metadata": {
        "id": "aT4k1sw9MaVU"
      },
      "source": [
        "# import my custom library into colab\n",
        "import sys\n",
        "sys.path.append('/content/gdrive/MyDrive/Github/capstone/')\n",
        "import mylibrary as mylib"
      ],
      "execution_count": null,
      "outputs": []
    },
    {
      "cell_type": "code",
      "metadata": {
        "id": "w3YwOERGM4rG"
      },
      "source": [
        "df = pd.read_pickle('data/master_data.pkl')\n",
        "df_pats_w_sectors = pd.read_pickle('data/pats_w_sectors.pkl')"
      ],
      "execution_count": null,
      "outputs": []
    },
    {
      "cell_type": "code",
      "metadata": {
        "id": "u_dNuISXMP8x"
      },
      "source": [
        "df_master = mylib.merge_and_clean(df_pats_w_sectors, df)"
      ],
      "execution_count": null,
      "outputs": []
    },
    {
      "cell_type": "code",
      "metadata": {
        "id": "-JVI1UlWMSJl"
      },
      "source": [
        "df_master.to_pickle('data/data_4_analysis.pkl')"
      ],
      "execution_count": null,
      "outputs": []
    }
  ]
}