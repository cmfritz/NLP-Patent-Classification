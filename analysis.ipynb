{
  "nbformat": 4,
  "nbformat_minor": 0,
  "metadata": {
    "colab": {
      "name": "analysis.ipynb",
      "provenance": [],
      "collapsed_sections": [],
      "machine_shape": "hm",
      "mount_file_id": "1w_uZBFn0PNj-Y84lYlQzkLDpqRVY4dKh",
      "authorship_tag": "ABX9TyPAnC+M4O6yp7noXxXzDLu7",
      "include_colab_link": true
    },
    "kernelspec": {
      "display_name": "Python 3",
      "name": "python3"
    },
    "language_info": {
      "name": "python"
    }
  },
  "cells": [
    {
      "cell_type": "markdown",
      "metadata": {
        "id": "view-in-github",
        "colab_type": "text"
      },
      "source": [
        "<a href=\"https://colab.research.google.com/github/cmfritz/capstone/blob/main/analysis.ipynb\" target=\"_parent\"><img src=\"https://colab.research.google.com/assets/colab-badge.svg\" alt=\"Open In Colab\"/></a>"
      ]
    },
    {
      "cell_type": "code",
      "metadata": {
        "colab": {
          "base_uri": "https://localhost:8080/"
        },
        "id": "VceD5ruAqjJC",
        "outputId": "025255da-fa7b-4952-d080-3ee70ae57d24"
      },
      "source": [
        "#import packages\n",
        "import pandas as pd\n",
        "import numpy as np\n",
        "import string\n",
        "import re\n",
        "from matplotlib import pyplot as plt\n",
        "import seaborn as sns\n",
        "import nltk\n",
        "\n",
        "from nltk import FreqDist, word_tokenize\n",
        "from nltk.tokenize import TweetTokenizer\n",
        "from nltk.stem import WordNetLemmatizer \n",
        "from wordcloud import WordCloud, STOPWORDS\n",
        "\n",
        "from nltk.corpus import stopwords\n",
        "from sklearn.feature_extraction.text import TfidfVectorizer\n",
        "\n",
        "import xgboost as xgb\n",
        "from xgboost import XGBClassifier, plot_importance\n",
        "from sklearn.pipeline import Pipeline\n",
        "from sklearn.linear_model import LogisticRegression\n",
        "from sklearn.model_selection import train_test_split, GridSearchCV\n",
        "from sklearn.preprocessing import LabelEncoder\n",
        "from sklearn.feature_extraction.text import CountVectorizer\n",
        "from sklearn.tree import DecisionTreeClassifier \n",
        "from sklearn.metrics import accuracy_score, plot_confusion_matrix\n",
        "from sklearn.metrics import confusion_matrix, precision_recall_curve, f1_score, recall_score\n",
        "from imblearn.over_sampling import SMOTE"
      ],
      "execution_count": 1,
      "outputs": [
        {
          "output_type": "stream",
          "text": [
            "/usr/local/lib/python3.7/dist-packages/sklearn/externals/six.py:31: FutureWarning: The module is deprecated in version 0.21 and will be removed in version 0.23 since we've dropped support for Python 2.7. Please rely on the official version of six (https://pypi.org/project/six/).\n",
            "  \"(https://pypi.org/project/six/).\", FutureWarning)\n",
            "/usr/local/lib/python3.7/dist-packages/sklearn/utils/deprecation.py:144: FutureWarning: The sklearn.neighbors.base module is  deprecated in version 0.22 and will be removed in version 0.24. The corresponding classes / functions should instead be imported from sklearn.neighbors. Anything that cannot be imported from sklearn.neighbors is now part of the private API.\n",
            "  warnings.warn(message, FutureWarning)\n"
          ],
          "name": "stderr"
        }
      ]
    },
    {
      "cell_type": "code",
      "metadata": {
        "colab": {
          "base_uri": "https://localhost:8080/"
        },
        "id": "DMNbJ0ihVwsF",
        "outputId": "b6c72cd0-8097-4917-f1f5-d890b4ad35fe"
      },
      "source": [
        "from google.colab import drive\n",
        "drive.mount('/content/gdrive')\n",
        "\n",
        "# import my custom library into colab\n",
        "import sys\n",
        "sys.path.append('/content/gdrive/MyDrive/Github/capstone/')\n",
        "import mylibrary as mylib"
      ],
      "execution_count": 2,
      "outputs": [
        {
          "output_type": "stream",
          "text": [
            "Mounted at /content/gdrive\n"
          ],
          "name": "stdout"
        }
      ]
    },
    {
      "cell_type": "code",
      "metadata": {
        "colab": {
          "base_uri": "https://localhost:8080/"
        },
        "id": "jgL7LsnXzAqP",
        "outputId": "9db6d9d7-61c6-4b3e-9005-53920b551f5b"
      },
      "source": [
        "import nltk\n",
        "nltk.download('punkt')\n",
        "nltk.download('wordnet')\n",
        "nltk.download('stopwords')"
      ],
      "execution_count": 3,
      "outputs": [
        {
          "output_type": "stream",
          "text": [
            "[nltk_data] Downloading package punkt to /root/nltk_data...\n",
            "[nltk_data]   Package punkt is already up-to-date!\n",
            "[nltk_data] Downloading package wordnet to /root/nltk_data...\n",
            "[nltk_data]   Package wordnet is already up-to-date!\n",
            "[nltk_data] Downloading package stopwords to /root/nltk_data...\n",
            "[nltk_data]   Package stopwords is already up-to-date!\n"
          ],
          "name": "stdout"
        },
        {
          "output_type": "execute_result",
          "data": {
            "text/plain": [
              "True"
            ]
          },
          "metadata": {
            "tags": []
          },
          "execution_count": 3
        }
      ]
    },
    {
      "cell_type": "code",
      "metadata": {
        "colab": {
          "base_uri": "https://localhost:8080/"
        },
        "id": "zV7eOfAv-7PP",
        "outputId": "1790a69c-c8c0-4fa0-92b8-87df90581bcb"
      },
      "source": [
        "%cd /content/gdrive/My Drive/Github/capstone"
      ],
      "execution_count": 4,
      "outputs": [
        {
          "output_type": "stream",
          "text": [
            "/content/gdrive/My Drive/Github/capstone\n"
          ],
          "name": "stdout"
        }
      ]
    },
    {
      "cell_type": "code",
      "metadata": {
        "id": "3t3TRdOBnzir"
      },
      "source": [
        "df = pd.read_pickle('data/data_4_analysis.pkl')"
      ],
      "execution_count": 5,
      "outputs": []
    },
    {
      "cell_type": "code",
      "metadata": {
        "colab": {
          "base_uri": "https://localhost:8080/",
          "height": 417
        },
        "id": "CB2DlGK_pR6t",
        "outputId": "32ecb203-2b9e-418a-9bd1-d8856ae61f0e"
      },
      "source": [
        "df_master = df[df.sector!='Other fields']\n",
        "df_master"
      ],
      "execution_count": 6,
      "outputs": [
        {
          "output_type": "execute_result",
          "data": {
            "text/html": [
              "<div>\n",
              "<style scoped>\n",
              "    .dataframe tbody tr th:only-of-type {\n",
              "        vertical-align: middle;\n",
              "    }\n",
              "\n",
              "    .dataframe tbody tr th {\n",
              "        vertical-align: top;\n",
              "    }\n",
              "\n",
              "    .dataframe thead th {\n",
              "        text-align: right;\n",
              "    }\n",
              "</style>\n",
              "<table border=\"1\" class=\"dataframe\">\n",
              "  <thead>\n",
              "    <tr style=\"text-align: right;\">\n",
              "      <th></th>\n",
              "      <th>patent_id</th>\n",
              "      <th>sector</th>\n",
              "      <th>text</th>\n",
              "    </tr>\n",
              "  </thead>\n",
              "  <tbody>\n",
              "    <tr>\n",
              "      <th>0</th>\n",
              "      <td>10001059</td>\n",
              "      <td>Mechanical engineering</td>\n",
              "      <td>1. A method of removing a tower shaft of a gas...</td>\n",
              "    </tr>\n",
              "    <tr>\n",
              "      <th>1</th>\n",
              "      <td>10189524</td>\n",
              "      <td>Mechanical engineering</td>\n",
              "      <td>1. A two-wheeled vehicle, comprising: a frame ...</td>\n",
              "    </tr>\n",
              "    <tr>\n",
              "      <th>2</th>\n",
              "      <td>10309306</td>\n",
              "      <td>Mechanical engineering</td>\n",
              "      <td>1. A turbofan engine comprising: a fan rotatab...</td>\n",
              "    </tr>\n",
              "    <tr>\n",
              "      <th>3</th>\n",
              "      <td>10427924</td>\n",
              "      <td>Mechanical engineering</td>\n",
              "      <td>1. An industrial truck comprising: a mast; a l...</td>\n",
              "    </tr>\n",
              "    <tr>\n",
              "      <th>4</th>\n",
              "      <td>10428949</td>\n",
              "      <td>Mechanical engineering</td>\n",
              "      <td>1. A header ring comprising: an opening; a rad...</td>\n",
              "    </tr>\n",
              "    <tr>\n",
              "      <th>...</th>\n",
              "      <td>...</td>\n",
              "      <td>...</td>\n",
              "      <td>...</td>\n",
              "    </tr>\n",
              "    <tr>\n",
              "      <th>2265879</th>\n",
              "      <td>10800649</td>\n",
              "      <td>Chemistry</td>\n",
              "      <td>1. A microelectromechanical systems (MEMS) dev...</td>\n",
              "    </tr>\n",
              "    <tr>\n",
              "      <th>2265880</th>\n",
              "      <td>10800650</td>\n",
              "      <td>Chemistry</td>\n",
              "      <td>1. A semiconductor device comprising: a cavity...</td>\n",
              "    </tr>\n",
              "    <tr>\n",
              "      <th>2265881</th>\n",
              "      <td>10807862</td>\n",
              "      <td>Chemistry</td>\n",
              "      <td>1. A semiconductor device, comprising: a semic...</td>\n",
              "    </tr>\n",
              "    <tr>\n",
              "      <th>2265882</th>\n",
              "      <td>10807863</td>\n",
              "      <td>Chemistry</td>\n",
              "      <td>1. A method for manufacturing micromechanical ...</td>\n",
              "    </tr>\n",
              "    <tr>\n",
              "      <th>2265883</th>\n",
              "      <td>10815120</td>\n",
              "      <td>Chemistry</td>\n",
              "      <td>1. A method of manufacturing a semiconductor d...</td>\n",
              "    </tr>\n",
              "  </tbody>\n",
              "</table>\n",
              "<p>2158667 rows × 3 columns</p>\n",
              "</div>"
            ],
            "text/plain": [
              "         patent_id  ...                                               text\n",
              "0         10001059  ...  1. A method of removing a tower shaft of a gas...\n",
              "1         10189524  ...  1. A two-wheeled vehicle, comprising: a frame ...\n",
              "2         10309306  ...  1. A turbofan engine comprising: a fan rotatab...\n",
              "3         10427924  ...  1. An industrial truck comprising: a mast; a l...\n",
              "4         10428949  ...  1. A header ring comprising: an opening; a rad...\n",
              "...            ...  ...                                                ...\n",
              "2265879   10800649  ...  1. A microelectromechanical systems (MEMS) dev...\n",
              "2265880   10800650  ...  1. A semiconductor device comprising: a cavity...\n",
              "2265881   10807862  ...  1. A semiconductor device, comprising: a semic...\n",
              "2265882   10807863  ...  1. A method for manufacturing micromechanical ...\n",
              "2265883   10815120  ...  1. A method of manufacturing a semiconductor d...\n",
              "\n",
              "[2158667 rows x 3 columns]"
            ]
          },
          "metadata": {
            "tags": []
          },
          "execution_count": 6
        }
      ]
    },
    {
      "cell_type": "code",
      "metadata": {
        "colab": {
          "base_uri": "https://localhost:8080/",
          "height": 417
        },
        "id": "t916veJiLLFn",
        "outputId": "341b83f6-380c-4526-d305-0c377fa816fe"
      },
      "source": [
        "# truncate data for testing purposes\n",
        "df = df_master[:int(len(df_master.patent_id)*0.2)]\n",
        "df"
      ],
      "execution_count": 7,
      "outputs": [
        {
          "output_type": "execute_result",
          "data": {
            "text/html": [
              "<div>\n",
              "<style scoped>\n",
              "    .dataframe tbody tr th:only-of-type {\n",
              "        vertical-align: middle;\n",
              "    }\n",
              "\n",
              "    .dataframe tbody tr th {\n",
              "        vertical-align: top;\n",
              "    }\n",
              "\n",
              "    .dataframe thead th {\n",
              "        text-align: right;\n",
              "    }\n",
              "</style>\n",
              "<table border=\"1\" class=\"dataframe\">\n",
              "  <thead>\n",
              "    <tr style=\"text-align: right;\">\n",
              "      <th></th>\n",
              "      <th>patent_id</th>\n",
              "      <th>sector</th>\n",
              "      <th>text</th>\n",
              "    </tr>\n",
              "  </thead>\n",
              "  <tbody>\n",
              "    <tr>\n",
              "      <th>0</th>\n",
              "      <td>10001059</td>\n",
              "      <td>Mechanical engineering</td>\n",
              "      <td>1. A method of removing a tower shaft of a gas...</td>\n",
              "    </tr>\n",
              "    <tr>\n",
              "      <th>1</th>\n",
              "      <td>10189524</td>\n",
              "      <td>Mechanical engineering</td>\n",
              "      <td>1. A two-wheeled vehicle, comprising: a frame ...</td>\n",
              "    </tr>\n",
              "    <tr>\n",
              "      <th>2</th>\n",
              "      <td>10309306</td>\n",
              "      <td>Mechanical engineering</td>\n",
              "      <td>1. A turbofan engine comprising: a fan rotatab...</td>\n",
              "    </tr>\n",
              "    <tr>\n",
              "      <th>3</th>\n",
              "      <td>10427924</td>\n",
              "      <td>Mechanical engineering</td>\n",
              "      <td>1. An industrial truck comprising: a mast; a l...</td>\n",
              "    </tr>\n",
              "    <tr>\n",
              "      <th>4</th>\n",
              "      <td>10428949</td>\n",
              "      <td>Mechanical engineering</td>\n",
              "      <td>1. A header ring comprising: an opening; a rad...</td>\n",
              "    </tr>\n",
              "    <tr>\n",
              "      <th>...</th>\n",
              "      <td>...</td>\n",
              "      <td>...</td>\n",
              "      <td>...</td>\n",
              "    </tr>\n",
              "    <tr>\n",
              "      <th>431728</th>\n",
              "      <td>9628646</td>\n",
              "      <td>Electrical engineering</td>\n",
              "      <td>1. An augmented reality operation system compr...</td>\n",
              "    </tr>\n",
              "    <tr>\n",
              "      <th>431729</th>\n",
              "      <td>9628648</td>\n",
              "      <td>Electrical engineering</td>\n",
              "      <td>1. A printing apparatus comprising: a receiver...</td>\n",
              "    </tr>\n",
              "    <tr>\n",
              "      <th>431730</th>\n",
              "      <td>9628659</td>\n",
              "      <td>Electrical engineering</td>\n",
              "      <td>1. A method for inspecting an object in a fiel...</td>\n",
              "    </tr>\n",
              "    <tr>\n",
              "      <th>431731</th>\n",
              "      <td>9628660</td>\n",
              "      <td>Electrical engineering</td>\n",
              "      <td>1. A method of recognizing a document image, t...</td>\n",
              "    </tr>\n",
              "    <tr>\n",
              "      <th>431732</th>\n",
              "      <td>9628662</td>\n",
              "      <td>Electrical engineering</td>\n",
              "      <td>1. A method comprising: receiving, into a prin...</td>\n",
              "    </tr>\n",
              "  </tbody>\n",
              "</table>\n",
              "<p>431733 rows × 3 columns</p>\n",
              "</div>"
            ],
            "text/plain": [
              "        patent_id  ...                                               text\n",
              "0        10001059  ...  1. A method of removing a tower shaft of a gas...\n",
              "1        10189524  ...  1. A two-wheeled vehicle, comprising: a frame ...\n",
              "2        10309306  ...  1. A turbofan engine comprising: a fan rotatab...\n",
              "3        10427924  ...  1. An industrial truck comprising: a mast; a l...\n",
              "4        10428949  ...  1. A header ring comprising: an opening; a rad...\n",
              "...           ...  ...                                                ...\n",
              "431728    9628646  ...  1. An augmented reality operation system compr...\n",
              "431729    9628648  ...  1. A printing apparatus comprising: a receiver...\n",
              "431730    9628659  ...  1. A method for inspecting an object in a fiel...\n",
              "431731    9628660  ...  1. A method of recognizing a document image, t...\n",
              "431732    9628662  ...  1. A method comprising: receiving, into a prin...\n",
              "\n",
              "[431733 rows x 3 columns]"
            ]
          },
          "metadata": {
            "tags": []
          },
          "execution_count": 7
        }
      ]
    },
    {
      "cell_type": "code",
      "metadata": {
        "colab": {
          "base_uri": "https://localhost:8080/",
          "height": 279
        },
        "id": "XEOiunB_8eye",
        "outputId": "f2b0f9a6-1d00-44d2-9c19-f779044f655f"
      },
      "source": [
        "# Look at the counts for each category\n",
        "ax = sns.countplot(x='sector', data=df, palette='viridis')"
      ],
      "execution_count": 8,
      "outputs": [
        {
          "output_type": "display_data",
          "data": {
            "image/png": "[encoded data removed]",
            "text/plain": [
              "<Figure size 432x288 with 1 Axes>"
            ]
          },
          "metadata": {
            "tags": [],
            "needs_background": "light"
          }
        }
      ]
    },
    {
      "cell_type": "code",
      "metadata": {
        "colab": {
          "base_uri": "https://localhost:8080/",
          "height": 279
        },
        "id": "LusqOVWD9mkI",
        "outputId": "a5b68824-998e-4234-d060-652ea24066a9"
      },
      "source": [
        "# drop large sectors\n",
        "df = df[df.sector != 'Electrical engineering'] # Deal with EE later\n",
        "df = df[df.sector != 'Chemistry']\n",
        "ax = sns.countplot(x='sector', data=df, palette='viridis')"
      ],
      "execution_count": 9,
      "outputs": [
        {
          "output_type": "display_data",
          "data": {
            "image/png": "[encoded data removed]",
            "text/plain": [
              "<Figure size 432x288 with 1 Axes>"
            ]
          },
          "metadata": {
            "tags": [],
            "needs_background": "light"
          }
        }
      ]
    },
    {
      "cell_type": "code",
      "metadata": {
        "id": "A6PoFSwFhbzK"
      },
      "source": [
        "y = df['sector']\n",
        "X = df['text']"
      ],
      "execution_count": 10,
      "outputs": []
    },
    {
      "cell_type": "code",
      "metadata": {
        "id": "toTAW-uWAESd"
      },
      "source": [
        "X_train, X_test, y_train, y_test = train_test_split(X, y, random_state = 42, test_size = 0.2)\n",
        "y_train.to_pickle('data/y_train.pkl')\n",
        "y_test.to_pickle('data/y_test.pkl')"
      ],
      "execution_count": 11,
      "outputs": []
    },
    {
      "cell_type": "code",
      "metadata": {
        "id": "qoXhrJAgyv_j"
      },
      "source": [
        "def tokenize(text):\n",
        "    # text = ''.join([ch for ch in text if ch not in string.punctuation])\n",
        "    tokens = nltk.word_tokenize(text)\n",
        "    lemmatizer = WordNetLemmatizer()\n",
        "    return [lemmatizer.lemmatize(token) for token in tokens]"
      ],
      "execution_count": 12,
      "outputs": []
    },
    {
      "cell_type": "code",
      "metadata": {
        "id": "s6F5J24I5RYl"
      },
      "source": [
        "# make nltk stoplist\n",
        "# can add extra features like year, length of document, avg length of words, etc.\n",
        "# TFIDF vectorizer instead of CountVectorizer"
      ],
      "execution_count": 13,
      "outputs": []
    },
    {
      "cell_type": "code",
      "metadata": {
        "id": "6g0vVMc3-kLA"
      },
      "source": [
        "# vec = CountVectorizer(ngram_range=(1,3),\n",
        "#                       tokenizer=tokenize, \n",
        "#                       stop_words='english')"
      ],
      "execution_count": 14,
      "outputs": []
    },
    {
      "cell_type": "code",
      "metadata": {
        "colab": {
          "base_uri": "https://localhost:8080/"
        },
        "id": "16m3WKssIne-",
        "outputId": "39abe6b9-aeb3-483e-b0d0-dc9f1ac33005"
      },
      "source": [
        "stop_words = stopwords.words('english')\n",
        "custom_stops = ['claim', 'claims', 'method', 'comprising', 'comprises', 'including', 'includes', 'according']\n",
        "[stop_words.append(word) for word in custom_stops]\n",
        "stop_words[-10:]"
      ],
      "execution_count": 15,
      "outputs": [
        {
          "output_type": "execute_result",
          "data": {
            "text/plain": [
              "['wouldn',\n",
              " \"wouldn't\",\n",
              " 'claim',\n",
              " 'claims',\n",
              " 'method',\n",
              " 'comprising',\n",
              " 'comprises',\n",
              " 'including',\n",
              " 'includes',\n",
              " 'according']"
            ]
          },
          "metadata": {
            "tags": []
          },
          "execution_count": 15
        }
      ]
    },
    {
      "cell_type": "code",
      "metadata": {
        "id": "k4_p71akHzWo"
      },
      "source": [
        "vec = TfidfVectorizer(ngram_range=(1,3),\n",
        "                      stop_words=stop_words,\n",
        "                      min_df=0.1,\n",
        "                      max_df=0.9)"
      ],
      "execution_count": 16,
      "outputs": []
    },
    {
      "cell_type": "code",
      "metadata": {
        "id": "d9zlEv4rA2Xt"
      },
      "source": [
        "X_train_transformed = vec.fit_transform(X_train)\n",
        "X_train = pd.DataFrame(X_train_transformed.toarray(), columns = vec.get_feature_names())\n",
        "X_train.to_pickle('data/X_train.pkl')\n",
        "\n",
        "X_test_transformed = vec.transform(X_test)\n",
        "X_test = pd.DataFrame(X_test_transformed.toarray(), columns = vec.get_feature_names())\n",
        "X_test.to_pickle('data/X_test.pkl')"
      ],
      "execution_count": 17,
      "outputs": []
    },
    {
      "cell_type": "code",
      "metadata": {
        "colab": {
          "base_uri": "https://localhost:8080/",
          "height": 295
        },
        "id": "mBBLxQs7R1TC",
        "outputId": "04815a3b-c935-4d77-e0ad-b7c701235ac6"
      },
      "source": [
        "# Initiate the model\n",
        "logreg = LogisticRegression(random_state=42, n_jobs=1)\n",
        "\n",
        "# Train and evaluate model\n",
        "logreg_scores = mylib.model_scores(logreg, 'logistic_regression',\n",
        "                                   X_train, X_test, \n",
        "                                   y_train, y_test)"
      ],
      "execution_count": 21,
      "outputs": [
        {
          "output_type": "display_data",
          "data": {
            "image/png": "[encoded data removed]",
            "text/plain": [
              "<Figure size 432x288 with 2 Axes>"
            ]
          },
          "metadata": {
            "tags": [],
            "needs_background": "light"
          }
        }
      ]
    },
    {
      "cell_type": "code",
      "metadata": {
        "colab": {
          "base_uri": "https://localhost:8080/",
          "height": 295
        },
        "id": "SdEmuJBzpw9y",
        "outputId": "fda7d3bb-e433-4275-98f3-be5e69529d04"
      },
      "source": [
        "# Initiate the model\n",
        "dt = DecisionTreeClassifier(random_state=42)  \n",
        "\n",
        "# Train and evaluate model\n",
        "dt_scores = mylib.model_scores(dt, 'decision_tree',\n",
        "                                   X_train, X_test, \n",
        "                                   y_train, y_test)"
      ],
      "execution_count": 25,
      "outputs": [
        {
          "output_type": "display_data",
          "data": {
            "image/png": "[encoded data removed]",
            "text/plain": [
              "<Figure size 432x288 with 2 Axes>"
            ]
          },
          "metadata": {
            "tags": [],
            "needs_background": "light"
          }
        }
      ]
    },
    {
      "cell_type": "code",
      "metadata": {
        "colab": {
          "base_uri": "https://localhost:8080/",
          "height": 295
        },
        "id": "iWGWkfXmIhz8",
        "outputId": "0becbea7-820b-407b-d52f-ad9caf182799"
      },
      "source": [
        "# Initiate the model\n",
        "xgb = XGBClassifier(random_state=42)\n",
        "\n",
        "# Train and evaluate model\n",
        "xgb_scores = mylib.model_scores(xgb, 'xg_boost',\n",
        "                                   X_train, X_test, \n",
        "                                   y_train, y_test)"
      ],
      "execution_count": 24,
      "outputs": [
        {
          "output_type": "display_data",
          "data": {
            "image/png": "[encoded data removed]",
            "text/plain": [
              "<Figure size 432x288 with 2 Axes>"
            ]
          },
          "metadata": {
            "tags": [],
            "needs_background": "light"
          }
        }
      ]
    },
    {
      "cell_type": "code",
      "metadata": {
        "colab": {
          "base_uri": "https://localhost:8080/",
          "height": 142
        },
        "id": "SFeUCkmuaoKy",
        "outputId": "d27c4594-b1a6-4c18-deb5-deb7daa18f44"
      },
      "source": [
        "scores = pd.concat([logreg_scores, dt_scores, xgb_scores])\n",
        "scores"
      ],
      "execution_count": 27,
      "outputs": [
        {
          "output_type": "execute_result",
          "data": {
            "text/html": [
              "<div>\n",
              "<style scoped>\n",
              "    .dataframe tbody tr th:only-of-type {\n",
              "        vertical-align: middle;\n",
              "    }\n",
              "\n",
              "    .dataframe tbody tr th {\n",
              "        vertical-align: top;\n",
              "    }\n",
              "\n",
              "    .dataframe thead th {\n",
              "        text-align: right;\n",
              "    }\n",
              "</style>\n",
              "<table border=\"1\" class=\"dataframe\">\n",
              "  <thead>\n",
              "    <tr style=\"text-align: right;\">\n",
              "      <th></th>\n",
              "      <th>train_accuracy</th>\n",
              "      <th>test_accuracy</th>\n",
              "      <th>train_recall</th>\n",
              "      <th>test_recall</th>\n",
              "      <th>train_f1</th>\n",
              "      <th>test_f1</th>\n",
              "    </tr>\n",
              "  </thead>\n",
              "  <tbody>\n",
              "    <tr>\n",
              "      <th>logistic_regression</th>\n",
              "      <td>0.858086</td>\n",
              "      <td>0.860247</td>\n",
              "      <td>0.863074</td>\n",
              "      <td>0.863822</td>\n",
              "      <td>0.875352</td>\n",
              "      <td>0.878264</td>\n",
              "    </tr>\n",
              "    <tr>\n",
              "      <th>decision_tree</th>\n",
              "      <td>0.998533</td>\n",
              "      <td>0.834042</td>\n",
              "      <td>0.999684</td>\n",
              "      <td>0.858603</td>\n",
              "      <td>0.998730</td>\n",
              "      <td>0.857927</td>\n",
              "    </tr>\n",
              "    <tr>\n",
              "      <th>xg_boost</th>\n",
              "      <td>0.877859</td>\n",
              "      <td>0.879505</td>\n",
              "      <td>0.894300</td>\n",
              "      <td>0.896765</td>\n",
              "      <td>0.894233</td>\n",
              "      <td>0.896765</td>\n",
              "    </tr>\n",
              "  </tbody>\n",
              "</table>\n",
              "</div>"
            ],
            "text/plain": [
              "                     train_accuracy  test_accuracy  ...  train_f1   test_f1\n",
              "logistic_regression        0.858086       0.860247  ...  0.875352  0.878264\n",
              "decision_tree              0.998533       0.834042  ...  0.998730  0.857927\n",
              "xg_boost                   0.877859       0.879505  ...  0.894233  0.896765\n",
              "\n",
              "[3 rows x 6 columns]"
            ]
          },
          "metadata": {
            "tags": []
          },
          "execution_count": 27
        }
      ]
    },
    {
      "cell_type": "code",
      "metadata": {
        "colab": {
          "base_uri": "https://localhost:8080/",
          "height": 298
        },
        "id": "GjqeQ0aegdHa",
        "outputId": "966bbd65-f79d-4bdb-edeb-aec552a8fb08"
      },
      "source": [
        "# get importance\n",
        "feature_names = X_train.columns\n",
        "\n",
        "# create dataframe of top features\n",
        "feature_importance = pd.DataFrame(feature_names, columns = ['feature'])\n",
        "feature_importance['importance'] = logreg.coef_[0]\n",
        "feature_importance = feature_importance.sort_values(by = ['importance'], ascending=False)\n",
        "\n",
        "# plot importance\n",
        "n = 20\n",
        "ax = feature_importance.iloc[:n].plot.barh(x='feature', y='importance', color='teal').invert_yaxis()\n",
        "plt.title(f'Feature Importance Top {n} - Logistic Regression')"
      ],
      "execution_count": 31,
      "outputs": [
        {
          "output_type": "execute_result",
          "data": {
            "text/plain": [
              "Text(0.5, 1.0, 'Feature Importance Top 20 - Logistic Regression')"
            ]
          },
          "metadata": {
            "tags": []
          },
          "execution_count": 31
        },
        {
          "output_type": "display_data",
          "data": {
            "image/png": "[encoded data removed]",
            "text/plain": [
              "<Figure size 432x288 with 1 Axes>"
            ]
          },
          "metadata": {
            "tags": [],
            "needs_background": "light"
          }
        }
      ]
    },
    {
      "cell_type": "code",
      "metadata": {
        "id": "rn7eOFMQqr-c"
      },
      "source": [
        "def run_grid_search(params, model, X_train, y_train):\n",
        "    '''\n",
        "    Takes in parameters, model, and test train data, runs grid search, and \n",
        "    returns updated model and test train data.\n",
        "    \n",
        "    Parameters: \n",
        "    params: dict with parameters for grid search\n",
        "    model: object containing initialized model for training\n",
        "    Xy: object containing train and test data for X and y sets\n",
        "    \n",
        "    Returns:\n",
        "    gs: object containing updated model\n",
        "    Xy: object with test train data\n",
        "    '''\n",
        "    gs = GridSearchCV(model, params, scoring='f1_macro', cv=None, n_jobs=1)\n",
        "    gs = gs.fit(X_train, y_train)\n",
        "    best_parameters = gs.best_params_\n",
        "\n",
        "    print('Grid Search found the following optimal parameters: ')\n",
        "    for param_name in sorted(best_parameters.keys()):\n",
        "        print('%s: %r' % (param_name, best_parameters[param_name]))\n",
        "\n",
        "    # Make predictions for test data\n",
        "    y_hat_train = gs.predict(X_train)\n",
        "    \n",
        "    # Make predictions for test data\n",
        "    y_hat_test = gs.predict(X_test)\n",
        "    \n",
        "    return gs, y_hat_train, y_hat_test"
      ],
      "execution_count": null,
      "outputs": []
    },
    {
      "cell_type": "code",
      "metadata": {
        "id": "XdFaMEjhqXWU"
      },
      "source": [
        "# define parameters to search\n",
        "params_dt = {\n",
        "    'criterion':['gini', 'entropy'],\n",
        "    'max_depth':range(6,10),\n",
        "    'min_samples_split':range(6,10),\n",
        "    'min_samples_leaf':range(3,5)\n",
        "    }\n",
        "\n",
        "# run grid search\n",
        "dt, y_hat_train, y_hat_test = run_grid_search(params_dt, dt, X_train, y_train)\n",
        "\n",
        "# Evaluate model\n",
        "model_scores(dt, \n",
        "             X_train, X_test, \n",
        "             y_train, y_test, \n",
        "             y_hat_train, y_hat_test)"
      ],
      "execution_count": null,
      "outputs": []
    },
    {
      "cell_type": "code",
      "metadata": {
        "colab": {
          "background_save": true
        },
        "id": "Qgf5HVS3RlbC",
        "outputId": "798d90bd-5186-4a5c-f46e-cca07661b488"
      },
      "source": [
        "# define parameters to search\n",
        "params_xgb = {\n",
        "    'booster':['gbtree', 'gblinear', 'dart'],\n",
        "    'max_delta_step ':[100, 10, 1, 0.1],\n",
        "    'max_depth':8\n",
        "    }\n",
        "\n",
        "# run grid search\n",
        "dt, y_hat_train, y_hat_test = run_grid_search(params_xgb, xgb, X_train, y_train)\n",
        "\n",
        "# Evaluate model\n",
        "model_scores(dt, \n",
        "             X_train, X_test, \n",
        "             y_train, y_test, \n",
        "             y_hat_train, y_hat_test)"
      ],
      "execution_count": null,
      "outputs": [
        {
          "output_type": "stream",
          "text": [
            "Grid Search found the following optimal parameters: \n",
            "booster: 'gbtree'\n",
            "max_delta_step : 10\n",
            "max_depth: 8\n",
            "n_estimators: 50\n",
            "Training Accuracy: 89.14%\n",
            "Test Accuracy: 88.29%\n",
            "\n",
            "Training Recall Score: 90.09%\n",
            "Test Recall Score: 89.5%\n",
            "\n",
            "Training F1 Score: 90.55%\n",
            "Test F1 Score: 89.92%\n",
            "\n",
            "Confusion Matrix for test data\n"
          ],
          "name": "stdout"
        },
        {
          "output_type": "display_data",
          "data": {
            "image/png": "[encoded data removed]",
            "text/plain": [
              "<Figure size 432x288 with 2 Axes>"
            ]
          },
          "metadata": {
            "tags": []
          }
        }
      ]
    }
  ]
}