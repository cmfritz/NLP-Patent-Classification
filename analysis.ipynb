{
  "nbformat": 4,
  "nbformat_minor": 0,
  "metadata": {
    "colab": {
      "name": "analysis.ipynb",
      "provenance": [],
      "collapsed_sections": [],
      "mount_file_id": "1w_uZBFn0PNj-Y84lYlQzkLDpqRVY4dKh",
      "authorship_tag": "ABX9TyOD+6tPqtyWV6AJvF5gDabT",
      "include_colab_link": true
    },
    "kernelspec": {
      "display_name": "Python 3",
      "name": "python3"
    },
    "language_info": {
      "name": "python"
    }
  },
  "cells": [
    {
      "cell_type": "markdown",
      "metadata": {
        "id": "view-in-github",
        "colab_type": "text"
      },
      "source": [
        "<a href=\"https://colab.research.google.com/github/cmfritz/capstone/blob/main/analysis.ipynb\" target=\"_parent\"><img src=\"https://colab.research.google.com/assets/colab-badge.svg\" alt=\"Open In Colab\"/></a>"
      ]
    },
    {
      "cell_type": "code",
      "metadata": {
        "colab": {
          "base_uri": "https://localhost:8080/"
        },
        "id": "VceD5ruAqjJC",
        "outputId": "cf7165ad-f375-46ce-e8d2-29c26884fb65"
      },
      "source": [
        "#import packages\n",
        "import pandas as pd\n",
        "import numpy as np\n",
        "import string\n",
        "import re\n",
        "from matplotlib import pyplot as plt\n",
        "import seaborn as sns\n",
        "import nltk\n",
        "from nltk.corpus import stopwords\n",
        "from nltk import FreqDist, word_tokenize\n",
        "from nltk.tokenize import TweetTokenizer\n",
        "from nltk.stem import WordNetLemmatizer \n",
        "from wordcloud import WordCloud, STOPWORDS\n",
        "\n",
        "import xgboost as xgb\n",
        "from xgboost import XGBClassifier, plot_importance\n",
        "from sklearn.linear_model import LogisticRegression\n",
        "from sklearn.model_selection import train_test_split, GridSearchCV\n",
        "from sklearn.preprocessing import LabelEncoder\n",
        "from sklearn.feature_extraction.text import CountVectorizer\n",
        "from sklearn.tree import DecisionTreeClassifier \n",
        "from sklearn.metrics import accuracy_score, plot_confusion_matrix\n",
        "from sklearn.metrics import confusion_matrix, precision_recall_curve, f1_score, recall_score\n",
        "from imblearn.over_sampling import SMOTE"
      ],
      "execution_count": null,
      "outputs": [
        {
          "output_type": "stream",
          "text": [
            "/usr/local/lib/python3.7/dist-packages/sklearn/externals/six.py:31: FutureWarning: The module is deprecated in version 0.21 and will be removed in version 0.23 since we've dropped support for Python 2.7. Please rely on the official version of six (https://pypi.org/project/six/).\n",
            "  \"(https://pypi.org/project/six/).\", FutureWarning)\n",
            "/usr/local/lib/python3.7/dist-packages/sklearn/utils/deprecation.py:144: FutureWarning: The sklearn.neighbors.base module is  deprecated in version 0.22 and will be removed in version 0.24. The corresponding classes / functions should instead be imported from sklearn.neighbors. Anything that cannot be imported from sklearn.neighbors is now part of the private API.\n",
            "  warnings.warn(message, FutureWarning)\n"
          ],
          "name": "stderr"
        }
      ]
    },
    {
      "cell_type": "code",
      "metadata": {
        "colab": {
          "base_uri": "https://localhost:8080/"
        },
        "id": "DMNbJ0ihVwsF",
        "outputId": "b13be3fd-1be6-4449-9991-758bab92a5a7"
      },
      "source": [
        "from google.colab import drive\n",
        "drive.mount('/content/gdrive')"
      ],
      "execution_count": null,
      "outputs": [
        {
          "output_type": "stream",
          "text": [
            "Mounted at /content/gdrive\n"
          ],
          "name": "stdout"
        }
      ]
    },
    {
      "cell_type": "code",
      "metadata": {
        "colab": {
          "base_uri": "https://localhost:8080/"
        },
        "id": "zV7eOfAv-7PP",
        "outputId": "de46948c-a18d-4f46-dd5b-0ed74e5c184b"
      },
      "source": [
        "%cd /content/gdrive/My Drive/Github/capstone"
      ],
      "execution_count": null,
      "outputs": [
        {
          "output_type": "stream",
          "text": [
            "/content/gdrive/My Drive/Github/capstone\n"
          ],
          "name": "stdout"
        }
      ]
    },
    {
      "cell_type": "code",
      "metadata": {
        "colab": {
          "base_uri": "https://localhost:8080/",
          "height": 417
        },
        "id": "UJUNR9GNWLAR",
        "outputId": "53dea79a-1088-42fe-a874-f1b8e011f85d"
      },
      "source": [
        "df = pd.read_pickle('data/master_data.pkl')\n",
        "df = df.drop('claim_number', axis=1)\n",
        "df"
      ],
      "execution_count": null,
      "outputs": [
        {
          "output_type": "execute_result",
          "data": {
            "text/html": [
              "<div>\n",
              "<style scoped>\n",
              "    .dataframe tbody tr th:only-of-type {\n",
              "        vertical-align: middle;\n",
              "    }\n",
              "\n",
              "    .dataframe tbody tr th {\n",
              "        vertical-align: top;\n",
              "    }\n",
              "\n",
              "    .dataframe thead th {\n",
              "        text-align: right;\n",
              "    }\n",
              "</style>\n",
              "<table border=\"1\" class=\"dataframe\">\n",
              "  <thead>\n",
              "    <tr style=\"text-align: right;\">\n",
              "      <th></th>\n",
              "      <th>patent_id</th>\n",
              "      <th>text</th>\n",
              "    </tr>\n",
              "  </thead>\n",
              "  <tbody>\n",
              "    <tr>\n",
              "      <th>0</th>\n",
              "      <td>10873754</td>\n",
              "      <td>1. A method for encoding video data, wherein t...</td>\n",
              "    </tr>\n",
              "    <tr>\n",
              "      <th>1</th>\n",
              "      <td>10873755</td>\n",
              "      <td>1. A computer-implemented method of motion est...</td>\n",
              "    </tr>\n",
              "    <tr>\n",
              "      <th>2</th>\n",
              "      <td>10873756</td>\n",
              "      <td>1. A video processing method, comprising: cons...</td>\n",
              "    </tr>\n",
              "    <tr>\n",
              "      <th>3</th>\n",
              "      <td>10873757</td>\n",
              "      <td>1. A method of decoding video data in uni-dire...</td>\n",
              "    </tr>\n",
              "    <tr>\n",
              "      <th>4</th>\n",
              "      <td>10873758</td>\n",
              "      <td>1. An image processing device comprising: a se...</td>\n",
              "    </tr>\n",
              "    <tr>\n",
              "      <th>...</th>\n",
              "      <td>...</td>\n",
              "      <td>...</td>\n",
              "    </tr>\n",
              "    <tr>\n",
              "      <th>557406</th>\n",
              "      <td>10395357</td>\n",
              "      <td>1. An apparatus for detecting foam in a specim...</td>\n",
              "    </tr>\n",
              "    <tr>\n",
              "      <th>557407</th>\n",
              "      <td>10395358</td>\n",
              "      <td>1. A system configured to detect defects on a ...</td>\n",
              "    </tr>\n",
              "    <tr>\n",
              "      <th>557408</th>\n",
              "      <td>10395359</td>\n",
              "      <td>1. A system configured to detect defects on a ...</td>\n",
              "    </tr>\n",
              "    <tr>\n",
              "      <th>557409</th>\n",
              "      <td>10395360</td>\n",
              "      <td>1. An inspection system for inspecting an obje...</td>\n",
              "    </tr>\n",
              "    <tr>\n",
              "      <th>557410</th>\n",
              "      <td>10395361</td>\n",
              "      <td>1. A method of qualifying a photolithographic ...</td>\n",
              "    </tr>\n",
              "  </tbody>\n",
              "</table>\n",
              "<p>557411 rows × 2 columns</p>\n",
              "</div>"
            ],
            "text/plain": [
              "        patent_id                                               text\n",
              "0        10873754  1. A method for encoding video data, wherein t...\n",
              "1        10873755  1. A computer-implemented method of motion est...\n",
              "2        10873756  1. A video processing method, comprising: cons...\n",
              "3        10873757  1. A method of decoding video data in uni-dire...\n",
              "4        10873758  1. An image processing device comprising: a se...\n",
              "...           ...                                                ...\n",
              "557406   10395357  1. An apparatus for detecting foam in a specim...\n",
              "557407   10395358  1. A system configured to detect defects on a ...\n",
              "557408   10395359  1. A system configured to detect defects on a ...\n",
              "557409   10395360  1. An inspection system for inspecting an obje...\n",
              "557410   10395361  1. A method of qualifying a photolithographic ...\n",
              "\n",
              "[557411 rows x 2 columns]"
            ]
          },
          "metadata": {
            "tags": []
          },
          "execution_count": 4
        }
      ]
    },
    {
      "cell_type": "code",
      "metadata": {
        "colab": {
          "base_uri": "https://localhost:8080/",
          "height": 417
        },
        "id": "DE3L6_vjXKXP",
        "outputId": "63f12d11-c733-4be2-dbe2-09ec7c844265"
      },
      "source": [
        "df_pats_w_sectors = pd.read_csv('data/pats_w_sectors.csv')\n",
        "df_pats_w_sectors"
      ],
      "execution_count": null,
      "outputs": [
        {
          "output_type": "execute_result",
          "data": {
            "text/html": [
              "<div>\n",
              "<style scoped>\n",
              "    .dataframe tbody tr th:only-of-type {\n",
              "        vertical-align: middle;\n",
              "    }\n",
              "\n",
              "    .dataframe tbody tr th {\n",
              "        vertical-align: top;\n",
              "    }\n",
              "\n",
              "    .dataframe thead th {\n",
              "        text-align: right;\n",
              "    }\n",
              "</style>\n",
              "<table border=\"1\" class=\"dataframe\">\n",
              "  <thead>\n",
              "    <tr style=\"text-align: right;\">\n",
              "      <th></th>\n",
              "      <th>Unnamed: 0</th>\n",
              "      <th>patent_id</th>\n",
              "      <th>sector_title</th>\n",
              "      <th>field_title</th>\n",
              "    </tr>\n",
              "  </thead>\n",
              "  <tbody>\n",
              "    <tr>\n",
              "      <th>0</th>\n",
              "      <td>0</td>\n",
              "      <td>3930271</td>\n",
              "      <td>Other fields</td>\n",
              "      <td>Furniture, games</td>\n",
              "    </tr>\n",
              "    <tr>\n",
              "      <th>1</th>\n",
              "      <td>1</td>\n",
              "      <td>3930272</td>\n",
              "      <td>Other fields</td>\n",
              "      <td>Furniture, games</td>\n",
              "    </tr>\n",
              "    <tr>\n",
              "      <th>2</th>\n",
              "      <td>2</td>\n",
              "      <td>3930281</td>\n",
              "      <td>Other fields</td>\n",
              "      <td>Furniture, games</td>\n",
              "    </tr>\n",
              "    <tr>\n",
              "      <th>3</th>\n",
              "      <td>3</td>\n",
              "      <td>3930331</td>\n",
              "      <td>Other fields</td>\n",
              "      <td>Furniture, games</td>\n",
              "    </tr>\n",
              "    <tr>\n",
              "      <th>4</th>\n",
              "      <td>4</td>\n",
              "      <td>3930332</td>\n",
              "      <td>Other fields</td>\n",
              "      <td>Furniture, games</td>\n",
              "    </tr>\n",
              "    <tr>\n",
              "      <th>...</th>\n",
              "      <td>...</td>\n",
              "      <td>...</td>\n",
              "      <td>...</td>\n",
              "      <td>...</td>\n",
              "    </tr>\n",
              "    <tr>\n",
              "      <th>10296072</th>\n",
              "      <td>10296072</td>\n",
              "      <td>10818805</td>\n",
              "      <td>Chemistry</td>\n",
              "      <td>Micro-structural and nano-technology</td>\n",
              "    </tr>\n",
              "    <tr>\n",
              "      <th>10296073</th>\n",
              "      <td>10296073</td>\n",
              "      <td>10818835</td>\n",
              "      <td>Chemistry</td>\n",
              "      <td>Micro-structural and nano-technology</td>\n",
              "    </tr>\n",
              "    <tr>\n",
              "      <th>10296074</th>\n",
              "      <td>10296074</td>\n",
              "      <td>10818922</td>\n",
              "      <td>Chemistry</td>\n",
              "      <td>Micro-structural and nano-technology</td>\n",
              "    </tr>\n",
              "    <tr>\n",
              "      <th>10296075</th>\n",
              "      <td>10296075</td>\n",
              "      <td>10823691</td>\n",
              "      <td>Chemistry</td>\n",
              "      <td>Micro-structural and nano-technology</td>\n",
              "    </tr>\n",
              "    <tr>\n",
              "      <th>10296076</th>\n",
              "      <td>10296076</td>\n",
              "      <td>10829605</td>\n",
              "      <td>Chemistry</td>\n",
              "      <td>Micro-structural and nano-technology</td>\n",
              "    </tr>\n",
              "  </tbody>\n",
              "</table>\n",
              "<p>10296077 rows × 4 columns</p>\n",
              "</div>"
            ],
            "text/plain": [
              "          Unnamed: 0  ...                           field_title\n",
              "0                  0  ...                      Furniture, games\n",
              "1                  1  ...                      Furniture, games\n",
              "2                  2  ...                      Furniture, games\n",
              "3                  3  ...                      Furniture, games\n",
              "4                  4  ...                      Furniture, games\n",
              "...              ...  ...                                   ...\n",
              "10296072    10296072  ...  Micro-structural and nano-technology\n",
              "10296073    10296073  ...  Micro-structural and nano-technology\n",
              "10296074    10296074  ...  Micro-structural and nano-technology\n",
              "10296075    10296075  ...  Micro-structural and nano-technology\n",
              "10296076    10296076  ...  Micro-structural and nano-technology\n",
              "\n",
              "[10296077 rows x 4 columns]"
            ]
          },
          "metadata": {
            "tags": []
          },
          "execution_count": 5
        }
      ]
    },
    {
      "cell_type": "code",
      "metadata": {
        "colab": {
          "base_uri": "https://localhost:8080/"
        },
        "id": "5e_kdOJaYT79",
        "outputId": "70af24b9-d9ae-4a43-e544-2c722698c9e9"
      },
      "source": [
        "len(set(df_pats_w_sectors.patent_id))"
      ],
      "execution_count": null,
      "outputs": [
        {
          "output_type": "execute_result",
          "data": {
            "text/plain": [
              "6836110"
            ]
          },
          "metadata": {
            "tags": []
          },
          "execution_count": 6
        }
      ]
    },
    {
      "cell_type": "code",
      "metadata": {
        "colab": {
          "base_uri": "https://localhost:8080/"
        },
        "id": "g2e_jxmwZynJ",
        "outputId": "6913cb85-56e1-441f-8ea2-ffabaf93690e"
      },
      "source": [
        "counts = df_pats_w_sectors.patent_id.value_counts()\n",
        "counts"
      ],
      "execution_count": null,
      "outputs": [
        {
          "output_type": "execute_result",
          "data": {
            "text/plain": [
              "9870654     16\n",
              "9897587     14\n",
              "9921166     14\n",
              "9833978     14\n",
              "9938184     14\n",
              "            ..\n",
              "6422240      1\n",
              "10610403     1\n",
              "6414052      1\n",
              "6397676      1\n",
              "4196353      1\n",
              "Name: patent_id, Length: 6836110, dtype: int64"
            ]
          },
          "metadata": {
            "tags": []
          },
          "execution_count": 7
        }
      ]
    },
    {
      "cell_type": "code",
      "metadata": {
        "id": "4eDhLw0Jci5E"
      },
      "source": [
        "counts = counts.to_frame()"
      ],
      "execution_count": null,
      "outputs": []
    },
    {
      "cell_type": "code",
      "metadata": {
        "id": "zX0rC0AFbJlL"
      },
      "source": [
        "counts = counts.reset_index()"
      ],
      "execution_count": null,
      "outputs": []
    },
    {
      "cell_type": "code",
      "metadata": {
        "colab": {
          "base_uri": "https://localhost:8080/",
          "height": 447
        },
        "id": "jkZHSmxsaLwF",
        "outputId": "d3a2cec8-d14c-482f-a3f3-97462e5aaa85"
      },
      "source": [
        "groups = df_pats_w_sectors.groupby(by='patent_id').count()\n",
        "groups[groups.sector_title > 1]"
      ],
      "execution_count": null,
      "outputs": [
        {
          "output_type": "execute_result",
          "data": {
            "text/html": [
              "<div>\n",
              "<style scoped>\n",
              "    .dataframe tbody tr th:only-of-type {\n",
              "        vertical-align: middle;\n",
              "    }\n",
              "\n",
              "    .dataframe tbody tr th {\n",
              "        vertical-align: top;\n",
              "    }\n",
              "\n",
              "    .dataframe thead th {\n",
              "        text-align: right;\n",
              "    }\n",
              "</style>\n",
              "<table border=\"1\" class=\"dataframe\">\n",
              "  <thead>\n",
              "    <tr style=\"text-align: right;\">\n",
              "      <th></th>\n",
              "      <th>Unnamed: 0</th>\n",
              "      <th>sector_title</th>\n",
              "      <th>field_title</th>\n",
              "    </tr>\n",
              "    <tr>\n",
              "      <th>patent_id</th>\n",
              "      <th></th>\n",
              "      <th></th>\n",
              "      <th></th>\n",
              "    </tr>\n",
              "  </thead>\n",
              "  <tbody>\n",
              "    <tr>\n",
              "      <th>3930275</th>\n",
              "      <td>3</td>\n",
              "      <td>3</td>\n",
              "      <td>3</td>\n",
              "    </tr>\n",
              "    <tr>\n",
              "      <th>3930276</th>\n",
              "      <td>2</td>\n",
              "      <td>2</td>\n",
              "      <td>2</td>\n",
              "    </tr>\n",
              "    <tr>\n",
              "      <th>3930280</th>\n",
              "      <td>2</td>\n",
              "      <td>2</td>\n",
              "      <td>2</td>\n",
              "    </tr>\n",
              "    <tr>\n",
              "      <th>3930287</th>\n",
              "      <td>2</td>\n",
              "      <td>2</td>\n",
              "      <td>2</td>\n",
              "    </tr>\n",
              "    <tr>\n",
              "      <th>3930288</th>\n",
              "      <td>2</td>\n",
              "      <td>2</td>\n",
              "      <td>2</td>\n",
              "    </tr>\n",
              "    <tr>\n",
              "      <th>...</th>\n",
              "      <td>...</td>\n",
              "      <td>...</td>\n",
              "      <td>...</td>\n",
              "    </tr>\n",
              "    <tr>\n",
              "      <th>10859662</th>\n",
              "      <td>2</td>\n",
              "      <td>2</td>\n",
              "      <td>2</td>\n",
              "    </tr>\n",
              "    <tr>\n",
              "      <th>10861271</th>\n",
              "      <td>2</td>\n",
              "      <td>2</td>\n",
              "      <td>2</td>\n",
              "    </tr>\n",
              "    <tr>\n",
              "      <th>10870348</th>\n",
              "      <td>2</td>\n",
              "      <td>2</td>\n",
              "      <td>2</td>\n",
              "    </tr>\n",
              "    <tr>\n",
              "      <th>10872143</th>\n",
              "      <td>2</td>\n",
              "      <td>2</td>\n",
              "      <td>2</td>\n",
              "    </tr>\n",
              "    <tr>\n",
              "      <th>10875096</th>\n",
              "      <td>2</td>\n",
              "      <td>2</td>\n",
              "      <td>2</td>\n",
              "    </tr>\n",
              "  </tbody>\n",
              "</table>\n",
              "<p>2565012 rows × 3 columns</p>\n",
              "</div>"
            ],
            "text/plain": [
              "           Unnamed: 0  sector_title  field_title\n",
              "patent_id                                       \n",
              "3930275             3             3            3\n",
              "3930276             2             2            2\n",
              "3930280             2             2            2\n",
              "3930287             2             2            2\n",
              "3930288             2             2            2\n",
              "...               ...           ...          ...\n",
              "10859662            2             2            2\n",
              "10861271            2             2            2\n",
              "10870348            2             2            2\n",
              "10872143            2             2            2\n",
              "10875096            2             2            2\n",
              "\n",
              "[2565012 rows x 3 columns]"
            ]
          },
          "metadata": {
            "tags": []
          },
          "execution_count": 10
        }
      ]
    },
    {
      "cell_type": "code",
      "metadata": {
        "colab": {
          "base_uri": "https://localhost:8080/",
          "height": 417
        },
        "id": "1N7Ojld0iA5Y",
        "outputId": "09eabe87-1a82-490a-8295-764d796952e7"
      },
      "source": [
        "df_pats_w_sectors = df_pats_w_sectors.drop(['Unnamed: 0', 'field_title'], axis=1)\n",
        "df_pats_w_sectors"
      ],
      "execution_count": null,
      "outputs": [
        {
          "output_type": "execute_result",
          "data": {
            "text/html": [
              "<div>\n",
              "<style scoped>\n",
              "    .dataframe tbody tr th:only-of-type {\n",
              "        vertical-align: middle;\n",
              "    }\n",
              "\n",
              "    .dataframe tbody tr th {\n",
              "        vertical-align: top;\n",
              "    }\n",
              "\n",
              "    .dataframe thead th {\n",
              "        text-align: right;\n",
              "    }\n",
              "</style>\n",
              "<table border=\"1\" class=\"dataframe\">\n",
              "  <thead>\n",
              "    <tr style=\"text-align: right;\">\n",
              "      <th></th>\n",
              "      <th>patent_id</th>\n",
              "      <th>sector_title</th>\n",
              "    </tr>\n",
              "  </thead>\n",
              "  <tbody>\n",
              "    <tr>\n",
              "      <th>0</th>\n",
              "      <td>3930271</td>\n",
              "      <td>Other fields</td>\n",
              "    </tr>\n",
              "    <tr>\n",
              "      <th>1</th>\n",
              "      <td>3930272</td>\n",
              "      <td>Other fields</td>\n",
              "    </tr>\n",
              "    <tr>\n",
              "      <th>2</th>\n",
              "      <td>3930281</td>\n",
              "      <td>Other fields</td>\n",
              "    </tr>\n",
              "    <tr>\n",
              "      <th>3</th>\n",
              "      <td>3930331</td>\n",
              "      <td>Other fields</td>\n",
              "    </tr>\n",
              "    <tr>\n",
              "      <th>4</th>\n",
              "      <td>3930332</td>\n",
              "      <td>Other fields</td>\n",
              "    </tr>\n",
              "    <tr>\n",
              "      <th>...</th>\n",
              "      <td>...</td>\n",
              "      <td>...</td>\n",
              "    </tr>\n",
              "    <tr>\n",
              "      <th>10296072</th>\n",
              "      <td>10818805</td>\n",
              "      <td>Chemistry</td>\n",
              "    </tr>\n",
              "    <tr>\n",
              "      <th>10296073</th>\n",
              "      <td>10818835</td>\n",
              "      <td>Chemistry</td>\n",
              "    </tr>\n",
              "    <tr>\n",
              "      <th>10296074</th>\n",
              "      <td>10818922</td>\n",
              "      <td>Chemistry</td>\n",
              "    </tr>\n",
              "    <tr>\n",
              "      <th>10296075</th>\n",
              "      <td>10823691</td>\n",
              "      <td>Chemistry</td>\n",
              "    </tr>\n",
              "    <tr>\n",
              "      <th>10296076</th>\n",
              "      <td>10829605</td>\n",
              "      <td>Chemistry</td>\n",
              "    </tr>\n",
              "  </tbody>\n",
              "</table>\n",
              "<p>10296077 rows × 2 columns</p>\n",
              "</div>"
            ],
            "text/plain": [
              "          patent_id  sector_title\n",
              "0           3930271  Other fields\n",
              "1           3930272  Other fields\n",
              "2           3930281  Other fields\n",
              "3           3930331  Other fields\n",
              "4           3930332  Other fields\n",
              "...             ...           ...\n",
              "10296072   10818805     Chemistry\n",
              "10296073   10818835     Chemistry\n",
              "10296074   10818922     Chemistry\n",
              "10296075   10823691     Chemistry\n",
              "10296076   10829605     Chemistry\n",
              "\n",
              "[10296077 rows x 2 columns]"
            ]
          },
          "metadata": {
            "tags": []
          },
          "execution_count": 11
        }
      ]
    },
    {
      "cell_type": "code",
      "metadata": {
        "colab": {
          "base_uri": "https://localhost:8080/",
          "height": 417
        },
        "id": "yCBIY013iQe4",
        "outputId": "03cf4d5b-3db7-439c-c392-3b0fdccb787f"
      },
      "source": [
        "df_pats_w_sectors = df_pats_w_sectors.drop_duplicates()\n",
        "df_pats_w_sectors"
      ],
      "execution_count": null,
      "outputs": [
        {
          "output_type": "execute_result",
          "data": {
            "text/html": [
              "<div>\n",
              "<style scoped>\n",
              "    .dataframe tbody tr th:only-of-type {\n",
              "        vertical-align: middle;\n",
              "    }\n",
              "\n",
              "    .dataframe tbody tr th {\n",
              "        vertical-align: top;\n",
              "    }\n",
              "\n",
              "    .dataframe thead th {\n",
              "        text-align: right;\n",
              "    }\n",
              "</style>\n",
              "<table border=\"1\" class=\"dataframe\">\n",
              "  <thead>\n",
              "    <tr style=\"text-align: right;\">\n",
              "      <th></th>\n",
              "      <th>patent_id</th>\n",
              "      <th>sector_title</th>\n",
              "    </tr>\n",
              "  </thead>\n",
              "  <tbody>\n",
              "    <tr>\n",
              "      <th>0</th>\n",
              "      <td>3930271</td>\n",
              "      <td>Other fields</td>\n",
              "    </tr>\n",
              "    <tr>\n",
              "      <th>1</th>\n",
              "      <td>3930272</td>\n",
              "      <td>Other fields</td>\n",
              "    </tr>\n",
              "    <tr>\n",
              "      <th>2</th>\n",
              "      <td>3930281</td>\n",
              "      <td>Other fields</td>\n",
              "    </tr>\n",
              "    <tr>\n",
              "      <th>3</th>\n",
              "      <td>3930331</td>\n",
              "      <td>Other fields</td>\n",
              "    </tr>\n",
              "    <tr>\n",
              "      <th>4</th>\n",
              "      <td>3930332</td>\n",
              "      <td>Other fields</td>\n",
              "    </tr>\n",
              "    <tr>\n",
              "      <th>...</th>\n",
              "      <td>...</td>\n",
              "      <td>...</td>\n",
              "    </tr>\n",
              "    <tr>\n",
              "      <th>10296070</th>\n",
              "      <td>10818791</td>\n",
              "      <td>Chemistry</td>\n",
              "    </tr>\n",
              "    <tr>\n",
              "      <th>10296071</th>\n",
              "      <td>10818792</td>\n",
              "      <td>Chemistry</td>\n",
              "    </tr>\n",
              "    <tr>\n",
              "      <th>10296072</th>\n",
              "      <td>10818805</td>\n",
              "      <td>Chemistry</td>\n",
              "    </tr>\n",
              "    <tr>\n",
              "      <th>10296073</th>\n",
              "      <td>10818835</td>\n",
              "      <td>Chemistry</td>\n",
              "    </tr>\n",
              "    <tr>\n",
              "      <th>10296075</th>\n",
              "      <td>10823691</td>\n",
              "      <td>Chemistry</td>\n",
              "    </tr>\n",
              "  </tbody>\n",
              "</table>\n",
              "<p>8272355 rows × 2 columns</p>\n",
              "</div>"
            ],
            "text/plain": [
              "          patent_id  sector_title\n",
              "0           3930271  Other fields\n",
              "1           3930272  Other fields\n",
              "2           3930281  Other fields\n",
              "3           3930331  Other fields\n",
              "4           3930332  Other fields\n",
              "...             ...           ...\n",
              "10296070   10818791     Chemistry\n",
              "10296071   10818792     Chemistry\n",
              "10296072   10818805     Chemistry\n",
              "10296073   10818835     Chemistry\n",
              "10296075   10823691     Chemistry\n",
              "\n",
              "[8272355 rows x 2 columns]"
            ]
          },
          "metadata": {
            "tags": []
          },
          "execution_count": 12
        }
      ]
    },
    {
      "cell_type": "code",
      "metadata": {
        "colab": {
          "base_uri": "https://localhost:8080/"
        },
        "id": "BJ8UEtEEimMQ",
        "outputId": "64ac1350-d041-453f-9dcd-353050e5eea7"
      },
      "source": [
        "df_pats_w_sectors.value_counts()"
      ],
      "execution_count": null,
      "outputs": [
        {
          "output_type": "execute_result",
          "data": {
            "text/plain": [
              "patent_id  sector_title          \n",
              "10880932   Instruments               1\n",
              "6291635    Chemistry                 1\n",
              "6291625    Chemistry                 1\n",
              "6291626    Chemistry                 1\n",
              "           Electrical engineering    1\n",
              "                                    ..\n",
              "8640665    Mechanical engineering    1\n",
              "8640666    Electrical engineering    1\n",
              "8640667    Mechanical engineering    1\n",
              "8640668    Mechanical engineering    1\n",
              "3930271    Other fields              1\n",
              "Length: 8272355, dtype: int64"
            ]
          },
          "metadata": {
            "tags": []
          },
          "execution_count": 13
        }
      ]
    },
    {
      "cell_type": "code",
      "metadata": {
        "id": "TzrP_mYGi5SO"
      },
      "source": [
        "groups2 = df_pats_w_sectors.groupby(by='patent_id').count()\n",
        "singles = groups2[groups2.sector_title == 1]"
      ],
      "execution_count": null,
      "outputs": []
    },
    {
      "cell_type": "code",
      "metadata": {
        "colab": {
          "base_uri": "https://localhost:8080/"
        },
        "id": "vfbKF1iEkI7Z",
        "outputId": "3ab17499-6510-4e28-e34b-4c14867c057d"
      },
      "source": [
        "len(singles)"
      ],
      "execution_count": null,
      "outputs": [
        {
          "output_type": "execute_result",
          "data": {
            "text/plain": [
              "5534114"
            ]
          },
          "metadata": {
            "tags": []
          },
          "execution_count": 15
        }
      ]
    },
    {
      "cell_type": "code",
      "metadata": {
        "colab": {
          "base_uri": "https://localhost:8080/",
          "height": 417
        },
        "id": "N23HO1QGjZ8i",
        "outputId": "57b8407e-3110-4591-a90f-64b85797b8aa"
      },
      "source": [
        "singles = singles.reset_index()\n",
        "ok_pats = df_pats_w_sectors.merge(singles, on='patent_id')\n",
        "ok_pats"
      ],
      "execution_count": null,
      "outputs": [
        {
          "output_type": "execute_result",
          "data": {
            "text/html": [
              "<div>\n",
              "<style scoped>\n",
              "    .dataframe tbody tr th:only-of-type {\n",
              "        vertical-align: middle;\n",
              "    }\n",
              "\n",
              "    .dataframe tbody tr th {\n",
              "        vertical-align: top;\n",
              "    }\n",
              "\n",
              "    .dataframe thead th {\n",
              "        text-align: right;\n",
              "    }\n",
              "</style>\n",
              "<table border=\"1\" class=\"dataframe\">\n",
              "  <thead>\n",
              "    <tr style=\"text-align: right;\">\n",
              "      <th></th>\n",
              "      <th>patent_id</th>\n",
              "      <th>sector_title_x</th>\n",
              "      <th>sector_title_y</th>\n",
              "    </tr>\n",
              "  </thead>\n",
              "  <tbody>\n",
              "    <tr>\n",
              "      <th>0</th>\n",
              "      <td>3930271</td>\n",
              "      <td>Other fields</td>\n",
              "      <td>1</td>\n",
              "    </tr>\n",
              "    <tr>\n",
              "      <th>1</th>\n",
              "      <td>3930272</td>\n",
              "      <td>Other fields</td>\n",
              "      <td>1</td>\n",
              "    </tr>\n",
              "    <tr>\n",
              "      <th>2</th>\n",
              "      <td>3930281</td>\n",
              "      <td>Other fields</td>\n",
              "      <td>1</td>\n",
              "    </tr>\n",
              "    <tr>\n",
              "      <th>3</th>\n",
              "      <td>3930331</td>\n",
              "      <td>Other fields</td>\n",
              "      <td>1</td>\n",
              "    </tr>\n",
              "    <tr>\n",
              "      <th>4</th>\n",
              "      <td>3930332</td>\n",
              "      <td>Other fields</td>\n",
              "      <td>1</td>\n",
              "    </tr>\n",
              "    <tr>\n",
              "      <th>...</th>\n",
              "      <td>...</td>\n",
              "      <td>...</td>\n",
              "      <td>...</td>\n",
              "    </tr>\n",
              "    <tr>\n",
              "      <th>5534109</th>\n",
              "      <td>10800650</td>\n",
              "      <td>Chemistry</td>\n",
              "      <td>1</td>\n",
              "    </tr>\n",
              "    <tr>\n",
              "      <th>5534110</th>\n",
              "      <td>10807862</td>\n",
              "      <td>Chemistry</td>\n",
              "      <td>1</td>\n",
              "    </tr>\n",
              "    <tr>\n",
              "      <th>5534111</th>\n",
              "      <td>10807863</td>\n",
              "      <td>Chemistry</td>\n",
              "      <td>1</td>\n",
              "    </tr>\n",
              "    <tr>\n",
              "      <th>5534112</th>\n",
              "      <td>10815120</td>\n",
              "      <td>Chemistry</td>\n",
              "      <td>1</td>\n",
              "    </tr>\n",
              "    <tr>\n",
              "      <th>5534113</th>\n",
              "      <td>10823691</td>\n",
              "      <td>Chemistry</td>\n",
              "      <td>1</td>\n",
              "    </tr>\n",
              "  </tbody>\n",
              "</table>\n",
              "<p>5534114 rows × 3 columns</p>\n",
              "</div>"
            ],
            "text/plain": [
              "         patent_id sector_title_x  sector_title_y\n",
              "0          3930271   Other fields               1\n",
              "1          3930272   Other fields               1\n",
              "2          3930281   Other fields               1\n",
              "3          3930331   Other fields               1\n",
              "4          3930332   Other fields               1\n",
              "...            ...            ...             ...\n",
              "5534109   10800650      Chemistry               1\n",
              "5534110   10807862      Chemistry               1\n",
              "5534111   10807863      Chemistry               1\n",
              "5534112   10815120      Chemistry               1\n",
              "5534113   10823691      Chemistry               1\n",
              "\n",
              "[5534114 rows x 3 columns]"
            ]
          },
          "metadata": {
            "tags": []
          },
          "execution_count": 16
        }
      ]
    },
    {
      "cell_type": "code",
      "metadata": {
        "colab": {
          "base_uri": "https://localhost:8080/",
          "height": 417
        },
        "id": "5Q3qn_6GlQdD",
        "outputId": "bc6342ff-ffdb-49d3-e85c-e1bb6aac2d4d"
      },
      "source": [
        "ok_pats = ok_pats.drop(['sector_title_y'], axis=1)\n",
        "ok_pats = ok_pats.rename(columns={'sector_title_x':'sector'})\n",
        "ok_pats"
      ],
      "execution_count": null,
      "outputs": [
        {
          "output_type": "execute_result",
          "data": {
            "text/html": [
              "<div>\n",
              "<style scoped>\n",
              "    .dataframe tbody tr th:only-of-type {\n",
              "        vertical-align: middle;\n",
              "    }\n",
              "\n",
              "    .dataframe tbody tr th {\n",
              "        vertical-align: top;\n",
              "    }\n",
              "\n",
              "    .dataframe thead th {\n",
              "        text-align: right;\n",
              "    }\n",
              "</style>\n",
              "<table border=\"1\" class=\"dataframe\">\n",
              "  <thead>\n",
              "    <tr style=\"text-align: right;\">\n",
              "      <th></th>\n",
              "      <th>patent_id</th>\n",
              "      <th>sector</th>\n",
              "    </tr>\n",
              "  </thead>\n",
              "  <tbody>\n",
              "    <tr>\n",
              "      <th>0</th>\n",
              "      <td>3930271</td>\n",
              "      <td>Other fields</td>\n",
              "    </tr>\n",
              "    <tr>\n",
              "      <th>1</th>\n",
              "      <td>3930272</td>\n",
              "      <td>Other fields</td>\n",
              "    </tr>\n",
              "    <tr>\n",
              "      <th>2</th>\n",
              "      <td>3930281</td>\n",
              "      <td>Other fields</td>\n",
              "    </tr>\n",
              "    <tr>\n",
              "      <th>3</th>\n",
              "      <td>3930331</td>\n",
              "      <td>Other fields</td>\n",
              "    </tr>\n",
              "    <tr>\n",
              "      <th>4</th>\n",
              "      <td>3930332</td>\n",
              "      <td>Other fields</td>\n",
              "    </tr>\n",
              "    <tr>\n",
              "      <th>...</th>\n",
              "      <td>...</td>\n",
              "      <td>...</td>\n",
              "    </tr>\n",
              "    <tr>\n",
              "      <th>5534109</th>\n",
              "      <td>10800650</td>\n",
              "      <td>Chemistry</td>\n",
              "    </tr>\n",
              "    <tr>\n",
              "      <th>5534110</th>\n",
              "      <td>10807862</td>\n",
              "      <td>Chemistry</td>\n",
              "    </tr>\n",
              "    <tr>\n",
              "      <th>5534111</th>\n",
              "      <td>10807863</td>\n",
              "      <td>Chemistry</td>\n",
              "    </tr>\n",
              "    <tr>\n",
              "      <th>5534112</th>\n",
              "      <td>10815120</td>\n",
              "      <td>Chemistry</td>\n",
              "    </tr>\n",
              "    <tr>\n",
              "      <th>5534113</th>\n",
              "      <td>10823691</td>\n",
              "      <td>Chemistry</td>\n",
              "    </tr>\n",
              "  </tbody>\n",
              "</table>\n",
              "<p>5534114 rows × 2 columns</p>\n",
              "</div>"
            ],
            "text/plain": [
              "         patent_id        sector\n",
              "0          3930271  Other fields\n",
              "1          3930272  Other fields\n",
              "2          3930281  Other fields\n",
              "3          3930331  Other fields\n",
              "4          3930332  Other fields\n",
              "...            ...           ...\n",
              "5534109   10800650     Chemistry\n",
              "5534110   10807862     Chemistry\n",
              "5534111   10807863     Chemistry\n",
              "5534112   10815120     Chemistry\n",
              "5534113   10823691     Chemistry\n",
              "\n",
              "[5534114 rows x 2 columns]"
            ]
          },
          "metadata": {
            "tags": []
          },
          "execution_count": 17
        }
      ]
    },
    {
      "cell_type": "code",
      "metadata": {
        "colab": {
          "base_uri": "https://localhost:8080/"
        },
        "id": "UozUZ7eEmQfl",
        "outputId": "ca624eff-54ef-483f-a9aa-60c244dd76ef"
      },
      "source": [
        "ok_pats.patent_id = ok_pats.patent_id.astype('int64')\n",
        "ok_pats.info()"
      ],
      "execution_count": null,
      "outputs": [
        {
          "output_type": "stream",
          "text": [
            "<class 'pandas.core.frame.DataFrame'>\n",
            "Int64Index: 5534114 entries, 0 to 5534113\n",
            "Data columns (total 2 columns):\n",
            " #   Column     Dtype \n",
            "---  ------     ----- \n",
            " 0   patent_id  int64 \n",
            " 1   sector     object\n",
            "dtypes: int64(1), object(1)\n",
            "memory usage: 126.7+ MB\n"
          ],
          "name": "stdout"
        }
      ]
    },
    {
      "cell_type": "code",
      "metadata": {
        "colab": {
          "base_uri": "https://localhost:8080/",
          "height": 417
        },
        "id": "mFv_WtQKkVfv",
        "outputId": "2238e668-f816-4a94-f035-c17ff78df44a"
      },
      "source": [
        "# inner join with claims text\n",
        "df_master = ok_pats.merge(df, how='inner', on='patent_id')\n",
        "df_master"
      ],
      "execution_count": null,
      "outputs": [
        {
          "output_type": "execute_result",
          "data": {
            "text/html": [
              "<div>\n",
              "<style scoped>\n",
              "    .dataframe tbody tr th:only-of-type {\n",
              "        vertical-align: middle;\n",
              "    }\n",
              "\n",
              "    .dataframe tbody tr th {\n",
              "        vertical-align: top;\n",
              "    }\n",
              "\n",
              "    .dataframe thead th {\n",
              "        text-align: right;\n",
              "    }\n",
              "</style>\n",
              "<table border=\"1\" class=\"dataframe\">\n",
              "  <thead>\n",
              "    <tr style=\"text-align: right;\">\n",
              "      <th></th>\n",
              "      <th>patent_id</th>\n",
              "      <th>sector</th>\n",
              "      <th>text</th>\n",
              "    </tr>\n",
              "  </thead>\n",
              "  <tbody>\n",
              "    <tr>\n",
              "      <th>0</th>\n",
              "      <td>9227092</td>\n",
              "      <td>Other fields</td>\n",
              "      <td>1. A safety rope blocker comprising: a body th...</td>\n",
              "    </tr>\n",
              "    <tr>\n",
              "      <th>1</th>\n",
              "      <td>9227100</td>\n",
              "      <td>Other fields</td>\n",
              "      <td>1. A portable physical exercise support stand ...</td>\n",
              "    </tr>\n",
              "    <tr>\n",
              "      <th>2</th>\n",
              "      <td>9227101</td>\n",
              "      <td>Other fields</td>\n",
              "      <td>1. A training apparatus, comprising: an endles...</td>\n",
              "    </tr>\n",
              "    <tr>\n",
              "      <th>3</th>\n",
              "      <td>9227102</td>\n",
              "      <td>Other fields</td>\n",
              "      <td>1. A bike trainer apparatus to be coupled to a...</td>\n",
              "    </tr>\n",
              "    <tr>\n",
              "      <th>4</th>\n",
              "      <td>9227103</td>\n",
              "      <td>Other fields</td>\n",
              "      <td>1. A fitness device comprising: a body having ...</td>\n",
              "    </tr>\n",
              "    <tr>\n",
              "      <th>...</th>\n",
              "      <td>...</td>\n",
              "      <td>...</td>\n",
              "      <td>...</td>\n",
              "    </tr>\n",
              "    <tr>\n",
              "      <th>406278</th>\n",
              "      <td>10435292</td>\n",
              "      <td>Chemistry</td>\n",
              "      <td>1. A method for producing a semiconductor modu...</td>\n",
              "    </tr>\n",
              "    <tr>\n",
              "      <th>406279</th>\n",
              "      <td>10442681</td>\n",
              "      <td>Chemistry</td>\n",
              "      <td>1. A micromechanical system provided with a se...</td>\n",
              "    </tr>\n",
              "    <tr>\n",
              "      <th>406280</th>\n",
              "      <td>10442683</td>\n",
              "      <td>Chemistry</td>\n",
              "      <td>1. A microelectromechanical system (MEMS) devi...</td>\n",
              "    </tr>\n",
              "    <tr>\n",
              "      <th>406281</th>\n",
              "      <td>10442685</td>\n",
              "      <td>Chemistry</td>\n",
              "      <td>1. A microelectronic package, comprising: firs...</td>\n",
              "    </tr>\n",
              "    <tr>\n",
              "      <th>406282</th>\n",
              "      <td>10513429</td>\n",
              "      <td>Chemistry</td>\n",
              "      <td>1. An integrated circuit (IC) comprising: a se...</td>\n",
              "    </tr>\n",
              "  </tbody>\n",
              "</table>\n",
              "<p>406283 rows × 3 columns</p>\n",
              "</div>"
            ],
            "text/plain": [
              "        patent_id  ...                                               text\n",
              "0         9227092  ...  1. A safety rope blocker comprising: a body th...\n",
              "1         9227100  ...  1. A portable physical exercise support stand ...\n",
              "2         9227101  ...  1. A training apparatus, comprising: an endles...\n",
              "3         9227102  ...  1. A bike trainer apparatus to be coupled to a...\n",
              "4         9227103  ...  1. A fitness device comprising: a body having ...\n",
              "...           ...  ...                                                ...\n",
              "406278   10435292  ...  1. A method for producing a semiconductor modu...\n",
              "406279   10442681  ...  1. A micromechanical system provided with a se...\n",
              "406280   10442683  ...  1. A microelectromechanical system (MEMS) devi...\n",
              "406281   10442685  ...  1. A microelectronic package, comprising: firs...\n",
              "406282   10513429  ...  1. An integrated circuit (IC) comprising: a se...\n",
              "\n",
              "[406283 rows x 3 columns]"
            ]
          },
          "metadata": {
            "tags": []
          },
          "execution_count": 19
        }
      ]
    },
    {
      "cell_type": "code",
      "metadata": {
        "colab": {
          "base_uri": "https://localhost:8080/"
        },
        "id": "3t3TRdOBnzir",
        "outputId": "61918b31-50bb-4044-c006-3286f798aca7"
      },
      "source": [
        "set(df_master.sector)"
      ],
      "execution_count": null,
      "outputs": [
        {
          "output_type": "execute_result",
          "data": {
            "text/plain": [
              "{'Chemistry',\n",
              " 'Electrical engineering',\n",
              " 'Instruments',\n",
              " 'Mechanical engineering',\n",
              " 'Other fields'}"
            ]
          },
          "metadata": {
            "tags": []
          },
          "execution_count": 20
        }
      ]
    },
    {
      "cell_type": "code",
      "metadata": {
        "colab": {
          "base_uri": "https://localhost:8080/",
          "height": 417
        },
        "id": "CB2DlGK_pR6t",
        "outputId": "8272f0a3-3cbe-4685-d8d7-91c3ac9d5d13"
      },
      "source": [
        "df_master = df_master[df_master.sector!='Other fields']\n",
        "df_master"
      ],
      "execution_count": null,
      "outputs": [
        {
          "output_type": "execute_result",
          "data": {
            "text/html": [
              "<div>\n",
              "<style scoped>\n",
              "    .dataframe tbody tr th:only-of-type {\n",
              "        vertical-align: middle;\n",
              "    }\n",
              "\n",
              "    .dataframe tbody tr th {\n",
              "        vertical-align: top;\n",
              "    }\n",
              "\n",
              "    .dataframe thead th {\n",
              "        text-align: right;\n",
              "    }\n",
              "</style>\n",
              "<table border=\"1\" class=\"dataframe\">\n",
              "  <thead>\n",
              "    <tr style=\"text-align: right;\">\n",
              "      <th></th>\n",
              "      <th>patent_id</th>\n",
              "      <th>sector</th>\n",
              "      <th>text</th>\n",
              "    </tr>\n",
              "  </thead>\n",
              "  <tbody>\n",
              "    <tr>\n",
              "      <th>7751</th>\n",
              "      <td>9226709</td>\n",
              "      <td>Instruments</td>\n",
              "      <td>1. A medical system for use with a patient, th...</td>\n",
              "    </tr>\n",
              "    <tr>\n",
              "      <th>7752</th>\n",
              "      <td>9226712</td>\n",
              "      <td>Instruments</td>\n",
              "      <td>1. A sensor comprising: a sensor pad having a ...</td>\n",
              "    </tr>\n",
              "    <tr>\n",
              "      <th>7753</th>\n",
              "      <td>9226714</td>\n",
              "      <td>Instruments</td>\n",
              "      <td>1. A method for displaying glucose information...</td>\n",
              "    </tr>\n",
              "    <tr>\n",
              "      <th>7754</th>\n",
              "      <td>9226716</td>\n",
              "      <td>Instruments</td>\n",
              "      <td>1. A nuclear medicine imaging apparatus compri...</td>\n",
              "    </tr>\n",
              "    <tr>\n",
              "      <th>7755</th>\n",
              "      <td>9226717</td>\n",
              "      <td>Instruments</td>\n",
              "      <td>1. A helmet-type brain PET device, comprising:...</td>\n",
              "    </tr>\n",
              "    <tr>\n",
              "      <th>...</th>\n",
              "      <td>...</td>\n",
              "      <td>...</td>\n",
              "      <td>...</td>\n",
              "    </tr>\n",
              "    <tr>\n",
              "      <th>406278</th>\n",
              "      <td>10435292</td>\n",
              "      <td>Chemistry</td>\n",
              "      <td>1. A method for producing a semiconductor modu...</td>\n",
              "    </tr>\n",
              "    <tr>\n",
              "      <th>406279</th>\n",
              "      <td>10442681</td>\n",
              "      <td>Chemistry</td>\n",
              "      <td>1. A micromechanical system provided with a se...</td>\n",
              "    </tr>\n",
              "    <tr>\n",
              "      <th>406280</th>\n",
              "      <td>10442683</td>\n",
              "      <td>Chemistry</td>\n",
              "      <td>1. A microelectromechanical system (MEMS) devi...</td>\n",
              "    </tr>\n",
              "    <tr>\n",
              "      <th>406281</th>\n",
              "      <td>10442685</td>\n",
              "      <td>Chemistry</td>\n",
              "      <td>1. A microelectronic package, comprising: firs...</td>\n",
              "    </tr>\n",
              "    <tr>\n",
              "      <th>406282</th>\n",
              "      <td>10513429</td>\n",
              "      <td>Chemistry</td>\n",
              "      <td>1. An integrated circuit (IC) comprising: a se...</td>\n",
              "    </tr>\n",
              "  </tbody>\n",
              "</table>\n",
              "<p>385535 rows × 3 columns</p>\n",
              "</div>"
            ],
            "text/plain": [
              "        patent_id  ...                                               text\n",
              "7751      9226709  ...  1. A medical system for use with a patient, th...\n",
              "7752      9226712  ...  1. A sensor comprising: a sensor pad having a ...\n",
              "7753      9226714  ...  1. A method for displaying glucose information...\n",
              "7754      9226716  ...  1. A nuclear medicine imaging apparatus compri...\n",
              "7755      9226717  ...  1. A helmet-type brain PET device, comprising:...\n",
              "...           ...  ...                                                ...\n",
              "406278   10435292  ...  1. A method for producing a semiconductor modu...\n",
              "406279   10442681  ...  1. A micromechanical system provided with a se...\n",
              "406280   10442683  ...  1. A microelectromechanical system (MEMS) devi...\n",
              "406281   10442685  ...  1. A microelectronic package, comprising: firs...\n",
              "406282   10513429  ...  1. An integrated circuit (IC) comprising: a se...\n",
              "\n",
              "[385535 rows x 3 columns]"
            ]
          },
          "metadata": {
            "tags": []
          },
          "execution_count": 21
        }
      ]
    },
    {
      "cell_type": "code",
      "metadata": {
        "colab": {
          "base_uri": "https://localhost:8080/",
          "height": 518
        },
        "id": "WPPGoR1jpyKL",
        "outputId": "ad10db90-492b-4d9e-a9a3-dc1191292bcd"
      },
      "source": [
        "df_master.text = df_master.text.str.replace('1. ', '')\n",
        "df_master"
      ],
      "execution_count": null,
      "outputs": [
        {
          "output_type": "stream",
          "text": [
            "/usr/local/lib/python3.7/dist-packages/pandas/core/generic.py:5170: SettingWithCopyWarning: \n",
            "A value is trying to be set on a copy of a slice from a DataFrame.\n",
            "Try using .loc[row_indexer,col_indexer] = value instead\n",
            "\n",
            "See the caveats in the documentation: https://pandas.pydata.org/pandas-docs/stable/user_guide/indexing.html#returning-a-view-versus-a-copy\n",
            "  self[name] = value\n"
          ],
          "name": "stderr"
        },
        {
          "output_type": "execute_result",
          "data": {
            "text/html": [
              "<div>\n",
              "<style scoped>\n",
              "    .dataframe tbody tr th:only-of-type {\n",
              "        vertical-align: middle;\n",
              "    }\n",
              "\n",
              "    .dataframe tbody tr th {\n",
              "        vertical-align: top;\n",
              "    }\n",
              "\n",
              "    .dataframe thead th {\n",
              "        text-align: right;\n",
              "    }\n",
              "</style>\n",
              "<table border=\"1\" class=\"dataframe\">\n",
              "  <thead>\n",
              "    <tr style=\"text-align: right;\">\n",
              "      <th></th>\n",
              "      <th>patent_id</th>\n",
              "      <th>sector</th>\n",
              "      <th>text</th>\n",
              "    </tr>\n",
              "  </thead>\n",
              "  <tbody>\n",
              "    <tr>\n",
              "      <th>7751</th>\n",
              "      <td>9226709</td>\n",
              "      <td>Instruments</td>\n",
              "      <td>A medical system for use with a patient, the s...</td>\n",
              "    </tr>\n",
              "    <tr>\n",
              "      <th>7752</th>\n",
              "      <td>9226712</td>\n",
              "      <td>Instruments</td>\n",
              "      <td>A sensor comprising: a sensor pad having a fir...</td>\n",
              "    </tr>\n",
              "    <tr>\n",
              "      <th>7753</th>\n",
              "      <td>9226714</td>\n",
              "      <td>Instruments</td>\n",
              "      <td>A method for displaying glucose information to...</td>\n",
              "    </tr>\n",
              "    <tr>\n",
              "      <th>7754</th>\n",
              "      <td>9226716</td>\n",
              "      <td>Instruments</td>\n",
              "      <td>A nuclear medicine imaging apparatus comprisin...</td>\n",
              "    </tr>\n",
              "    <tr>\n",
              "      <th>7755</th>\n",
              "      <td>9226717</td>\n",
              "      <td>Instruments</td>\n",
              "      <td>A helmet-type brain PET device, comprising: a ...</td>\n",
              "    </tr>\n",
              "    <tr>\n",
              "      <th>...</th>\n",
              "      <td>...</td>\n",
              "      <td>...</td>\n",
              "      <td>...</td>\n",
              "    </tr>\n",
              "    <tr>\n",
              "      <th>406278</th>\n",
              "      <td>10435292</td>\n",
              "      <td>Chemistry</td>\n",
              "      <td>A method for producing a semiconductor module,...</td>\n",
              "    </tr>\n",
              "    <tr>\n",
              "      <th>406279</th>\n",
              "      <td>10442681</td>\n",
              "      <td>Chemistry</td>\n",
              "      <td>A micromechanical system provided with a sensi...</td>\n",
              "    </tr>\n",
              "    <tr>\n",
              "      <th>406280</th>\n",
              "      <td>10442683</td>\n",
              "      <td>Chemistry</td>\n",
              "      <td>A microelectromechanical system (MEMS) device ...</td>\n",
              "    </tr>\n",
              "    <tr>\n",
              "      <th>406281</th>\n",
              "      <td>10442685</td>\n",
              "      <td>Chemistry</td>\n",
              "      <td>A microelectronic package, comprising: first a...</td>\n",
              "    </tr>\n",
              "    <tr>\n",
              "      <th>406282</th>\n",
              "      <td>10513429</td>\n",
              "      <td>Chemistry</td>\n",
              "      <td>An integrated circuit (IC) comprising: a semic...</td>\n",
              "    </tr>\n",
              "  </tbody>\n",
              "</table>\n",
              "<p>385535 rows × 3 columns</p>\n",
              "</div>"
            ],
            "text/plain": [
              "        patent_id  ...                                               text\n",
              "7751      9226709  ...  A medical system for use with a patient, the s...\n",
              "7752      9226712  ...  A sensor comprising: a sensor pad having a fir...\n",
              "7753      9226714  ...  A method for displaying glucose information to...\n",
              "7754      9226716  ...  A nuclear medicine imaging apparatus comprisin...\n",
              "7755      9226717  ...  A helmet-type brain PET device, comprising: a ...\n",
              "...           ...  ...                                                ...\n",
              "406278   10435292  ...  A method for producing a semiconductor module,...\n",
              "406279   10442681  ...  A micromechanical system provided with a sensi...\n",
              "406280   10442683  ...  A microelectromechanical system (MEMS) device ...\n",
              "406281   10442685  ...  A microelectronic package, comprising: first a...\n",
              "406282   10513429  ...  An integrated circuit (IC) comprising: a semic...\n",
              "\n",
              "[385535 rows x 3 columns]"
            ]
          },
          "metadata": {
            "tags": []
          },
          "execution_count": 22
        }
      ]
    },
    {
      "cell_type": "code",
      "metadata": {
        "id": "XEOiunB_8eye",
        "colab": {
          "base_uri": "https://localhost:8080/",
          "height": 279
        },
        "outputId": "483dc7c6-9b44-4487-a5b2-61fa62974719"
      },
      "source": [
        "# Look at the counts for each category\n",
        "ax = sns.countplot(x='sector', data=df_master, palette='viridis')"
      ],
      "execution_count": 82,
      "outputs": [
        {
          "output_type": "display_data",
          "data": {
            "image/png": "[encoded data removed]",
            "text/plain": [
              "<Figure size 432x288 with 1 Axes>"
            ]
          },
          "metadata": {
            "tags": [],
            "needs_background": "light"
          }
        }
      ]
    },
    {
      "cell_type": "code",
      "metadata": {
        "id": "LusqOVWD9mkI",
        "colab": {
          "base_uri": "https://localhost:8080/",
          "height": 313
        },
        "outputId": "143218df-8e90-441d-eb7e-ce4d742e8434"
      },
      "source": [
        "# drop large sectors\n",
        "df = df_master[df_master.sector != 'Electrical engineering']\n",
        "df = df[df_master.sector != 'Mechanical engineering']\n",
        "ax = sns.countplot(x='sector', data=df, palette='viridis')"
      ],
      "execution_count": 103,
      "outputs": [
        {
          "output_type": "stream",
          "text": [
            "/usr/local/lib/python3.7/dist-packages/ipykernel_launcher.py:3: UserWarning: Boolean Series key will be reindexed to match DataFrame index.\n",
            "  This is separate from the ipykernel package so we can avoid doing imports until\n"
          ],
          "name": "stderr"
        },
        {
          "output_type": "display_data",
          "data": {
            "image/png": "[encoded data removed]",
            "text/plain": [
              "<Figure size 432x288 with 1 Axes>"
            ]
          },
          "metadata": {
            "tags": [],
            "needs_background": "light"
          }
        }
      ]
    },
    {
      "cell_type": "code",
      "metadata": {
        "id": "Iuj_HQZnKqBU",
        "colab": {
          "base_uri": "https://localhost:8080/",
          "height": 417
        },
        "outputId": "2e85118b-0a8b-4f37-a07d-3702d1d70d1b"
      },
      "source": [
        "acceptable = re.compile('[a-zA-Z ]') # regex expression to keep letters and handles\n",
        "\n",
        "# make a list of the text that fits with regex above\n",
        "cleanedtext = []\n",
        "for text in df.text:\n",
        "    p = ''.join(acceptable.findall(text)).lower()\n",
        "    cleanedtext.append(p)\n",
        "df['cleaned_text'] = cleanedtext\n",
        "df"
      ],
      "execution_count": 104,
      "outputs": [
        {
          "output_type": "execute_result",
          "data": {
            "text/html": [
              "<div>\n",
              "<style scoped>\n",
              "    .dataframe tbody tr th:only-of-type {\n",
              "        vertical-align: middle;\n",
              "    }\n",
              "\n",
              "    .dataframe tbody tr th {\n",
              "        vertical-align: top;\n",
              "    }\n",
              "\n",
              "    .dataframe thead th {\n",
              "        text-align: right;\n",
              "    }\n",
              "</style>\n",
              "<table border=\"1\" class=\"dataframe\">\n",
              "  <thead>\n",
              "    <tr style=\"text-align: right;\">\n",
              "      <th></th>\n",
              "      <th>patent_id</th>\n",
              "      <th>sector</th>\n",
              "      <th>text</th>\n",
              "      <th>cleaned_text</th>\n",
              "    </tr>\n",
              "  </thead>\n",
              "  <tbody>\n",
              "    <tr>\n",
              "      <th>7751</th>\n",
              "      <td>9226709</td>\n",
              "      <td>Instruments</td>\n",
              "      <td>A medical system for use with a patient, the s...</td>\n",
              "      <td>a medical system for use with a patient the sy...</td>\n",
              "    </tr>\n",
              "    <tr>\n",
              "      <th>7752</th>\n",
              "      <td>9226712</td>\n",
              "      <td>Instruments</td>\n",
              "      <td>A sensor comprising: a sensor pad having a fir...</td>\n",
              "      <td>a sensor comprising a sensor pad having a firs...</td>\n",
              "    </tr>\n",
              "    <tr>\n",
              "      <th>7753</th>\n",
              "      <td>9226714</td>\n",
              "      <td>Instruments</td>\n",
              "      <td>A method for displaying glucose information to...</td>\n",
              "      <td>a method for displaying glucose information to...</td>\n",
              "    </tr>\n",
              "    <tr>\n",
              "      <th>7754</th>\n",
              "      <td>9226716</td>\n",
              "      <td>Instruments</td>\n",
              "      <td>A nuclear medicine imaging apparatus comprisin...</td>\n",
              "      <td>a nuclear medicine imaging apparatus comprisin...</td>\n",
              "    </tr>\n",
              "    <tr>\n",
              "      <th>7755</th>\n",
              "      <td>9226717</td>\n",
              "      <td>Instruments</td>\n",
              "      <td>A helmet-type brain PET device, comprising: a ...</td>\n",
              "      <td>a helmettype brain pet device comprising a hel...</td>\n",
              "    </tr>\n",
              "    <tr>\n",
              "      <th>...</th>\n",
              "      <td>...</td>\n",
              "      <td>...</td>\n",
              "      <td>...</td>\n",
              "      <td>...</td>\n",
              "    </tr>\n",
              "    <tr>\n",
              "      <th>406278</th>\n",
              "      <td>10435292</td>\n",
              "      <td>Chemistry</td>\n",
              "      <td>A method for producing a semiconductor module,...</td>\n",
              "      <td>a method for producing a semiconductor module ...</td>\n",
              "    </tr>\n",
              "    <tr>\n",
              "      <th>406279</th>\n",
              "      <td>10442681</td>\n",
              "      <td>Chemistry</td>\n",
              "      <td>A micromechanical system provided with a sensi...</td>\n",
              "      <td>a micromechanical system provided with a sensi...</td>\n",
              "    </tr>\n",
              "    <tr>\n",
              "      <th>406280</th>\n",
              "      <td>10442683</td>\n",
              "      <td>Chemistry</td>\n",
              "      <td>A microelectromechanical system (MEMS) device ...</td>\n",
              "      <td>a microelectromechanical system mems device pa...</td>\n",
              "    </tr>\n",
              "    <tr>\n",
              "      <th>406281</th>\n",
              "      <td>10442685</td>\n",
              "      <td>Chemistry</td>\n",
              "      <td>A microelectronic package, comprising: first a...</td>\n",
              "      <td>a microelectronic package comprising first and...</td>\n",
              "    </tr>\n",
              "    <tr>\n",
              "      <th>406282</th>\n",
              "      <td>10513429</td>\n",
              "      <td>Chemistry</td>\n",
              "      <td>An integrated circuit (IC) comprising: a semic...</td>\n",
              "      <td>an integrated circuit ic comprising a semicond...</td>\n",
              "    </tr>\n",
              "  </tbody>\n",
              "</table>\n",
              "<p>106702 rows × 4 columns</p>\n",
              "</div>"
            ],
            "text/plain": [
              "        patent_id  ...                                       cleaned_text\n",
              "7751      9226709  ...  a medical system for use with a patient the sy...\n",
              "7752      9226712  ...  a sensor comprising a sensor pad having a firs...\n",
              "7753      9226714  ...  a method for displaying glucose information to...\n",
              "7754      9226716  ...  a nuclear medicine imaging apparatus comprisin...\n",
              "7755      9226717  ...  a helmettype brain pet device comprising a hel...\n",
              "...           ...  ...                                                ...\n",
              "406278   10435292  ...  a method for producing a semiconductor module ...\n",
              "406279   10442681  ...  a micromechanical system provided with a sensi...\n",
              "406280   10442683  ...  a microelectromechanical system mems device pa...\n",
              "406281   10442685  ...  a microelectronic package comprising first and...\n",
              "406282   10513429  ...  an integrated circuit ic comprising a semicond...\n",
              "\n",
              "[106702 rows x 4 columns]"
            ]
          },
          "metadata": {
            "tags": []
          },
          "execution_count": 104
        }
      ]
    },
    {
      "cell_type": "code",
      "metadata": {
        "id": "jkwvhX6yhPsu"
      },
      "source": [
        "# nltk.download('punkt')"
      ],
      "execution_count": 105,
      "outputs": []
    },
    {
      "cell_type": "code",
      "metadata": {
        "id": "OSnywfcyLRoA"
      },
      "source": [
        "# df['tokenized_text'] = df['cleaned_text'].apply(word_tokenize)\n",
        "# df"
      ],
      "execution_count": 106,
      "outputs": []
    },
    {
      "cell_type": "code",
      "metadata": {
        "id": "_YT7kAayOn-_"
      },
      "source": [
        "# reset the index and review tokenized text\n",
        "# df = df.reset_index(drop=True)\n",
        "# df"
      ],
      "execution_count": 107,
      "outputs": []
    },
    {
      "cell_type": "code",
      "metadata": {
        "id": "Hp2K0njXPMM7"
      },
      "source": [
        "# def remove_words(col, to_remove):\n",
        "#     '''\n",
        "#     Takes a tokenized df column and a list of words and returns the tokens with the words removed.\n",
        "    \n",
        "#     Parameters: \n",
        "#     df: Single column of dataframe with rows of strings\n",
        "#     to_remove: List of words to be removed from strings\n",
        "    \n",
        "#     Returns: \n",
        "#     cleaned: List of strings with desired words removed\n",
        "    \n",
        "#     '''\n",
        "#     cleaned = []\n",
        "#     for text in col:\n",
        "#         cleaned.append([w for w in text if w not in to_remove])\n",
        "#     return cleaned"
      ],
      "execution_count": 108,
      "outputs": []
    },
    {
      "cell_type": "code",
      "metadata": {
        "id": "-abJHJnOOtul"
      },
      "source": [
        "# remove English language stopwords and add revisions to new column\n",
        "# stopwords_list = stopwords.words('english')\n",
        "# df['stopped_tokens'] = remove_words(df['tokenized_text'], stopwords_list)\n",
        "# df"
      ],
      "execution_count": 109,
      "outputs": []
    },
    {
      "cell_type": "code",
      "metadata": {
        "id": "yjKkb6F5QU0w"
      },
      "source": [
        "# Lemmatize stopped tokens and create new column with lemmed words\n",
        "# lemmatizer = WordNetLemmatizer()\n",
        "# lemmed_tokens=[]\n",
        "# for text in df['stopped_tokens']:\n",
        "#     lemmed_tokens.append([lemmatizer.lemmatize(w) for w in text]) \n",
        "# df['lemmed_tokens'] = lemmed_tokens\n",
        "# df"
      ],
      "execution_count": 110,
      "outputs": []
    },
    {
      "cell_type": "code",
      "metadata": {
        "id": "l2edDkCd_1C-"
      },
      "source": [
        "# y = df['sector'].apply(lambda x: ' '.join(x))\n",
        "# X = df['lemmed_tokens'].apply(lambda x: ' '.join(x))"
      ],
      "execution_count": 111,
      "outputs": []
    },
    {
      "cell_type": "code",
      "metadata": {
        "id": "A6PoFSwFhbzK"
      },
      "source": [
        "y = df['sector']\n",
        "X = df['cleaned_text']"
      ],
      "execution_count": 112,
      "outputs": []
    },
    {
      "cell_type": "code",
      "metadata": {
        "id": "toTAW-uWAESd"
      },
      "source": [
        "X_train, X_test, y_train, y_test = train_test_split(X, y, random_state = 42, test_size = 0.2)"
      ],
      "execution_count": 113,
      "outputs": []
    },
    {
      "cell_type": "code",
      "metadata": {
        "id": "6g0vVMc3-kLA"
      },
      "source": [
        "vec = CountVectorizer(min_df=0.1, max_df=0.9)"
      ],
      "execution_count": 114,
      "outputs": []
    },
    {
      "cell_type": "code",
      "metadata": {
        "id": "d9zlEv4rA2Xt"
      },
      "source": [
        "X_train_transformed = vec.fit_transform(X_train)\n",
        "X_train = pd.DataFrame(X_train_transformed.toarray(), columns = vec.get_feature_names())\n",
        "\n",
        "X_test_transformed = vec.transform(X_test)\n",
        "X_test = pd.DataFrame(X_test_transformed.toarray(), columns = vec.get_feature_names())"
      ],
      "execution_count": 115,
      "outputs": []
    },
    {
      "cell_type": "code",
      "metadata": {
        "id": "2WOtLeEXR74L"
      },
      "source": [
        "def train_and_predict(model, X_train, y_train):\n",
        "    '''\n",
        "    Given a model and train and test data, function fits the model and returns predicted values.\n",
        "    \n",
        "    Parameters: \n",
        "    model: object containing initialized model for training\n",
        "    Xy: object containing train and test data for X and y sets\n",
        "    \n",
        "    Returns:\n",
        "    Xy: updated Xy object with X & y prediction data (y_hat_train and y_hat_test)\n",
        "    \n",
        "    '''\n",
        "    model.fit(X_train, y_train)\n",
        "    \n",
        "    # Make predictions for test data\n",
        "    y_hat_train = model.predict(X_train)\n",
        "    \n",
        "    # Make predictions for test data\n",
        "    y_hat_test = model.predict(X_test)\n",
        "    \n",
        "    return y_hat_train, y_hat_test"
      ],
      "execution_count": 116,
      "outputs": []
    },
    {
      "cell_type": "code",
      "metadata": {
        "id": "J-QJsOU2SZ95"
      },
      "source": [
        "def model_scores(model, \n",
        "                 X_train, X_test, \n",
        "                 y_train, y_test, \n",
        "                 y_hat_train, y_hat_test):\n",
        "    '''\n",
        "    Takes model and test train data objects and generates scores and confusion matrix.\n",
        "    \n",
        "    Parameters: \n",
        "    model: object containing initialized model for training\n",
        "    Xy: object containing train and test data for X and y sets\n",
        "    \n",
        "    Returns:\n",
        "    printed text and visualizations\n",
        "    '''\n",
        "    # Caclulate accuracy for test data\n",
        "    train_accuracy = accuracy_score(y_train, y_hat_train)\n",
        "    print('Training Accuracy: {:.4}%'.format(train_accuracy * 100))\n",
        "\n",
        "    # Caclulate accuracy for test data\n",
        "    test_accuracy = accuracy_score(y_test, y_hat_test)\n",
        "    print('Test Accuracy: {:.4}%\\n'.format(test_accuracy * 100))\n",
        "\n",
        "    # Caclulate recall for train data\n",
        "    train_f1 = recall_score(y_train, y_hat_train, pos_label='Chemistry')\n",
        "    print('Training Recall Score: {:.4}%'.format(train_f1 * 100))\n",
        "\n",
        "    # Calculate recall for test data\n",
        "    test_f1 = recall_score(y_test, y_hat_test, pos_label='Chemistry')\n",
        "    print('Test Recall Score: {:.4}%\\n'.format(test_f1 * 100))    \n",
        "\n",
        "    # Caclulate F1 for train data\n",
        "    train_f1 = f1_score(y_train, y_hat_train, pos_label='Chemistry')\n",
        "    print('Training F1 Score: {:.4}%'.format(train_f1 * 100))\n",
        "\n",
        "    # Calculate F1 for test data\n",
        "    test_f1 = f1_score(y_test, y_hat_test, pos_label='Chemistry')\n",
        "    print('Test F1 Score: {:.4}%'.format(test_f1 * 100))\n",
        "\n",
        "    # Plot confusion matrix\n",
        "    print('\\nConfusion Matrix for test data')\n",
        "    plot_confusion_matrix(model, X=X_test, y_true=y_test, values_format = 'd')\n",
        "    plt.show()"
      ],
      "execution_count": 117,
      "outputs": []
    },
    {
      "cell_type": "code",
      "metadata": {
        "colab": {
          "base_uri": "https://localhost:8080/",
          "height": 447
        },
        "id": "mBBLxQs7R1TC",
        "outputId": "4ac14f9e-a434-4741-bd42-900d2abb2d87"
      },
      "source": [
        "# Initiate the model\n",
        "logreg = LogisticRegression(random_state=42, n_jobs=1)\n",
        "\n",
        "logreg.fit(X_train, y_train)\n",
        "\n",
        "# Make predictions for test data\n",
        "y_hat_train = logreg.predict(X_train)\n",
        "\n",
        "# Make predictions for test data\n",
        "y_hat_test = logreg.predict(X_test)\n",
        "\n",
        "# Evaluate model\n",
        "model_scores(logreg, \n",
        "             X_train, X_test, \n",
        "             y_train, y_test, \n",
        "             y_hat_train, y_hat_test)"
      ],
      "execution_count": 118,
      "outputs": [
        {
          "output_type": "stream",
          "text": [
            "Training Accuracy: 86.61%\n",
            "Test Accuracy: 86.37%\n",
            "\n",
            "Training Recall Score: 85.1%\n",
            "Test Recall Score: 84.9%\n",
            "\n",
            "Training F1 Score: 86.01%\n",
            "Test F1 Score: 85.66%\n",
            "\n",
            "Confusion Matrix for test data\n"
          ],
          "name": "stdout"
        },
        {
          "output_type": "display_data",
          "data": {
            "image/png": "[encoded data removed]",
            "text/plain": [
              "<Figure size 432x288 with 2 Axes>"
            ]
          },
          "metadata": {
            "tags": [],
            "needs_background": "light"
          }
        }
      ]
    },
    {
      "cell_type": "code",
      "metadata": {
        "colab": {
          "base_uri": "https://localhost:8080/",
          "height": 447
        },
        "id": "SdEmuJBzpw9y",
        "outputId": "43b94a61-8a0b-4b6e-e819-420659730bb9"
      },
      "source": [
        "# Initiate the model\n",
        "dt = DecisionTreeClassifier(random_state=42)  \n",
        "dt.fit(X_train, y_train)\n",
        "\n",
        "# Make predictions for test data\n",
        "y_hat_train = dt.predict(X_train)\n",
        "\n",
        "# Make predictions for test data\n",
        "y_hat_test = dt.predict(X_test)\n",
        "\n",
        "# Evaluate model\n",
        "model_scores(dt, \n",
        "             X_train, X_test, \n",
        "             y_train, y_test, \n",
        "             y_hat_train, y_hat_test)"
      ],
      "execution_count": 125,
      "outputs": [
        {
          "output_type": "stream",
          "text": [
            "Training Accuracy: 100.0%\n",
            "Test Accuracy: 80.68%\n",
            "\n",
            "Training Recall Score: 100.0%\n",
            "Test Recall Score: 80.78%\n",
            "\n",
            "Training F1 Score: 100.0%\n",
            "Test F1 Score: 80.04%\n",
            "\n",
            "Confusion Matrix for test data\n"
          ],
          "name": "stdout"
        },
        {
          "output_type": "display_data",
          "data": {
            "image/png": "[encoded data removed]",
            "text/plain": [
              "<Figure size 432x288 with 2 Axes>"
            ]
          },
          "metadata": {
            "tags": [],
            "needs_background": "light"
          }
        }
      ]
    },
    {
      "cell_type": "code",
      "metadata": {
        "id": "rn7eOFMQqr-c"
      },
      "source": [
        "def run_grid_search(params, model, X_train, y_train):\n",
        "    '''\n",
        "    Takes in parameters, model, and test train data, runs grid search, and \n",
        "    returns updated model and test train data.\n",
        "    \n",
        "    Parameters: \n",
        "    params: dict with parameters for grid search\n",
        "    model: object containing initialized model for training\n",
        "    Xy: object containing train and test data for X and y sets\n",
        "    \n",
        "    Returns:\n",
        "    gs: object containing updated model\n",
        "    Xy: object with test train data\n",
        "    '''\n",
        "    gs = GridSearchCV(model, params, scoring='f1_macro', cv=None, n_jobs=1)\n",
        "    gs = gs.fit(X_train, y_train)\n",
        "    best_parameters = gs.best_params_\n",
        "\n",
        "    print('Grid Search found the following optimal parameters: ')\n",
        "    for param_name in sorted(best_parameters.keys()):\n",
        "        print('%s: %r' % (param_name, best_parameters[param_name]))\n",
        "\n",
        "    # Make predictions for test data\n",
        "    y_hat_train = gs.predict(X_train)\n",
        "    \n",
        "    # Make predictions for test data\n",
        "    y_hat_test = gs.predict(X_test)\n",
        "    \n",
        "    return gs, y_hat_train, y_hat_test"
      ],
      "execution_count": 129,
      "outputs": []
    },
    {
      "cell_type": "code",
      "metadata": {
        "colab": {
          "base_uri": "https://localhost:8080/",
          "height": 533
        },
        "id": "XdFaMEjhqXWU",
        "outputId": "f9fbba1d-f590-45ac-eecf-b234a9a0942c"
      },
      "source": [
        "# define parameters to search\n",
        "params_dt = {\n",
        "    'criterion':['gini', 'entropy'],\n",
        "    'max_depth':range(2,10),\n",
        "    'min_samples_split':range(3,10),\n",
        "    'min_samples_leaf':range(3,5)\n",
        "    }\n",
        "\n",
        "# run grid search\n",
        "dt, y_hat_train, y_hat_test = run_grid_search(params_dt, dt, X_train, y_train)\n",
        "\n",
        "# Evaluate model\n",
        "model_scores(dt, \n",
        "             X_train, X_test, \n",
        "             y_train, y_test, \n",
        "             y_hat_train, y_hat_test)"
      ],
      "execution_count": 130,
      "outputs": [
        {
          "output_type": "stream",
          "text": [
            "Grid Search found the following optimal parameters: \n",
            "criterion: 'gini'\n",
            "max_depth: 9\n",
            "min_samples_leaf: 3\n",
            "min_samples_split: 3\n",
            "Training Accuracy: 86.05%\n",
            "Test Accuracy: 85.12%\n",
            "\n",
            "Training Recall Score: 79.73%\n",
            "Test Recall Score: 78.64%\n",
            "\n",
            "Training F1 Score: 84.68%\n",
            "Test F1 Score: 83.52%\n",
            "\n",
            "Confusion Matrix for test data\n"
          ],
          "name": "stdout"
        },
        {
          "output_type": "display_data",
          "data": {
            "image/png": "[encoded data removed]",
            "text/plain": [
              "<Figure size 432x288 with 2 Axes>"
            ]
          },
          "metadata": {
            "tags": [],
            "needs_background": "light"
          }
        }
      ]
    },
    {
      "cell_type": "code",
      "metadata": {
        "colab": {
          "base_uri": "https://localhost:8080/",
          "height": 449
        },
        "id": "iWGWkfXmIhz8",
        "outputId": "c22b91cd-c1d7-43dc-ebec-3817def49fc5"
      },
      "source": [
        "# Initiate the model\n",
        "xgb = XGBClassifier(random_state=42)\n",
        "xgb.fit(X_train, y_train)\n",
        "\n",
        "# Make predictions for test data\n",
        "y_hat_train = xgb.predict(X_train)\n",
        "\n",
        "# Make predictions for test data\n",
        "y_hat_test = xgb.predict(X_test)\n",
        "\n",
        "# Evaluate model\n",
        "model_scores(xgb, \n",
        "             X_train, X_test, \n",
        "             y_train, y_test, \n",
        "             y_hat_train, y_hat_test)"
      ],
      "execution_count": 132,
      "outputs": [
        {
          "output_type": "stream",
          "text": [
            "Training Accuracy: 87.69%\n",
            "Test Accuracy: 87.29%\n",
            "\n",
            "Training Recall Score: 83.6%\n",
            "Test Recall Score: 83.21%\n",
            "\n",
            "Training F1 Score: 86.79%\n",
            "Test F1 Score: 86.26%\n",
            "\n",
            "Confusion Matrix for test data\n"
          ],
          "name": "stdout"
        },
        {
          "output_type": "display_data",
          "data": {
            "image/png": "[encoded data removed]",
            "text/plain": [
              "<Figure size 432x288 with 2 Axes>"
            ]
          },
          "metadata": {
            "tags": [],
            "needs_background": "light"
          }
        }
      ]
    },
    {
      "cell_type": "code",
      "metadata": {
        "id": "hs0zfDrsF7m0"
      },
      "source": [
        "# from gensim.models import Word2Vec\n",
        "# from nltk import word_tokenize"
      ],
      "execution_count": 119,
      "outputs": []
    },
    {
      "cell_type": "code",
      "metadata": {
        "id": "rr86NWSMGQY7"
      },
      "source": [
        "# import nltk\n",
        "# nltk.download('punkt')"
      ],
      "execution_count": 120,
      "outputs": []
    },
    {
      "cell_type": "code",
      "metadata": {
        "id": "veaLlDE3GJpt"
      },
      "source": [
        "# data = df['text'].map(word_tokenize)\n",
        "# data[:5]"
      ],
      "execution_count": 121,
      "outputs": []
    },
    {
      "cell_type": "code",
      "metadata": {
        "id": "Zd_x_gB0Glx2"
      },
      "source": [
        "# model = Word2Vec(data, size=100, window=5, min_count=1, workers=4)\n",
        "# model.train(data, total_examples=model.corpus_count, epochs=10)\n",
        "# wv = model.wv"
      ],
      "execution_count": 122,
      "outputs": []
    }
  ]
}