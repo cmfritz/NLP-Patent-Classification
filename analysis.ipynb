{
  "nbformat": 4,
  "nbformat_minor": 0,
  "metadata": {
    "colab": {
      "name": "analysis.ipynb",
      "provenance": [],
      "collapsed_sections": [],
      "machine_shape": "hm",
      "mount_file_id": "1w_uZBFn0PNj-Y84lYlQzkLDpqRVY4dKh",
      "authorship_tag": "ABX9TyOe0+OX6xrCGZGG3pzTRioK",
      "include_colab_link": true
    },
    "kernelspec": {
      "display_name": "Python 3",
      "name": "python3"
    },
    "language_info": {
      "name": "python"
    },
    "accelerator": "GPU"
  },
  "cells": [
    {
      "cell_type": "markdown",
      "metadata": {
        "id": "view-in-github",
        "colab_type": "text"
      },
      "source": [
        "<a href=\"https://colab.research.google.com/github/cmfritz/capstone/blob/main/analysis.ipynb\" target=\"_parent\"><img src=\"https://colab.research.google.com/assets/colab-badge.svg\" alt=\"Open In Colab\"/></a>"
      ]
    },
    {
      "cell_type": "code",
      "metadata": {
        "colab": {
          "base_uri": "https://localhost:8080/"
        },
        "id": "VceD5ruAqjJC",
        "outputId": "3748e34b-8bb3-4a61-a5bd-3ec304e9b1b9"
      },
      "source": [
        "#import packages\n",
        "import pandas as pd\n",
        "import numpy as np\n",
        "import string\n",
        "import re\n",
        "from matplotlib import pyplot as plt\n",
        "import seaborn as sns\n",
        "import nltk\n",
        "from nltk.corpus import stopwords\n",
        "from nltk import FreqDist, word_tokenize\n",
        "from nltk.tokenize import TweetTokenizer\n",
        "from nltk.stem import WordNetLemmatizer \n",
        "from wordcloud import WordCloud, STOPWORDS\n",
        "\n",
        "import xgboost as xgb\n",
        "from xgboost import XGBClassifier, plot_importance\n",
        "from sklearn.pipeline import Pipeline\n",
        "from sklearn.linear_model import LogisticRegression\n",
        "from sklearn.model_selection import train_test_split, GridSearchCV\n",
        "from sklearn.preprocessing import LabelEncoder\n",
        "from sklearn.feature_extraction.text import CountVectorizer\n",
        "from sklearn.tree import DecisionTreeClassifier \n",
        "from sklearn.metrics import accuracy_score, plot_confusion_matrix\n",
        "from sklearn.metrics import confusion_matrix, precision_recall_curve, f1_score, recall_score\n",
        "from imblearn.over_sampling import SMOTE"
      ],
      "execution_count": 1,
      "outputs": [
        {
          "output_type": "stream",
          "text": [
            "/usr/local/lib/python3.7/dist-packages/sklearn/externals/six.py:31: FutureWarning: The module is deprecated in version 0.21 and will be removed in version 0.23 since we've dropped support for Python 2.7. Please rely on the official version of six (https://pypi.org/project/six/).\n",
            "  \"(https://pypi.org/project/six/).\", FutureWarning)\n",
            "/usr/local/lib/python3.7/dist-packages/sklearn/utils/deprecation.py:144: FutureWarning: The sklearn.neighbors.base module is  deprecated in version 0.22 and will be removed in version 0.24. The corresponding classes / functions should instead be imported from sklearn.neighbors. Anything that cannot be imported from sklearn.neighbors is now part of the private API.\n",
            "  warnings.warn(message, FutureWarning)\n"
          ],
          "name": "stderr"
        }
      ]
    },
    {
      "cell_type": "code",
      "metadata": {
        "colab": {
          "base_uri": "https://localhost:8080/"
        },
        "id": "DMNbJ0ihVwsF",
        "outputId": "b9d94b41-ae89-4d56-8029-b4ca9e99c2dc"
      },
      "source": [
        "from google.colab import drive\n",
        "drive.mount('/content/gdrive')"
      ],
      "execution_count": 2,
      "outputs": [
        {
          "output_type": "stream",
          "text": [
            "Mounted at /content/gdrive\n"
          ],
          "name": "stdout"
        }
      ]
    },
    {
      "cell_type": "code",
      "metadata": {
        "colab": {
          "base_uri": "https://localhost:8080/"
        },
        "id": "zV7eOfAv-7PP",
        "outputId": "9de74257-3b22-4995-c853-1c98942ce0bb"
      },
      "source": [
        "%cd /content/gdrive/My Drive/Github/capstone"
      ],
      "execution_count": 3,
      "outputs": [
        {
          "output_type": "stream",
          "text": [
            "/content/gdrive/My Drive/Github/capstone\n"
          ],
          "name": "stdout"
        }
      ]
    },
    {
      "cell_type": "code",
      "metadata": {
        "colab": {
          "base_uri": "https://localhost:8080/",
          "height": 417
        },
        "id": "UJUNR9GNWLAR",
        "outputId": "fc55b132-7964-4547-b989-5051eb189cf9"
      },
      "source": [
        "df = pd.read_pickle('data/master_data.pkl')\n",
        "df"
      ],
      "execution_count": 4,
      "outputs": [
        {
          "output_type": "execute_result",
          "data": {
            "text/html": [
              "<div>\n",
              "<style scoped>\n",
              "    .dataframe tbody tr th:only-of-type {\n",
              "        vertical-align: middle;\n",
              "    }\n",
              "\n",
              "    .dataframe tbody tr th {\n",
              "        vertical-align: top;\n",
              "    }\n",
              "\n",
              "    .dataframe thead th {\n",
              "        text-align: right;\n",
              "    }\n",
              "</style>\n",
              "<table border=\"1\" class=\"dataframe\">\n",
              "  <thead>\n",
              "    <tr style=\"text-align: right;\">\n",
              "      <th></th>\n",
              "      <th>patent_id</th>\n",
              "      <th>text</th>\n",
              "    </tr>\n",
              "  </thead>\n",
              "  <tbody>\n",
              "    <tr>\n",
              "      <th>0</th>\n",
              "      <td>10524402</td>\n",
              "      <td>1. A method comprising: capturing an image of ...</td>\n",
              "    </tr>\n",
              "    <tr>\n",
              "      <th>1</th>\n",
              "      <td>10524403</td>\n",
              "      <td>1. A method for determining a weight of a payl...</td>\n",
              "    </tr>\n",
              "    <tr>\n",
              "      <th>2</th>\n",
              "      <td>10524404</td>\n",
              "      <td>1. A break-away assembly, comprising: a swivel...</td>\n",
              "    </tr>\n",
              "    <tr>\n",
              "      <th>3</th>\n",
              "      <td>10524405</td>\n",
              "      <td>1. An agricultural implement system, comprisin...</td>\n",
              "    </tr>\n",
              "    <tr>\n",
              "      <th>4</th>\n",
              "      <td>10524406</td>\n",
              "      <td>1. A hitch comprising: a tractor; a towed or s...</td>\n",
              "    </tr>\n",
              "    <tr>\n",
              "      <th>...</th>\n",
              "      <td>...</td>\n",
              "      <td>...</td>\n",
              "    </tr>\n",
              "    <tr>\n",
              "      <th>3001030</th>\n",
              "      <td>10395907</td>\n",
              "      <td>1. A generator of an ion beam, comprising: an ...</td>\n",
              "    </tr>\n",
              "    <tr>\n",
              "      <th>3001031</th>\n",
              "      <td>10395908</td>\n",
              "      <td>1. A system for converting product ion mass sp...</td>\n",
              "    </tr>\n",
              "    <tr>\n",
              "      <th>3001032</th>\n",
              "      <td>10395909</td>\n",
              "      <td>1. A mass spectrometer for performing an MS n ...</td>\n",
              "    </tr>\n",
              "    <tr>\n",
              "      <th>3001033</th>\n",
              "      <td>10395910</td>\n",
              "      <td>1. An accelerator mass spectrometry device for...</td>\n",
              "    </tr>\n",
              "    <tr>\n",
              "      <th>3001034</th>\n",
              "      <td>10395911</td>\n",
              "      <td>1. A system for analyzing a sample, the system...</td>\n",
              "    </tr>\n",
              "  </tbody>\n",
              "</table>\n",
              "<p>3001035 rows × 2 columns</p>\n",
              "</div>"
            ],
            "text/plain": [
              "         patent_id                                               text\n",
              "0         10524402  1. A method comprising: capturing an image of ...\n",
              "1         10524403  1. A method for determining a weight of a payl...\n",
              "2         10524404  1. A break-away assembly, comprising: a swivel...\n",
              "3         10524405  1. An agricultural implement system, comprisin...\n",
              "4         10524406  1. A hitch comprising: a tractor; a towed or s...\n",
              "...            ...                                                ...\n",
              "3001030   10395907  1. A generator of an ion beam, comprising: an ...\n",
              "3001031   10395908  1. A system for converting product ion mass sp...\n",
              "3001032   10395909  1. A mass spectrometer for performing an MS n ...\n",
              "3001033   10395910  1. An accelerator mass spectrometry device for...\n",
              "3001034   10395911  1. A system for analyzing a sample, the system...\n",
              "\n",
              "[3001035 rows x 2 columns]"
            ]
          },
          "metadata": {
            "tags": []
          },
          "execution_count": 4
        }
      ]
    },
    {
      "cell_type": "code",
      "metadata": {
        "colab": {
          "base_uri": "https://localhost:8080/",
          "height": 417
        },
        "id": "jfuNSolAuGa3",
        "outputId": "b41130f2-6535-4422-a425-0abbb8007318"
      },
      "source": [
        "# Delete this after finalizing models, truncating dataset just to help with runtimes\n",
        "df = df.iloc[:int(len(df.patent_id)/3)]\n",
        "df"
      ],
      "execution_count": 6,
      "outputs": [
        {
          "output_type": "execute_result",
          "data": {
            "text/html": [
              "<div>\n",
              "<style scoped>\n",
              "    .dataframe tbody tr th:only-of-type {\n",
              "        vertical-align: middle;\n",
              "    }\n",
              "\n",
              "    .dataframe tbody tr th {\n",
              "        vertical-align: top;\n",
              "    }\n",
              "\n",
              "    .dataframe thead th {\n",
              "        text-align: right;\n",
              "    }\n",
              "</style>\n",
              "<table border=\"1\" class=\"dataframe\">\n",
              "  <thead>\n",
              "    <tr style=\"text-align: right;\">\n",
              "      <th></th>\n",
              "      <th>patent_id</th>\n",
              "      <th>text</th>\n",
              "    </tr>\n",
              "  </thead>\n",
              "  <tbody>\n",
              "    <tr>\n",
              "      <th>0</th>\n",
              "      <td>10524402</td>\n",
              "      <td>1. A method comprising: capturing an image of ...</td>\n",
              "    </tr>\n",
              "    <tr>\n",
              "      <th>1</th>\n",
              "      <td>10524403</td>\n",
              "      <td>1. A method for determining a weight of a payl...</td>\n",
              "    </tr>\n",
              "    <tr>\n",
              "      <th>2</th>\n",
              "      <td>10524404</td>\n",
              "      <td>1. A break-away assembly, comprising: a swivel...</td>\n",
              "    </tr>\n",
              "    <tr>\n",
              "      <th>3</th>\n",
              "      <td>10524405</td>\n",
              "      <td>1. An agricultural implement system, comprisin...</td>\n",
              "    </tr>\n",
              "    <tr>\n",
              "      <th>4</th>\n",
              "      <td>10524406</td>\n",
              "      <td>1. A hitch comprising: a tractor; a towed or s...</td>\n",
              "    </tr>\n",
              "    <tr>\n",
              "      <th>...</th>\n",
              "      <td>...</td>\n",
              "      <td>...</td>\n",
              "    </tr>\n",
              "    <tr>\n",
              "      <th>1000340</th>\n",
              "      <td>8571610</td>\n",
              "      <td>1. An electronic communication control system ...</td>\n",
              "    </tr>\n",
              "    <tr>\n",
              "      <th>1000341</th>\n",
              "      <td>8564655</td>\n",
              "      <td>1. A three-dimensional measurement method for ...</td>\n",
              "    </tr>\n",
              "    <tr>\n",
              "      <th>1000342</th>\n",
              "      <td>8564656</td>\n",
              "      <td>1. A method for identifying surface characteri...</td>\n",
              "    </tr>\n",
              "    <tr>\n",
              "      <th>1000343</th>\n",
              "      <td>8571611</td>\n",
              "      <td>1. A headset comprising: a first ear piece hav...</td>\n",
              "    </tr>\n",
              "    <tr>\n",
              "      <th>1000344</th>\n",
              "      <td>8571612</td>\n",
              "      <td>1. A method of managing mobile devices compris...</td>\n",
              "    </tr>\n",
              "  </tbody>\n",
              "</table>\n",
              "<p>1000345 rows × 2 columns</p>\n",
              "</div>"
            ],
            "text/plain": [
              "         patent_id                                               text\n",
              "0         10524402  1. A method comprising: capturing an image of ...\n",
              "1         10524403  1. A method for determining a weight of a payl...\n",
              "2         10524404  1. A break-away assembly, comprising: a swivel...\n",
              "3         10524405  1. An agricultural implement system, comprisin...\n",
              "4         10524406  1. A hitch comprising: a tractor; a towed or s...\n",
              "...            ...                                                ...\n",
              "1000340    8571610  1. An electronic communication control system ...\n",
              "1000341    8564655  1. A three-dimensional measurement method for ...\n",
              "1000342    8564656  1. A method for identifying surface characteri...\n",
              "1000343    8571611  1. A headset comprising: a first ear piece hav...\n",
              "1000344    8571612  1. A method of managing mobile devices compris...\n",
              "\n",
              "[1000345 rows x 2 columns]"
            ]
          },
          "metadata": {
            "tags": []
          },
          "execution_count": 6
        }
      ]
    },
    {
      "cell_type": "code",
      "metadata": {
        "colab": {
          "base_uri": "https://localhost:8080/",
          "height": 417
        },
        "id": "DE3L6_vjXKXP",
        "outputId": "ca6c39bc-fb3e-4bcc-c882-e20bccf68085"
      },
      "source": [
        "df_pats_w_sectors = pd.read_pickle('data/pats_w_sectors.pkl')\n",
        "df_pats_w_sectors"
      ],
      "execution_count": 7,
      "outputs": [
        {
          "output_type": "execute_result",
          "data": {
            "text/html": [
              "<div>\n",
              "<style scoped>\n",
              "    .dataframe tbody tr th:only-of-type {\n",
              "        vertical-align: middle;\n",
              "    }\n",
              "\n",
              "    .dataframe tbody tr th {\n",
              "        vertical-align: top;\n",
              "    }\n",
              "\n",
              "    .dataframe thead th {\n",
              "        text-align: right;\n",
              "    }\n",
              "</style>\n",
              "<table border=\"1\" class=\"dataframe\">\n",
              "  <thead>\n",
              "    <tr style=\"text-align: right;\">\n",
              "      <th></th>\n",
              "      <th>patent_id</th>\n",
              "      <th>sector_title</th>\n",
              "      <th>field_title</th>\n",
              "    </tr>\n",
              "  </thead>\n",
              "  <tbody>\n",
              "    <tr>\n",
              "      <th>0</th>\n",
              "      <td>10001059</td>\n",
              "      <td>Mechanical engineering</td>\n",
              "      <td>Mechanical elements</td>\n",
              "    </tr>\n",
              "    <tr>\n",
              "      <th>1</th>\n",
              "      <td>10053304</td>\n",
              "      <td>Mechanical engineering</td>\n",
              "      <td>Mechanical elements</td>\n",
              "    </tr>\n",
              "    <tr>\n",
              "      <th>2</th>\n",
              "      <td>10085485</td>\n",
              "      <td>Mechanical engineering</td>\n",
              "      <td>Mechanical elements</td>\n",
              "    </tr>\n",
              "    <tr>\n",
              "      <th>3</th>\n",
              "      <td>10138340</td>\n",
              "      <td>Mechanical engineering</td>\n",
              "      <td>Mechanical elements</td>\n",
              "    </tr>\n",
              "    <tr>\n",
              "      <th>4</th>\n",
              "      <td>10189524</td>\n",
              "      <td>Mechanical engineering</td>\n",
              "      <td>Mechanical elements</td>\n",
              "    </tr>\n",
              "    <tr>\n",
              "      <th>...</th>\n",
              "      <td>...</td>\n",
              "      <td>...</td>\n",
              "      <td>...</td>\n",
              "    </tr>\n",
              "    <tr>\n",
              "      <th>9999995</th>\n",
              "      <td>10818791</td>\n",
              "      <td>Chemistry</td>\n",
              "      <td>Micro-structural and nano-technology</td>\n",
              "    </tr>\n",
              "    <tr>\n",
              "      <th>9999996</th>\n",
              "      <td>10818792</td>\n",
              "      <td>Chemistry</td>\n",
              "      <td>Micro-structural and nano-technology</td>\n",
              "    </tr>\n",
              "    <tr>\n",
              "      <th>9999997</th>\n",
              "      <td>10818805</td>\n",
              "      <td>Chemistry</td>\n",
              "      <td>Micro-structural and nano-technology</td>\n",
              "    </tr>\n",
              "    <tr>\n",
              "      <th>9999998</th>\n",
              "      <td>10818835</td>\n",
              "      <td>Chemistry</td>\n",
              "      <td>Micro-structural and nano-technology</td>\n",
              "    </tr>\n",
              "    <tr>\n",
              "      <th>9999999</th>\n",
              "      <td>10818922</td>\n",
              "      <td>Chemistry</td>\n",
              "      <td>Micro-structural and nano-technology</td>\n",
              "    </tr>\n",
              "  </tbody>\n",
              "</table>\n",
              "<p>10000000 rows × 3 columns</p>\n",
              "</div>"
            ],
            "text/plain": [
              "        patent_id            sector_title                           field_title\n",
              "0        10001059  Mechanical engineering                   Mechanical elements\n",
              "1        10053304  Mechanical engineering                   Mechanical elements\n",
              "2        10085485  Mechanical engineering                   Mechanical elements\n",
              "3        10138340  Mechanical engineering                   Mechanical elements\n",
              "4        10189524  Mechanical engineering                   Mechanical elements\n",
              "...           ...                     ...                                   ...\n",
              "9999995  10818791               Chemistry  Micro-structural and nano-technology\n",
              "9999996  10818792               Chemistry  Micro-structural and nano-technology\n",
              "9999997  10818805               Chemistry  Micro-structural and nano-technology\n",
              "9999998  10818835               Chemistry  Micro-structural and nano-technology\n",
              "9999999  10818922               Chemistry  Micro-structural and nano-technology\n",
              "\n",
              "[10000000 rows x 3 columns]"
            ]
          },
          "metadata": {
            "tags": []
          },
          "execution_count": 7
        }
      ]
    },
    {
      "cell_type": "code",
      "metadata": {
        "colab": {
          "base_uri": "https://localhost:8080/"
        },
        "id": "5e_kdOJaYT79",
        "outputId": "4705014d-259c-42b8-d8aa-1572122e65d6"
      },
      "source": [
        "len(set(df_pats_w_sectors.patent_id))"
      ],
      "execution_count": 8,
      "outputs": [
        {
          "output_type": "execute_result",
          "data": {
            "text/plain": [
              "6836110"
            ]
          },
          "metadata": {
            "tags": []
          },
          "execution_count": 8
        }
      ]
    },
    {
      "cell_type": "code",
      "metadata": {
        "colab": {
          "base_uri": "https://localhost:8080/"
        },
        "id": "g2e_jxmwZynJ",
        "outputId": "d409558d-a2ba-496f-9e90-0d76cfe36350"
      },
      "source": [
        "counts = df_pats_w_sectors.patent_id.value_counts()\n",
        "counts"
      ],
      "execution_count": 9,
      "outputs": [
        {
          "output_type": "execute_result",
          "data": {
            "text/plain": [
              "9639998    8\n",
              "9870654    8\n",
              "3992294    8\n",
              "9773215    8\n",
              "4055591    8\n",
              "          ..\n",
              "6531934    1\n",
              "7987125    1\n",
              "5615819    1\n",
              "5621700    1\n",
              "6928784    1\n",
              "Name: patent_id, Length: 6836110, dtype: int64"
            ]
          },
          "metadata": {
            "tags": []
          },
          "execution_count": 9
        }
      ]
    },
    {
      "cell_type": "code",
      "metadata": {
        "id": "4eDhLw0Jci5E"
      },
      "source": [
        "counts = counts.to_frame()"
      ],
      "execution_count": 10,
      "outputs": []
    },
    {
      "cell_type": "code",
      "metadata": {
        "id": "zX0rC0AFbJlL"
      },
      "source": [
        "counts = counts.reset_index()"
      ],
      "execution_count": 11,
      "outputs": []
    },
    {
      "cell_type": "code",
      "metadata": {
        "colab": {
          "base_uri": "https://localhost:8080/",
          "height": 447
        },
        "id": "jkZHSmxsaLwF",
        "outputId": "e40f5d6d-8786-42cb-ab25-80f2c214a04b"
      },
      "source": [
        "groups = df_pats_w_sectors.groupby(by='patent_id').count()\n",
        "groups[groups.sector_title > 1]"
      ],
      "execution_count": 12,
      "outputs": [
        {
          "output_type": "execute_result",
          "data": {
            "text/html": [
              "<div>\n",
              "<style scoped>\n",
              "    .dataframe tbody tr th:only-of-type {\n",
              "        vertical-align: middle;\n",
              "    }\n",
              "\n",
              "    .dataframe tbody tr th {\n",
              "        vertical-align: top;\n",
              "    }\n",
              "\n",
              "    .dataframe thead th {\n",
              "        text-align: right;\n",
              "    }\n",
              "</style>\n",
              "<table border=\"1\" class=\"dataframe\">\n",
              "  <thead>\n",
              "    <tr style=\"text-align: right;\">\n",
              "      <th></th>\n",
              "      <th>sector_title</th>\n",
              "      <th>field_title</th>\n",
              "    </tr>\n",
              "    <tr>\n",
              "      <th>patent_id</th>\n",
              "      <th></th>\n",
              "      <th></th>\n",
              "    </tr>\n",
              "  </thead>\n",
              "  <tbody>\n",
              "    <tr>\n",
              "      <th>10000001</th>\n",
              "      <td>2</td>\n",
              "      <td>2</td>\n",
              "    </tr>\n",
              "    <tr>\n",
              "      <th>10000002</th>\n",
              "      <td>3</td>\n",
              "      <td>3</td>\n",
              "    </tr>\n",
              "    <tr>\n",
              "      <th>10000006</th>\n",
              "      <td>2</td>\n",
              "      <td>2</td>\n",
              "    </tr>\n",
              "    <tr>\n",
              "      <th>10000008</th>\n",
              "      <td>2</td>\n",
              "      <td>2</td>\n",
              "    </tr>\n",
              "    <tr>\n",
              "      <th>10000010</th>\n",
              "      <td>2</td>\n",
              "      <td>2</td>\n",
              "    </tr>\n",
              "    <tr>\n",
              "      <th>...</th>\n",
              "      <td>...</td>\n",
              "      <td>...</td>\n",
              "    </tr>\n",
              "    <tr>\n",
              "      <th>9999993</th>\n",
              "      <td>2</td>\n",
              "      <td>2</td>\n",
              "    </tr>\n",
              "    <tr>\n",
              "      <th>9999994</th>\n",
              "      <td>4</td>\n",
              "      <td>4</td>\n",
              "    </tr>\n",
              "    <tr>\n",
              "      <th>9999996</th>\n",
              "      <td>2</td>\n",
              "      <td>2</td>\n",
              "    </tr>\n",
              "    <tr>\n",
              "      <th>9999997</th>\n",
              "      <td>2</td>\n",
              "      <td>2</td>\n",
              "    </tr>\n",
              "    <tr>\n",
              "      <th>9999998</th>\n",
              "      <td>2</td>\n",
              "      <td>2</td>\n",
              "    </tr>\n",
              "  </tbody>\n",
              "</table>\n",
              "<p>2473146 rows × 2 columns</p>\n",
              "</div>"
            ],
            "text/plain": [
              "           sector_title  field_title\n",
              "patent_id                           \n",
              "10000001              2            2\n",
              "10000002              3            3\n",
              "10000006              2            2\n",
              "10000008              2            2\n",
              "10000010              2            2\n",
              "...                 ...          ...\n",
              "9999993               2            2\n",
              "9999994               4            4\n",
              "9999996               2            2\n",
              "9999997               2            2\n",
              "9999998               2            2\n",
              "\n",
              "[2473146 rows x 2 columns]"
            ]
          },
          "metadata": {
            "tags": []
          },
          "execution_count": 12
        }
      ]
    },
    {
      "cell_type": "code",
      "metadata": {
        "colab": {
          "base_uri": "https://localhost:8080/",
          "height": 417
        },
        "id": "1N7Ojld0iA5Y",
        "outputId": "91e1490c-a7c2-47e8-d8ef-5c188b6163fe"
      },
      "source": [
        "df_pats_w_sectors = df_pats_w_sectors.drop(['field_title'], axis=1)\n",
        "df_pats_w_sectors"
      ],
      "execution_count": 13,
      "outputs": [
        {
          "output_type": "execute_result",
          "data": {
            "text/html": [
              "<div>\n",
              "<style scoped>\n",
              "    .dataframe tbody tr th:only-of-type {\n",
              "        vertical-align: middle;\n",
              "    }\n",
              "\n",
              "    .dataframe tbody tr th {\n",
              "        vertical-align: top;\n",
              "    }\n",
              "\n",
              "    .dataframe thead th {\n",
              "        text-align: right;\n",
              "    }\n",
              "</style>\n",
              "<table border=\"1\" class=\"dataframe\">\n",
              "  <thead>\n",
              "    <tr style=\"text-align: right;\">\n",
              "      <th></th>\n",
              "      <th>patent_id</th>\n",
              "      <th>sector_title</th>\n",
              "    </tr>\n",
              "  </thead>\n",
              "  <tbody>\n",
              "    <tr>\n",
              "      <th>0</th>\n",
              "      <td>10001059</td>\n",
              "      <td>Mechanical engineering</td>\n",
              "    </tr>\n",
              "    <tr>\n",
              "      <th>1</th>\n",
              "      <td>10053304</td>\n",
              "      <td>Mechanical engineering</td>\n",
              "    </tr>\n",
              "    <tr>\n",
              "      <th>2</th>\n",
              "      <td>10085485</td>\n",
              "      <td>Mechanical engineering</td>\n",
              "    </tr>\n",
              "    <tr>\n",
              "      <th>3</th>\n",
              "      <td>10138340</td>\n",
              "      <td>Mechanical engineering</td>\n",
              "    </tr>\n",
              "    <tr>\n",
              "      <th>4</th>\n",
              "      <td>10189524</td>\n",
              "      <td>Mechanical engineering</td>\n",
              "    </tr>\n",
              "    <tr>\n",
              "      <th>...</th>\n",
              "      <td>...</td>\n",
              "      <td>...</td>\n",
              "    </tr>\n",
              "    <tr>\n",
              "      <th>9999995</th>\n",
              "      <td>10818791</td>\n",
              "      <td>Chemistry</td>\n",
              "    </tr>\n",
              "    <tr>\n",
              "      <th>9999996</th>\n",
              "      <td>10818792</td>\n",
              "      <td>Chemistry</td>\n",
              "    </tr>\n",
              "    <tr>\n",
              "      <th>9999997</th>\n",
              "      <td>10818805</td>\n",
              "      <td>Chemistry</td>\n",
              "    </tr>\n",
              "    <tr>\n",
              "      <th>9999998</th>\n",
              "      <td>10818835</td>\n",
              "      <td>Chemistry</td>\n",
              "    </tr>\n",
              "    <tr>\n",
              "      <th>9999999</th>\n",
              "      <td>10818922</td>\n",
              "      <td>Chemistry</td>\n",
              "    </tr>\n",
              "  </tbody>\n",
              "</table>\n",
              "<p>10000000 rows × 2 columns</p>\n",
              "</div>"
            ],
            "text/plain": [
              "        patent_id            sector_title\n",
              "0        10001059  Mechanical engineering\n",
              "1        10053304  Mechanical engineering\n",
              "2        10085485  Mechanical engineering\n",
              "3        10138340  Mechanical engineering\n",
              "4        10189524  Mechanical engineering\n",
              "...           ...                     ...\n",
              "9999995  10818791               Chemistry\n",
              "9999996  10818792               Chemistry\n",
              "9999997  10818805               Chemistry\n",
              "9999998  10818835               Chemistry\n",
              "9999999  10818922               Chemistry\n",
              "\n",
              "[10000000 rows x 2 columns]"
            ]
          },
          "metadata": {
            "tags": []
          },
          "execution_count": 13
        }
      ]
    },
    {
      "cell_type": "code",
      "metadata": {
        "colab": {
          "base_uri": "https://localhost:8080/",
          "height": 417
        },
        "id": "yCBIY013iQe4",
        "outputId": "5e391015-7bc3-416f-d8f1-d2dd0614d02a"
      },
      "source": [
        "df_pats_w_sectors = df_pats_w_sectors.drop_duplicates()\n",
        "df_pats_w_sectors"
      ],
      "execution_count": 14,
      "outputs": [
        {
          "output_type": "execute_result",
          "data": {
            "text/html": [
              "<div>\n",
              "<style scoped>\n",
              "    .dataframe tbody tr th:only-of-type {\n",
              "        vertical-align: middle;\n",
              "    }\n",
              "\n",
              "    .dataframe tbody tr th {\n",
              "        vertical-align: top;\n",
              "    }\n",
              "\n",
              "    .dataframe thead th {\n",
              "        text-align: right;\n",
              "    }\n",
              "</style>\n",
              "<table border=\"1\" class=\"dataframe\">\n",
              "  <thead>\n",
              "    <tr style=\"text-align: right;\">\n",
              "      <th></th>\n",
              "      <th>patent_id</th>\n",
              "      <th>sector_title</th>\n",
              "    </tr>\n",
              "  </thead>\n",
              "  <tbody>\n",
              "    <tr>\n",
              "      <th>0</th>\n",
              "      <td>10001059</td>\n",
              "      <td>Mechanical engineering</td>\n",
              "    </tr>\n",
              "    <tr>\n",
              "      <th>1</th>\n",
              "      <td>10053304</td>\n",
              "      <td>Mechanical engineering</td>\n",
              "    </tr>\n",
              "    <tr>\n",
              "      <th>2</th>\n",
              "      <td>10085485</td>\n",
              "      <td>Mechanical engineering</td>\n",
              "    </tr>\n",
              "    <tr>\n",
              "      <th>3</th>\n",
              "      <td>10138340</td>\n",
              "      <td>Mechanical engineering</td>\n",
              "    </tr>\n",
              "    <tr>\n",
              "      <th>4</th>\n",
              "      <td>10189524</td>\n",
              "      <td>Mechanical engineering</td>\n",
              "    </tr>\n",
              "    <tr>\n",
              "      <th>...</th>\n",
              "      <td>...</td>\n",
              "      <td>...</td>\n",
              "    </tr>\n",
              "    <tr>\n",
              "      <th>9999994</th>\n",
              "      <td>10818777</td>\n",
              "      <td>Chemistry</td>\n",
              "    </tr>\n",
              "    <tr>\n",
              "      <th>9999995</th>\n",
              "      <td>10818791</td>\n",
              "      <td>Chemistry</td>\n",
              "    </tr>\n",
              "    <tr>\n",
              "      <th>9999996</th>\n",
              "      <td>10818792</td>\n",
              "      <td>Chemistry</td>\n",
              "    </tr>\n",
              "    <tr>\n",
              "      <th>9999997</th>\n",
              "      <td>10818805</td>\n",
              "      <td>Chemistry</td>\n",
              "    </tr>\n",
              "    <tr>\n",
              "      <th>9999998</th>\n",
              "      <td>10818835</td>\n",
              "      <td>Chemistry</td>\n",
              "    </tr>\n",
              "  </tbody>\n",
              "</table>\n",
              "<p>8272355 rows × 2 columns</p>\n",
              "</div>"
            ],
            "text/plain": [
              "        patent_id            sector_title\n",
              "0        10001059  Mechanical engineering\n",
              "1        10053304  Mechanical engineering\n",
              "2        10085485  Mechanical engineering\n",
              "3        10138340  Mechanical engineering\n",
              "4        10189524  Mechanical engineering\n",
              "...           ...                     ...\n",
              "9999994  10818777               Chemistry\n",
              "9999995  10818791               Chemistry\n",
              "9999996  10818792               Chemistry\n",
              "9999997  10818805               Chemistry\n",
              "9999998  10818835               Chemistry\n",
              "\n",
              "[8272355 rows x 2 columns]"
            ]
          },
          "metadata": {
            "tags": []
          },
          "execution_count": 14
        }
      ]
    },
    {
      "cell_type": "code",
      "metadata": {
        "colab": {
          "base_uri": "https://localhost:8080/"
        },
        "id": "BJ8UEtEEimMQ",
        "outputId": "55d97162-2276-4a89-beb4-fd2b2e7a475d"
      },
      "source": [
        "df_pats_w_sectors.value_counts()"
      ],
      "execution_count": 15,
      "outputs": [
        {
          "output_type": "execute_result",
          "data": {
            "text/plain": [
              "patent_id  sector_title          \n",
              "9999999    Mechanical engineering    1\n",
              "5379517    Mechanical engineering    1\n",
              "5379506    Chemistry                 1\n",
              "           Instruments               1\n",
              "5379507    Chemistry                 1\n",
              "                                    ..\n",
              "7728176    Chemistry                 1\n",
              "7728177    Chemistry                 1\n",
              "7728178    Chemistry                 1\n",
              "7728179    Chemistry                 1\n",
              "10000000   Instruments               1\n",
              "Length: 8272355, dtype: int64"
            ]
          },
          "metadata": {
            "tags": []
          },
          "execution_count": 15
        }
      ]
    },
    {
      "cell_type": "code",
      "metadata": {
        "id": "TzrP_mYGi5SO"
      },
      "source": [
        "groups2 = df_pats_w_sectors.groupby(by='patent_id').count()\n",
        "singles = groups2[groups2.sector_title == 1]"
      ],
      "execution_count": 16,
      "outputs": []
    },
    {
      "cell_type": "code",
      "metadata": {
        "colab": {
          "base_uri": "https://localhost:8080/"
        },
        "id": "vfbKF1iEkI7Z",
        "outputId": "8c1181f0-7194-4ca5-f48c-99e37a1e5e1f"
      },
      "source": [
        "len(singles)"
      ],
      "execution_count": 17,
      "outputs": [
        {
          "output_type": "execute_result",
          "data": {
            "text/plain": [
              "5534114"
            ]
          },
          "metadata": {
            "tags": []
          },
          "execution_count": 17
        }
      ]
    },
    {
      "cell_type": "code",
      "metadata": {
        "colab": {
          "base_uri": "https://localhost:8080/",
          "height": 417
        },
        "id": "N23HO1QGjZ8i",
        "outputId": "70b81427-399b-422b-af99-8399da06901c"
      },
      "source": [
        "singles = singles.reset_index()\n",
        "ok_pats = df_pats_w_sectors.merge(singles, on='patent_id')\n",
        "ok_pats"
      ],
      "execution_count": 18,
      "outputs": [
        {
          "output_type": "execute_result",
          "data": {
            "text/html": [
              "<div>\n",
              "<style scoped>\n",
              "    .dataframe tbody tr th:only-of-type {\n",
              "        vertical-align: middle;\n",
              "    }\n",
              "\n",
              "    .dataframe tbody tr th {\n",
              "        vertical-align: top;\n",
              "    }\n",
              "\n",
              "    .dataframe thead th {\n",
              "        text-align: right;\n",
              "    }\n",
              "</style>\n",
              "<table border=\"1\" class=\"dataframe\">\n",
              "  <thead>\n",
              "    <tr style=\"text-align: right;\">\n",
              "      <th></th>\n",
              "      <th>patent_id</th>\n",
              "      <th>sector_title_x</th>\n",
              "      <th>sector_title_y</th>\n",
              "    </tr>\n",
              "  </thead>\n",
              "  <tbody>\n",
              "    <tr>\n",
              "      <th>0</th>\n",
              "      <td>10001059</td>\n",
              "      <td>Mechanical engineering</td>\n",
              "      <td>1</td>\n",
              "    </tr>\n",
              "    <tr>\n",
              "      <th>1</th>\n",
              "      <td>10189524</td>\n",
              "      <td>Mechanical engineering</td>\n",
              "      <td>1</td>\n",
              "    </tr>\n",
              "    <tr>\n",
              "      <th>2</th>\n",
              "      <td>10309306</td>\n",
              "      <td>Mechanical engineering</td>\n",
              "      <td>1</td>\n",
              "    </tr>\n",
              "    <tr>\n",
              "      <th>3</th>\n",
              "      <td>10427924</td>\n",
              "      <td>Mechanical engineering</td>\n",
              "      <td>1</td>\n",
              "    </tr>\n",
              "    <tr>\n",
              "      <th>4</th>\n",
              "      <td>10428949</td>\n",
              "      <td>Mechanical engineering</td>\n",
              "      <td>1</td>\n",
              "    </tr>\n",
              "    <tr>\n",
              "      <th>...</th>\n",
              "      <td>...</td>\n",
              "      <td>...</td>\n",
              "      <td>...</td>\n",
              "    </tr>\n",
              "    <tr>\n",
              "      <th>5534109</th>\n",
              "      <td>10800649</td>\n",
              "      <td>Chemistry</td>\n",
              "      <td>1</td>\n",
              "    </tr>\n",
              "    <tr>\n",
              "      <th>5534110</th>\n",
              "      <td>10800650</td>\n",
              "      <td>Chemistry</td>\n",
              "      <td>1</td>\n",
              "    </tr>\n",
              "    <tr>\n",
              "      <th>5534111</th>\n",
              "      <td>10807862</td>\n",
              "      <td>Chemistry</td>\n",
              "      <td>1</td>\n",
              "    </tr>\n",
              "    <tr>\n",
              "      <th>5534112</th>\n",
              "      <td>10807863</td>\n",
              "      <td>Chemistry</td>\n",
              "      <td>1</td>\n",
              "    </tr>\n",
              "    <tr>\n",
              "      <th>5534113</th>\n",
              "      <td>10815120</td>\n",
              "      <td>Chemistry</td>\n",
              "      <td>1</td>\n",
              "    </tr>\n",
              "  </tbody>\n",
              "</table>\n",
              "<p>5534114 rows × 3 columns</p>\n",
              "</div>"
            ],
            "text/plain": [
              "        patent_id          sector_title_x  sector_title_y\n",
              "0        10001059  Mechanical engineering               1\n",
              "1        10189524  Mechanical engineering               1\n",
              "2        10309306  Mechanical engineering               1\n",
              "3        10427924  Mechanical engineering               1\n",
              "4        10428949  Mechanical engineering               1\n",
              "...           ...                     ...             ...\n",
              "5534109  10800649               Chemistry               1\n",
              "5534110  10800650               Chemistry               1\n",
              "5534111  10807862               Chemistry               1\n",
              "5534112  10807863               Chemistry               1\n",
              "5534113  10815120               Chemistry               1\n",
              "\n",
              "[5534114 rows x 3 columns]"
            ]
          },
          "metadata": {
            "tags": []
          },
          "execution_count": 18
        }
      ]
    },
    {
      "cell_type": "code",
      "metadata": {
        "colab": {
          "base_uri": "https://localhost:8080/",
          "height": 417
        },
        "id": "5Q3qn_6GlQdD",
        "outputId": "4acbcad0-3779-4545-cdf5-80b32bba68ef"
      },
      "source": [
        "ok_pats = ok_pats.drop(['sector_title_y'], axis=1)\n",
        "ok_pats = ok_pats.rename(columns={'sector_title_x':'sector'})\n",
        "ok_pats"
      ],
      "execution_count": 19,
      "outputs": [
        {
          "output_type": "execute_result",
          "data": {
            "text/html": [
              "<div>\n",
              "<style scoped>\n",
              "    .dataframe tbody tr th:only-of-type {\n",
              "        vertical-align: middle;\n",
              "    }\n",
              "\n",
              "    .dataframe tbody tr th {\n",
              "        vertical-align: top;\n",
              "    }\n",
              "\n",
              "    .dataframe thead th {\n",
              "        text-align: right;\n",
              "    }\n",
              "</style>\n",
              "<table border=\"1\" class=\"dataframe\">\n",
              "  <thead>\n",
              "    <tr style=\"text-align: right;\">\n",
              "      <th></th>\n",
              "      <th>patent_id</th>\n",
              "      <th>sector</th>\n",
              "    </tr>\n",
              "  </thead>\n",
              "  <tbody>\n",
              "    <tr>\n",
              "      <th>0</th>\n",
              "      <td>10001059</td>\n",
              "      <td>Mechanical engineering</td>\n",
              "    </tr>\n",
              "    <tr>\n",
              "      <th>1</th>\n",
              "      <td>10189524</td>\n",
              "      <td>Mechanical engineering</td>\n",
              "    </tr>\n",
              "    <tr>\n",
              "      <th>2</th>\n",
              "      <td>10309306</td>\n",
              "      <td>Mechanical engineering</td>\n",
              "    </tr>\n",
              "    <tr>\n",
              "      <th>3</th>\n",
              "      <td>10427924</td>\n",
              "      <td>Mechanical engineering</td>\n",
              "    </tr>\n",
              "    <tr>\n",
              "      <th>4</th>\n",
              "      <td>10428949</td>\n",
              "      <td>Mechanical engineering</td>\n",
              "    </tr>\n",
              "    <tr>\n",
              "      <th>...</th>\n",
              "      <td>...</td>\n",
              "      <td>...</td>\n",
              "    </tr>\n",
              "    <tr>\n",
              "      <th>5534109</th>\n",
              "      <td>10800649</td>\n",
              "      <td>Chemistry</td>\n",
              "    </tr>\n",
              "    <tr>\n",
              "      <th>5534110</th>\n",
              "      <td>10800650</td>\n",
              "      <td>Chemistry</td>\n",
              "    </tr>\n",
              "    <tr>\n",
              "      <th>5534111</th>\n",
              "      <td>10807862</td>\n",
              "      <td>Chemistry</td>\n",
              "    </tr>\n",
              "    <tr>\n",
              "      <th>5534112</th>\n",
              "      <td>10807863</td>\n",
              "      <td>Chemistry</td>\n",
              "    </tr>\n",
              "    <tr>\n",
              "      <th>5534113</th>\n",
              "      <td>10815120</td>\n",
              "      <td>Chemistry</td>\n",
              "    </tr>\n",
              "  </tbody>\n",
              "</table>\n",
              "<p>5534114 rows × 2 columns</p>\n",
              "</div>"
            ],
            "text/plain": [
              "        patent_id                  sector\n",
              "0        10001059  Mechanical engineering\n",
              "1        10189524  Mechanical engineering\n",
              "2        10309306  Mechanical engineering\n",
              "3        10427924  Mechanical engineering\n",
              "4        10428949  Mechanical engineering\n",
              "...           ...                     ...\n",
              "5534109  10800649               Chemistry\n",
              "5534110  10800650               Chemistry\n",
              "5534111  10807862               Chemistry\n",
              "5534112  10807863               Chemistry\n",
              "5534113  10815120               Chemistry\n",
              "\n",
              "[5534114 rows x 2 columns]"
            ]
          },
          "metadata": {
            "tags": []
          },
          "execution_count": 19
        }
      ]
    },
    {
      "cell_type": "code",
      "metadata": {
        "colab": {
          "base_uri": "https://localhost:8080/"
        },
        "id": "UozUZ7eEmQfl",
        "outputId": "98e2b2b2-9042-4008-ec8e-14162ec4cacf"
      },
      "source": [
        "ok_pats.patent_id = ok_pats.patent_id.astype('int64')\n",
        "ok_pats.info()"
      ],
      "execution_count": 20,
      "outputs": [
        {
          "output_type": "stream",
          "text": [
            "<class 'pandas.core.frame.DataFrame'>\n",
            "Int64Index: 5534114 entries, 0 to 5534113\n",
            "Data columns (total 2 columns):\n",
            " #   Column     Dtype \n",
            "---  ------     ----- \n",
            " 0   patent_id  int64 \n",
            " 1   sector     object\n",
            "dtypes: int64(1), object(1)\n",
            "memory usage: 126.7+ MB\n"
          ],
          "name": "stdout"
        }
      ]
    },
    {
      "cell_type": "code",
      "metadata": {
        "colab": {
          "base_uri": "https://localhost:8080/",
          "height": 417
        },
        "id": "mFv_WtQKkVfv",
        "outputId": "4595bbaf-19a5-4070-a3f1-304fd86c9f79"
      },
      "source": [
        "# inner join with claims text\n",
        "df_master = ok_pats.merge(df, how='inner', on='patent_id')\n",
        "df_master"
      ],
      "execution_count": 21,
      "outputs": [
        {
          "output_type": "execute_result",
          "data": {
            "text/html": [
              "<div>\n",
              "<style scoped>\n",
              "    .dataframe tbody tr th:only-of-type {\n",
              "        vertical-align: middle;\n",
              "    }\n",
              "\n",
              "    .dataframe tbody tr th {\n",
              "        vertical-align: top;\n",
              "    }\n",
              "\n",
              "    .dataframe thead th {\n",
              "        text-align: right;\n",
              "    }\n",
              "</style>\n",
              "<table border=\"1\" class=\"dataframe\">\n",
              "  <thead>\n",
              "    <tr style=\"text-align: right;\">\n",
              "      <th></th>\n",
              "      <th>patent_id</th>\n",
              "      <th>sector</th>\n",
              "      <th>text</th>\n",
              "    </tr>\n",
              "  </thead>\n",
              "  <tbody>\n",
              "    <tr>\n",
              "      <th>0</th>\n",
              "      <td>10549804</td>\n",
              "      <td>Mechanical engineering</td>\n",
              "      <td>1. A vehicle, comprising: a frame assembly hav...</td>\n",
              "    </tr>\n",
              "    <tr>\n",
              "      <th>1</th>\n",
              "      <td>8047701</td>\n",
              "      <td>Mechanical engineering</td>\n",
              "      <td>1. A batch mixer, comprising: a mixer main bod...</td>\n",
              "    </tr>\n",
              "    <tr>\n",
              "      <th>2</th>\n",
              "      <td>10831125</td>\n",
              "      <td>Mechanical engineering</td>\n",
              "      <td>1. A developer carrying member, comprising: an...</td>\n",
              "    </tr>\n",
              "    <tr>\n",
              "      <th>3</th>\n",
              "      <td>10873657</td>\n",
              "      <td>Mechanical engineering</td>\n",
              "      <td>1. A phone support assembly comprising: a plat...</td>\n",
              "    </tr>\n",
              "    <tr>\n",
              "      <th>4</th>\n",
              "      <td>7861373</td>\n",
              "      <td>Mechanical engineering</td>\n",
              "      <td>1. A lanyard handle, comprising in combination...</td>\n",
              "    </tr>\n",
              "    <tr>\n",
              "      <th>...</th>\n",
              "      <td>...</td>\n",
              "      <td>...</td>\n",
              "      <td>...</td>\n",
              "    </tr>\n",
              "    <tr>\n",
              "      <th>745088</th>\n",
              "      <td>10800649</td>\n",
              "      <td>Chemistry</td>\n",
              "      <td>1. A microelectromechanical systems (MEMS) dev...</td>\n",
              "    </tr>\n",
              "    <tr>\n",
              "      <th>745089</th>\n",
              "      <td>10800650</td>\n",
              "      <td>Chemistry</td>\n",
              "      <td>1. A semiconductor device comprising: a cavity...</td>\n",
              "    </tr>\n",
              "    <tr>\n",
              "      <th>745090</th>\n",
              "      <td>10807862</td>\n",
              "      <td>Chemistry</td>\n",
              "      <td>1. A semiconductor device, comprising: a semic...</td>\n",
              "    </tr>\n",
              "    <tr>\n",
              "      <th>745091</th>\n",
              "      <td>10807863</td>\n",
              "      <td>Chemistry</td>\n",
              "      <td>1. A method for manufacturing micromechanical ...</td>\n",
              "    </tr>\n",
              "    <tr>\n",
              "      <th>745092</th>\n",
              "      <td>10815120</td>\n",
              "      <td>Chemistry</td>\n",
              "      <td>1. A method of manufacturing a semiconductor d...</td>\n",
              "    </tr>\n",
              "  </tbody>\n",
              "</table>\n",
              "<p>745093 rows × 3 columns</p>\n",
              "</div>"
            ],
            "text/plain": [
              "        patent_id  ...                                               text\n",
              "0        10549804  ...  1. A vehicle, comprising: a frame assembly hav...\n",
              "1         8047701  ...  1. A batch mixer, comprising: a mixer main bod...\n",
              "2        10831125  ...  1. A developer carrying member, comprising: an...\n",
              "3        10873657  ...  1. A phone support assembly comprising: a plat...\n",
              "4         7861373  ...  1. A lanyard handle, comprising in combination...\n",
              "...           ...  ...                                                ...\n",
              "745088   10800649  ...  1. A microelectromechanical systems (MEMS) dev...\n",
              "745089   10800650  ...  1. A semiconductor device comprising: a cavity...\n",
              "745090   10807862  ...  1. A semiconductor device, comprising: a semic...\n",
              "745091   10807863  ...  1. A method for manufacturing micromechanical ...\n",
              "745092   10815120  ...  1. A method of manufacturing a semiconductor d...\n",
              "\n",
              "[745093 rows x 3 columns]"
            ]
          },
          "metadata": {
            "tags": []
          },
          "execution_count": 21
        }
      ]
    },
    {
      "cell_type": "code",
      "metadata": {
        "colab": {
          "base_uri": "https://localhost:8080/"
        },
        "id": "3t3TRdOBnzir",
        "outputId": "4bde197a-9a70-4646-b101-c70df615e64f"
      },
      "source": [
        "set(df_master.sector)"
      ],
      "execution_count": 22,
      "outputs": [
        {
          "output_type": "execute_result",
          "data": {
            "text/plain": [
              "{'Chemistry',\n",
              " 'Electrical engineering',\n",
              " 'Instruments',\n",
              " 'Mechanical engineering',\n",
              " 'Other fields'}"
            ]
          },
          "metadata": {
            "tags": []
          },
          "execution_count": 22
        }
      ]
    },
    {
      "cell_type": "code",
      "metadata": {
        "colab": {
          "base_uri": "https://localhost:8080/",
          "height": 417
        },
        "id": "CB2DlGK_pR6t",
        "outputId": "606adc4c-bc66-46a7-f320-22da7638ae43"
      },
      "source": [
        "df_master = df_master[df_master.sector!='Other fields']\n",
        "df_master"
      ],
      "execution_count": 23,
      "outputs": [
        {
          "output_type": "execute_result",
          "data": {
            "text/html": [
              "<div>\n",
              "<style scoped>\n",
              "    .dataframe tbody tr th:only-of-type {\n",
              "        vertical-align: middle;\n",
              "    }\n",
              "\n",
              "    .dataframe tbody tr th {\n",
              "        vertical-align: top;\n",
              "    }\n",
              "\n",
              "    .dataframe thead th {\n",
              "        text-align: right;\n",
              "    }\n",
              "</style>\n",
              "<table border=\"1\" class=\"dataframe\">\n",
              "  <thead>\n",
              "    <tr style=\"text-align: right;\">\n",
              "      <th></th>\n",
              "      <th>patent_id</th>\n",
              "      <th>sector</th>\n",
              "      <th>text</th>\n",
              "    </tr>\n",
              "  </thead>\n",
              "  <tbody>\n",
              "    <tr>\n",
              "      <th>0</th>\n",
              "      <td>10549804</td>\n",
              "      <td>Mechanical engineering</td>\n",
              "      <td>1. A vehicle, comprising: a frame assembly hav...</td>\n",
              "    </tr>\n",
              "    <tr>\n",
              "      <th>1</th>\n",
              "      <td>8047701</td>\n",
              "      <td>Mechanical engineering</td>\n",
              "      <td>1. A batch mixer, comprising: a mixer main bod...</td>\n",
              "    </tr>\n",
              "    <tr>\n",
              "      <th>2</th>\n",
              "      <td>10831125</td>\n",
              "      <td>Mechanical engineering</td>\n",
              "      <td>1. A developer carrying member, comprising: an...</td>\n",
              "    </tr>\n",
              "    <tr>\n",
              "      <th>3</th>\n",
              "      <td>10873657</td>\n",
              "      <td>Mechanical engineering</td>\n",
              "      <td>1. A phone support assembly comprising: a plat...</td>\n",
              "    </tr>\n",
              "    <tr>\n",
              "      <th>4</th>\n",
              "      <td>7861373</td>\n",
              "      <td>Mechanical engineering</td>\n",
              "      <td>1. A lanyard handle, comprising in combination...</td>\n",
              "    </tr>\n",
              "    <tr>\n",
              "      <th>...</th>\n",
              "      <td>...</td>\n",
              "      <td>...</td>\n",
              "      <td>...</td>\n",
              "    </tr>\n",
              "    <tr>\n",
              "      <th>745088</th>\n",
              "      <td>10800649</td>\n",
              "      <td>Chemistry</td>\n",
              "      <td>1. A microelectromechanical systems (MEMS) dev...</td>\n",
              "    </tr>\n",
              "    <tr>\n",
              "      <th>745089</th>\n",
              "      <td>10800650</td>\n",
              "      <td>Chemistry</td>\n",
              "      <td>1. A semiconductor device comprising: a cavity...</td>\n",
              "    </tr>\n",
              "    <tr>\n",
              "      <th>745090</th>\n",
              "      <td>10807862</td>\n",
              "      <td>Chemistry</td>\n",
              "      <td>1. A semiconductor device, comprising: a semic...</td>\n",
              "    </tr>\n",
              "    <tr>\n",
              "      <th>745091</th>\n",
              "      <td>10807863</td>\n",
              "      <td>Chemistry</td>\n",
              "      <td>1. A method for manufacturing micromechanical ...</td>\n",
              "    </tr>\n",
              "    <tr>\n",
              "      <th>745092</th>\n",
              "      <td>10815120</td>\n",
              "      <td>Chemistry</td>\n",
              "      <td>1. A method of manufacturing a semiconductor d...</td>\n",
              "    </tr>\n",
              "  </tbody>\n",
              "</table>\n",
              "<p>709047 rows × 3 columns</p>\n",
              "</div>"
            ],
            "text/plain": [
              "        patent_id  ...                                               text\n",
              "0        10549804  ...  1. A vehicle, comprising: a frame assembly hav...\n",
              "1         8047701  ...  1. A batch mixer, comprising: a mixer main bod...\n",
              "2        10831125  ...  1. A developer carrying member, comprising: an...\n",
              "3        10873657  ...  1. A phone support assembly comprising: a plat...\n",
              "4         7861373  ...  1. A lanyard handle, comprising in combination...\n",
              "...           ...  ...                                                ...\n",
              "745088   10800649  ...  1. A microelectromechanical systems (MEMS) dev...\n",
              "745089   10800650  ...  1. A semiconductor device comprising: a cavity...\n",
              "745090   10807862  ...  1. A semiconductor device, comprising: a semic...\n",
              "745091   10807863  ...  1. A method for manufacturing micromechanical ...\n",
              "745092   10815120  ...  1. A method of manufacturing a semiconductor d...\n",
              "\n",
              "[709047 rows x 3 columns]"
            ]
          },
          "metadata": {
            "tags": []
          },
          "execution_count": 23
        }
      ]
    },
    {
      "cell_type": "code",
      "metadata": {
        "colab": {
          "base_uri": "https://localhost:8080/",
          "height": 518
        },
        "id": "WPPGoR1jpyKL",
        "outputId": "617cbbd2-fe1e-4c5a-f190-eccf1083cb6d"
      },
      "source": [
        "df_master.text = df_master.text.str.replace('1. ', '')\n",
        "df_master"
      ],
      "execution_count": 24,
      "outputs": [
        {
          "output_type": "stream",
          "text": [
            "/usr/local/lib/python3.7/dist-packages/pandas/core/generic.py:5170: SettingWithCopyWarning: \n",
            "A value is trying to be set on a copy of a slice from a DataFrame.\n",
            "Try using .loc[row_indexer,col_indexer] = value instead\n",
            "\n",
            "See the caveats in the documentation: https://pandas.pydata.org/pandas-docs/stable/user_guide/indexing.html#returning-a-view-versus-a-copy\n",
            "  self[name] = value\n"
          ],
          "name": "stderr"
        },
        {
          "output_type": "execute_result",
          "data": {
            "text/html": [
              "<div>\n",
              "<style scoped>\n",
              "    .dataframe tbody tr th:only-of-type {\n",
              "        vertical-align: middle;\n",
              "    }\n",
              "\n",
              "    .dataframe tbody tr th {\n",
              "        vertical-align: top;\n",
              "    }\n",
              "\n",
              "    .dataframe thead th {\n",
              "        text-align: right;\n",
              "    }\n",
              "</style>\n",
              "<table border=\"1\" class=\"dataframe\">\n",
              "  <thead>\n",
              "    <tr style=\"text-align: right;\">\n",
              "      <th></th>\n",
              "      <th>patent_id</th>\n",
              "      <th>sector</th>\n",
              "      <th>text</th>\n",
              "    </tr>\n",
              "  </thead>\n",
              "  <tbody>\n",
              "    <tr>\n",
              "      <th>0</th>\n",
              "      <td>10549804</td>\n",
              "      <td>Mechanical engineering</td>\n",
              "      <td>A vehicle, comprising: a frame assembly having...</td>\n",
              "    </tr>\n",
              "    <tr>\n",
              "      <th>1</th>\n",
              "      <td>8047701</td>\n",
              "      <td>Mechanical engineering</td>\n",
              "      <td>A batch mixer, comprising: a mixer main body; ...</td>\n",
              "    </tr>\n",
              "    <tr>\n",
              "      <th>2</th>\n",
              "      <td>10831125</td>\n",
              "      <td>Mechanical engineering</td>\n",
              "      <td>A developer carrying member, comprising: an el...</td>\n",
              "    </tr>\n",
              "    <tr>\n",
              "      <th>3</th>\n",
              "      <td>10873657</td>\n",
              "      <td>Mechanical engineering</td>\n",
              "      <td>A phone support assembly comprising: a plate; ...</td>\n",
              "    </tr>\n",
              "    <tr>\n",
              "      <th>4</th>\n",
              "      <td>7861373</td>\n",
              "      <td>Mechanical engineering</td>\n",
              "      <td>A lanyard handle, comprising in combination: a...</td>\n",
              "    </tr>\n",
              "    <tr>\n",
              "      <th>...</th>\n",
              "      <td>...</td>\n",
              "      <td>...</td>\n",
              "      <td>...</td>\n",
              "    </tr>\n",
              "    <tr>\n",
              "      <th>745088</th>\n",
              "      <td>10800649</td>\n",
              "      <td>Chemistry</td>\n",
              "      <td>A microelectromechanical systems (MEMS) device...</td>\n",
              "    </tr>\n",
              "    <tr>\n",
              "      <th>745089</th>\n",
              "      <td>10800650</td>\n",
              "      <td>Chemistry</td>\n",
              "      <td>A semiconductor device comprising: a cavity en...</td>\n",
              "    </tr>\n",
              "    <tr>\n",
              "      <th>745090</th>\n",
              "      <td>10807862</td>\n",
              "      <td>Chemistry</td>\n",
              "      <td>A semiconductor device, comprising: a semicond...</td>\n",
              "    </tr>\n",
              "    <tr>\n",
              "      <th>745091</th>\n",
              "      <td>10807863</td>\n",
              "      <td>Chemistry</td>\n",
              "      <td>A method for manufacturing micromechanical str...</td>\n",
              "    </tr>\n",
              "    <tr>\n",
              "      <th>745092</th>\n",
              "      <td>10815120</td>\n",
              "      <td>Chemistry</td>\n",
              "      <td>A method of manufacturing a semiconductor devi...</td>\n",
              "    </tr>\n",
              "  </tbody>\n",
              "</table>\n",
              "<p>709047 rows × 3 columns</p>\n",
              "</div>"
            ],
            "text/plain": [
              "        patent_id  ...                                               text\n",
              "0        10549804  ...  A vehicle, comprising: a frame assembly having...\n",
              "1         8047701  ...  A batch mixer, comprising: a mixer main body; ...\n",
              "2        10831125  ...  A developer carrying member, comprising: an el...\n",
              "3        10873657  ...  A phone support assembly comprising: a plate; ...\n",
              "4         7861373  ...  A lanyard handle, comprising in combination: a...\n",
              "...           ...  ...                                                ...\n",
              "745088   10800649  ...  A microelectromechanical systems (MEMS) device...\n",
              "745089   10800650  ...  A semiconductor device comprising: a cavity en...\n",
              "745090   10807862  ...  A semiconductor device, comprising: a semicond...\n",
              "745091   10807863  ...  A method for manufacturing micromechanical str...\n",
              "745092   10815120  ...  A method of manufacturing a semiconductor devi...\n",
              "\n",
              "[709047 rows x 3 columns]"
            ]
          },
          "metadata": {
            "tags": []
          },
          "execution_count": 24
        }
      ]
    },
    {
      "cell_type": "code",
      "metadata": {
        "id": "XEOiunB_8eye",
        "colab": {
          "base_uri": "https://localhost:8080/",
          "height": 279
        },
        "outputId": "c5a227ce-ea58-4d05-f533-1c5c5e490cb1"
      },
      "source": [
        "# Look at the counts for each category\n",
        "ax = sns.countplot(x='sector', data=df_master, palette='viridis')"
      ],
      "execution_count": 25,
      "outputs": [
        {
          "output_type": "display_data",
          "data": {
            "image/png": "[encoded data removed]",
            "text/plain": [
              "<Figure size 432x288 with 1 Axes>"
            ]
          },
          "metadata": {
            "tags": [],
            "needs_background": "light"
          }
        }
      ]
    },
    {
      "cell_type": "code",
      "metadata": {
        "id": "LusqOVWD9mkI",
        "colab": {
          "base_uri": "https://localhost:8080/",
          "height": 313
        },
        "outputId": "5a18443a-679d-4fa4-a1dd-f7eae2490f75"
      },
      "source": [
        "# drop large sectors\n",
        "df = df_master[df_master.sector != 'Electrical engineering']\n",
        "df = df[df_master.sector != 'Chemistry']\n",
        "ax = sns.countplot(x='sector', data=df, palette='viridis')"
      ],
      "execution_count": 36,
      "outputs": [
        {
          "output_type": "stream",
          "text": [
            "/usr/local/lib/python3.7/dist-packages/ipykernel_launcher.py:3: UserWarning: Boolean Series key will be reindexed to match DataFrame index.\n",
            "  This is separate from the ipykernel package so we can avoid doing imports until\n"
          ],
          "name": "stderr"
        },
        {
          "output_type": "display_data",
          "data": {
            "image/png": "[encoded data removed]",
            "text/plain": [
              "<Figure size 432x288 with 1 Axes>"
            ]
          },
          "metadata": {
            "tags": [],
            "needs_background": "light"
          }
        }
      ]
    },
    {
      "cell_type": "code",
      "metadata": {
        "id": "Iuj_HQZnKqBU",
        "colab": {
          "base_uri": "https://localhost:8080/",
          "height": 417
        },
        "outputId": "39fcbac9-ab9b-4c77-964b-12c8b3591e28"
      },
      "source": [
        "acceptable = re.compile('[a-zA-Z ]') # regex expression to keep letters and handles\n",
        "\n",
        "# make a list of the text that fits with regex above\n",
        "cleanedtext = []\n",
        "for text in df.text:\n",
        "    p = ''.join(acceptable.findall(text)).lower()\n",
        "    cleanedtext.append(p)\n",
        "df['cleaned_text'] = cleanedtext\n",
        "df"
      ],
      "execution_count": 37,
      "outputs": [
        {
          "output_type": "execute_result",
          "data": {
            "text/html": [
              "<div>\n",
              "<style scoped>\n",
              "    .dataframe tbody tr th:only-of-type {\n",
              "        vertical-align: middle;\n",
              "    }\n",
              "\n",
              "    .dataframe tbody tr th {\n",
              "        vertical-align: top;\n",
              "    }\n",
              "\n",
              "    .dataframe thead th {\n",
              "        text-align: right;\n",
              "    }\n",
              "</style>\n",
              "<table border=\"1\" class=\"dataframe\">\n",
              "  <thead>\n",
              "    <tr style=\"text-align: right;\">\n",
              "      <th></th>\n",
              "      <th>patent_id</th>\n",
              "      <th>sector</th>\n",
              "      <th>text</th>\n",
              "      <th>cleaned_text</th>\n",
              "    </tr>\n",
              "  </thead>\n",
              "  <tbody>\n",
              "    <tr>\n",
              "      <th>0</th>\n",
              "      <td>10549804</td>\n",
              "      <td>Mechanical engineering</td>\n",
              "      <td>A vehicle, comprising: a frame assembly having...</td>\n",
              "      <td>a vehicle comprising a frame assembly having a...</td>\n",
              "    </tr>\n",
              "    <tr>\n",
              "      <th>1</th>\n",
              "      <td>8047701</td>\n",
              "      <td>Mechanical engineering</td>\n",
              "      <td>A batch mixer, comprising: a mixer main body; ...</td>\n",
              "      <td>a batch mixer comprising a mixer main body a h...</td>\n",
              "    </tr>\n",
              "    <tr>\n",
              "      <th>2</th>\n",
              "      <td>10831125</td>\n",
              "      <td>Mechanical engineering</td>\n",
              "      <td>A developer carrying member, comprising: an el...</td>\n",
              "      <td>a developer carrying member comprising an elec...</td>\n",
              "    </tr>\n",
              "    <tr>\n",
              "      <th>3</th>\n",
              "      <td>10873657</td>\n",
              "      <td>Mechanical engineering</td>\n",
              "      <td>A phone support assembly comprising: a plate; ...</td>\n",
              "      <td>a phone support assembly comprising a plate a ...</td>\n",
              "    </tr>\n",
              "    <tr>\n",
              "      <th>4</th>\n",
              "      <td>7861373</td>\n",
              "      <td>Mechanical engineering</td>\n",
              "      <td>A lanyard handle, comprising in combination: a...</td>\n",
              "      <td>a lanyard handle comprising in combination a b...</td>\n",
              "    </tr>\n",
              "    <tr>\n",
              "      <th>...</th>\n",
              "      <td>...</td>\n",
              "      <td>...</td>\n",
              "      <td>...</td>\n",
              "      <td>...</td>\n",
              "    </tr>\n",
              "    <tr>\n",
              "      <th>744657</th>\n",
              "      <td>10814515</td>\n",
              "      <td>Mechanical engineering</td>\n",
              "      <td>A core processing apparatus configured for cut...</td>\n",
              "      <td>a core processing apparatus configured for cut...</td>\n",
              "    </tr>\n",
              "    <tr>\n",
              "      <th>744658</th>\n",
              "      <td>10814516</td>\n",
              "      <td>Mechanical engineering</td>\n",
              "      <td>A system comprising: a processor; and a memory...</td>\n",
              "      <td>a system comprising a processor and a memory c...</td>\n",
              "    </tr>\n",
              "    <tr>\n",
              "      <th>744659</th>\n",
              "      <td>10814518</td>\n",
              "      <td>Mechanical engineering</td>\n",
              "      <td>A chainsaw, comprising: a guide bar; a saw cha...</td>\n",
              "      <td>a chainsaw comprising a guide bar a saw chain ...</td>\n",
              "    </tr>\n",
              "    <tr>\n",
              "      <th>744660</th>\n",
              "      <td>10814520</td>\n",
              "      <td>Mechanical engineering</td>\n",
              "      <td>A system for reducing the formation of planer ...</td>\n",
              "      <td>a system for reducing the formation of planer ...</td>\n",
              "    </tr>\n",
              "    <tr>\n",
              "      <th>744661</th>\n",
              "      <td>10814575</td>\n",
              "      <td>Mechanical engineering</td>\n",
              "      <td>A press machine configured to transport and pr...</td>\n",
              "      <td>a press machine configured to transport and pr...</td>\n",
              "    </tr>\n",
              "  </tbody>\n",
              "</table>\n",
              "<p>219437 rows × 4 columns</p>\n",
              "</div>"
            ],
            "text/plain": [
              "        patent_id  ...                                       cleaned_text\n",
              "0        10549804  ...  a vehicle comprising a frame assembly having a...\n",
              "1         8047701  ...  a batch mixer comprising a mixer main body a h...\n",
              "2        10831125  ...  a developer carrying member comprising an elec...\n",
              "3        10873657  ...  a phone support assembly comprising a plate a ...\n",
              "4         7861373  ...  a lanyard handle comprising in combination a b...\n",
              "...           ...  ...                                                ...\n",
              "744657   10814515  ...  a core processing apparatus configured for cut...\n",
              "744658   10814516  ...  a system comprising a processor and a memory c...\n",
              "744659   10814518  ...  a chainsaw comprising a guide bar a saw chain ...\n",
              "744660   10814520  ...  a system for reducing the formation of planer ...\n",
              "744661   10814575  ...  a press machine configured to transport and pr...\n",
              "\n",
              "[219437 rows x 4 columns]"
            ]
          },
          "metadata": {
            "tags": []
          },
          "execution_count": 37
        }
      ]
    },
    {
      "cell_type": "code",
      "metadata": {
        "id": "A6PoFSwFhbzK"
      },
      "source": [
        "y = df['sector']\n",
        "X = df['cleaned_text']"
      ],
      "execution_count": 38,
      "outputs": []
    },
    {
      "cell_type": "code",
      "metadata": {
        "id": "toTAW-uWAESd"
      },
      "source": [
        "X_train, X_test, y_train, y_test = train_test_split(X, y, random_state = 42, test_size = 0.2)"
      ],
      "execution_count": 39,
      "outputs": []
    },
    {
      "cell_type": "code",
      "metadata": {
        "colab": {
          "base_uri": "https://localhost:8080/"
        },
        "id": "jgL7LsnXzAqP",
        "outputId": "4a817cc8-3bcc-49fc-889a-b2933786db65"
      },
      "source": [
        "import nltk\n",
        "nltk.download('punkt')\n",
        "nltk.download('wordnet')"
      ],
      "execution_count": 47,
      "outputs": [
        {
          "output_type": "stream",
          "text": [
            "[nltk_data] Downloading package punkt to /root/nltk_data...\n",
            "[nltk_data]   Package punkt is already up-to-date!\n",
            "[nltk_data] Downloading package wordnet to /root/nltk_data...\n",
            "[nltk_data]   Unzipping corpora/wordnet.zip.\n"
          ],
          "name": "stdout"
        },
        {
          "output_type": "execute_result",
          "data": {
            "text/plain": [
              "True"
            ]
          },
          "metadata": {
            "tags": []
          },
          "execution_count": 47
        }
      ]
    },
    {
      "cell_type": "code",
      "metadata": {
        "id": "qoXhrJAgyv_j"
      },
      "source": [
        "def tokenize(text):\n",
        "    text = ''.join([ch for ch in text if ch not in string.punctuation])\n",
        "    tokens = nltk.word_tokenize(text)\n",
        "    lemmatizer = WordNetLemmatizer()\n",
        "    return [lemmatizer.lemmatize(token) for token in tokens]"
      ],
      "execution_count": 42,
      "outputs": []
    },
    {
      "cell_type": "code",
      "metadata": {
        "id": "6g0vVMc3-kLA"
      },
      "source": [
        "vec = CountVectorizer(ngram_range=(1,3),\n",
        "                      tokenizer=tokenize, \n",
        "                      stop_words='english')"
      ],
      "execution_count": 49,
      "outputs": []
    },
    {
      "cell_type": "code",
      "metadata": {
        "id": "d9zlEv4rA2Xt",
        "colab": {
          "base_uri": "https://localhost:8080/"
        },
        "outputId": "81402b1a-467f-46a0-d419-3d08169338b8"
      },
      "source": [
        "X_train_transformed = vec.fit_transform(X_train)\n",
        "X_train = pd.DataFrame(X_train_transformed.toarray(), columns = vec.get_feature_names())\n",
        "\n",
        "X_test_transformed = vec.transform(X_test)\n",
        "X_test = pd.DataFrame(X_test_transformed.toarray(), columns = vec.get_feature_names())"
      ],
      "execution_count": 50,
      "outputs": [
        {
          "output_type": "stream",
          "text": [
            "/usr/local/lib/python3.7/dist-packages/sklearn/feature_extraction/text.py:385: UserWarning: Your stop_words may be inconsistent with your preprocessing. Tokenizing the stop words generated tokens ['ha', 'le', 'u', 'wa'] not in stop_words.\n",
            "  'stop_words.' % sorted(inconsistent))\n"
          ],
          "name": "stderr"
        }
      ]
    },
    {
      "cell_type": "code",
      "metadata": {
        "id": "2WOtLeEXR74L"
      },
      "source": [
        "def train_and_predict(model, X_train, y_train):\n",
        "    '''\n",
        "    Given a model and train and test data, function fits the model and returns predicted values.\n",
        "    \n",
        "    Parameters: \n",
        "    model: object containing initialized model for training\n",
        "    Xy: object containing train and test data for X and y sets\n",
        "    \n",
        "    Returns:\n",
        "    Xy: updated Xy object with X & y prediction data (y_hat_train and y_hat_test)\n",
        "    \n",
        "    '''\n",
        "    model.fit(X_train, y_train)\n",
        "    \n",
        "    # Make predictions for test data\n",
        "    y_hat_train = model.predict(X_train)\n",
        "    \n",
        "    # Make predictions for test data\n",
        "    y_hat_test = model.predict(X_test)\n",
        "    \n",
        "    return y_hat_train, y_hat_test"
      ],
      "execution_count": 51,
      "outputs": []
    },
    {
      "cell_type": "code",
      "metadata": {
        "id": "J-QJsOU2SZ95"
      },
      "source": [
        "def model_scores(model, \n",
        "                 X_train, X_test, \n",
        "                 y_train, y_test, \n",
        "                 y_hat_train, y_hat_test):\n",
        "    '''\n",
        "    Takes model and test train data objects and generates scores and confusion matrix.\n",
        "    \n",
        "    Parameters: \n",
        "    model: object containing initialized model for training\n",
        "    Xy: object containing train and test data for X and y sets\n",
        "    \n",
        "    Returns:\n",
        "    printed text and visualizations\n",
        "    '''\n",
        "    # Caclulate accuracy for test data\n",
        "    train_accuracy = accuracy_score(y_train, y_hat_train)\n",
        "    print('Training Accuracy: {:.4}%'.format(train_accuracy * 100))\n",
        "\n",
        "    # Caclulate accuracy for test data\n",
        "    test_accuracy = accuracy_score(y_test, y_hat_test)\n",
        "    print('Test Accuracy: {:.4}%\\n'.format(test_accuracy * 100))\n",
        "\n",
        "    # Caclulate recall for train data\n",
        "    train_f1 = recall_score(y_train, y_hat_train, pos_label='Instruments')\n",
        "    print('Training Recall Score: {:.4}%'.format(train_f1 * 100))\n",
        "\n",
        "    # Calculate recall for test data\n",
        "    test_f1 = recall_score(y_test, y_hat_test, pos_label='Instruments')\n",
        "    print('Test Recall Score: {:.4}%\\n'.format(test_f1 * 100))    \n",
        "\n",
        "    # Caclulate F1 for train data\n",
        "    train_f1 = f1_score(y_train, y_hat_train, pos_label='Instruments')\n",
        "    print('Training F1 Score: {:.4}%'.format(train_f1 * 100))\n",
        "\n",
        "    # Calculate F1 for test data\n",
        "    test_f1 = f1_score(y_test, y_hat_test, pos_label='Instruments')\n",
        "    print('Test F1 Score: {:.4}%'.format(test_f1 * 100))\n",
        "\n",
        "    # Plot confusion matrix\n",
        "    print('\\nConfusion Matrix for test data')\n",
        "    plot_confusion_matrix(model, X=X_test, y_true=y_test, values_format = 'd')\n",
        "    plt.show()"
      ],
      "execution_count": 52,
      "outputs": []
    },
    {
      "cell_type": "code",
      "metadata": {
        "colab": {
          "base_uri": "https://localhost:8080/",
          "height": 370
        },
        "id": "mBBLxQs7R1TC",
        "outputId": "77a93c31-aa54-4ae4-f1c3-2ff44e4f8aef"
      },
      "source": [
        "# Initiate the model\n",
        "logreg = LogisticRegression(random_state=42, n_jobs=1)\n",
        "\n",
        "logreg.fit(X_train, y_train)\n",
        "\n",
        "# Make predictions for test data\n",
        "y_hat_train = logreg.predict(X_train)\n",
        "\n",
        "# Make predictions for test data\n",
        "y_hat_test = logreg.predict(X_test)\n",
        "\n",
        "# Evaluate model\n",
        "model_scores(logreg, \n",
        "             X_train, X_test, \n",
        "             y_train, y_test, \n",
        "             y_hat_train, y_hat_test)"
      ],
      "execution_count": 53,
      "outputs": [
        {
          "output_type": "error",
          "ename": "ValueError",
          "evalue": "ignored",
          "traceback": [
            "\u001b[0;31m---------------------------------------------------------------------------\u001b[0m",
            "\u001b[0;31mValueError\u001b[0m                                Traceback (most recent call last)",
            "\u001b[0;32m<ipython-input-53-00e48ac70657>\u001b[0m in \u001b[0;36m<module>\u001b[0;34m()\u001b[0m\n\u001b[1;32m      2\u001b[0m \u001b[0mlogreg\u001b[0m \u001b[0;34m=\u001b[0m \u001b[0mLogisticRegression\u001b[0m\u001b[0;34m(\u001b[0m\u001b[0mrandom_state\u001b[0m\u001b[0;34m=\u001b[0m\u001b[0;36m42\u001b[0m\u001b[0;34m,\u001b[0m \u001b[0mn_jobs\u001b[0m\u001b[0;34m=\u001b[0m\u001b[0;36m1\u001b[0m\u001b[0;34m)\u001b[0m\u001b[0;34m\u001b[0m\u001b[0;34m\u001b[0m\u001b[0m\n\u001b[1;32m      3\u001b[0m \u001b[0;34m\u001b[0m\u001b[0m\n\u001b[0;32m----> 4\u001b[0;31m \u001b[0mlogreg\u001b[0m\u001b[0;34m.\u001b[0m\u001b[0mfit\u001b[0m\u001b[0;34m(\u001b[0m\u001b[0mX_train\u001b[0m\u001b[0;34m,\u001b[0m \u001b[0my_train\u001b[0m\u001b[0;34m)\u001b[0m\u001b[0;34m\u001b[0m\u001b[0;34m\u001b[0m\u001b[0m\n\u001b[0m\u001b[1;32m      5\u001b[0m \u001b[0;34m\u001b[0m\u001b[0m\n\u001b[1;32m      6\u001b[0m \u001b[0;31m# Make predictions for test data\u001b[0m\u001b[0;34m\u001b[0m\u001b[0;34m\u001b[0m\u001b[0;34m\u001b[0m\u001b[0m\n",
            "\u001b[0;32m/usr/local/lib/python3.7/dist-packages/sklearn/linear_model/_logistic.py\u001b[0m in \u001b[0;36mfit\u001b[0;34m(self, X, y, sample_weight)\u001b[0m\n\u001b[1;32m   1525\u001b[0m \u001b[0;34m\u001b[0m\u001b[0m\n\u001b[1;32m   1526\u001b[0m         X, y = check_X_y(X, y, accept_sparse='csr', dtype=_dtype, order=\"C\",\n\u001b[0;32m-> 1527\u001b[0;31m                          accept_large_sparse=solver != 'liblinear')\n\u001b[0m\u001b[1;32m   1528\u001b[0m         \u001b[0mcheck_classification_targets\u001b[0m\u001b[0;34m(\u001b[0m\u001b[0my\u001b[0m\u001b[0;34m)\u001b[0m\u001b[0;34m\u001b[0m\u001b[0;34m\u001b[0m\u001b[0m\n\u001b[1;32m   1529\u001b[0m         \u001b[0mself\u001b[0m\u001b[0;34m.\u001b[0m\u001b[0mclasses_\u001b[0m \u001b[0;34m=\u001b[0m \u001b[0mnp\u001b[0m\u001b[0;34m.\u001b[0m\u001b[0munique\u001b[0m\u001b[0;34m(\u001b[0m\u001b[0my\u001b[0m\u001b[0;34m)\u001b[0m\u001b[0;34m\u001b[0m\u001b[0;34m\u001b[0m\u001b[0m\n",
            "\u001b[0;32m/usr/local/lib/python3.7/dist-packages/sklearn/utils/validation.py\u001b[0m in \u001b[0;36mcheck_X_y\u001b[0;34m(X, y, accept_sparse, accept_large_sparse, dtype, order, copy, force_all_finite, ensure_2d, allow_nd, multi_output, ensure_min_samples, ensure_min_features, y_numeric, warn_on_dtype, estimator)\u001b[0m\n\u001b[1;32m    763\u001b[0m         \u001b[0my\u001b[0m \u001b[0;34m=\u001b[0m \u001b[0my\u001b[0m\u001b[0;34m.\u001b[0m\u001b[0mastype\u001b[0m\u001b[0;34m(\u001b[0m\u001b[0mnp\u001b[0m\u001b[0;34m.\u001b[0m\u001b[0mfloat64\u001b[0m\u001b[0;34m)\u001b[0m\u001b[0;34m\u001b[0m\u001b[0;34m\u001b[0m\u001b[0m\n\u001b[1;32m    764\u001b[0m \u001b[0;34m\u001b[0m\u001b[0m\n\u001b[0;32m--> 765\u001b[0;31m     \u001b[0mcheck_consistent_length\u001b[0m\u001b[0;34m(\u001b[0m\u001b[0mX\u001b[0m\u001b[0;34m,\u001b[0m \u001b[0my\u001b[0m\u001b[0;34m)\u001b[0m\u001b[0;34m\u001b[0m\u001b[0;34m\u001b[0m\u001b[0m\n\u001b[0m\u001b[1;32m    766\u001b[0m \u001b[0;34m\u001b[0m\u001b[0m\n\u001b[1;32m    767\u001b[0m     \u001b[0;32mreturn\u001b[0m \u001b[0mX\u001b[0m\u001b[0;34m,\u001b[0m \u001b[0my\u001b[0m\u001b[0;34m\u001b[0m\u001b[0;34m\u001b[0m\u001b[0m\n",
            "\u001b[0;32m/usr/local/lib/python3.7/dist-packages/sklearn/utils/validation.py\u001b[0m in \u001b[0;36mcheck_consistent_length\u001b[0;34m(*arrays)\u001b[0m\n\u001b[1;32m    210\u001b[0m     \u001b[0;32mif\u001b[0m \u001b[0mlen\u001b[0m\u001b[0;34m(\u001b[0m\u001b[0muniques\u001b[0m\u001b[0;34m)\u001b[0m \u001b[0;34m>\u001b[0m \u001b[0;36m1\u001b[0m\u001b[0;34m:\u001b[0m\u001b[0;34m\u001b[0m\u001b[0;34m\u001b[0m\u001b[0m\n\u001b[1;32m    211\u001b[0m         raise ValueError(\"Found input variables with inconsistent numbers of\"\n\u001b[0;32m--> 212\u001b[0;31m                          \" samples: %r\" % [int(l) for l in lengths])\n\u001b[0m\u001b[1;32m    213\u001b[0m \u001b[0;34m\u001b[0m\u001b[0m\n\u001b[1;32m    214\u001b[0m \u001b[0;34m\u001b[0m\u001b[0m\n",
            "\u001b[0;31mValueError\u001b[0m: Found input variables with inconsistent numbers of samples: [127, 175549]"
          ]
        }
      ]
    },
    {
      "cell_type": "code",
      "metadata": {
        "colab": {
          "base_uri": "https://localhost:8080/",
          "height": 447
        },
        "id": "SdEmuJBzpw9y",
        "outputId": "436a12da-112f-4962-c783-e535996d9f6f"
      },
      "source": [
        "# Initiate the model\n",
        "dt = DecisionTreeClassifier(random_state=42)  \n",
        "dt.fit(X_train, y_train)\n",
        "\n",
        "# Make predictions for test data\n",
        "y_hat_train = dt.predict(X_train)\n",
        "\n",
        "# Make predictions for test data\n",
        "y_hat_test = dt.predict(X_test)\n",
        "\n",
        "# Evaluate model\n",
        "model_scores(dt, \n",
        "             X_train, X_test, \n",
        "             y_train, y_test, \n",
        "             y_hat_train, y_hat_test)"
      ],
      "execution_count": 40,
      "outputs": [
        {
          "output_type": "stream",
          "text": [
            "Training Accuracy: 99.98%\n",
            "Test Accuracy: 80.64%\n",
            "\n",
            "Training Recall Score: 100.0%\n",
            "Test Recall Score: 80.15%\n",
            "\n",
            "Training F1 Score: 99.98%\n",
            "Test F1 Score: 79.71%\n",
            "\n",
            "Confusion Matrix for test data\n"
          ],
          "name": "stdout"
        },
        {
          "output_type": "display_data",
          "data": {
            "image/png": "[encoded data removed]",
            "text/plain": [
              "<Figure size 432x288 with 2 Axes>"
            ]
          },
          "metadata": {
            "tags": [],
            "needs_background": "light"
          }
        }
      ]
    },
    {
      "cell_type": "code",
      "metadata": {
        "id": "rn7eOFMQqr-c"
      },
      "source": [
        "def run_grid_search(params, model, X_train, y_train):\n",
        "    '''\n",
        "    Takes in parameters, model, and test train data, runs grid search, and \n",
        "    returns updated model and test train data.\n",
        "    \n",
        "    Parameters: \n",
        "    params: dict with parameters for grid search\n",
        "    model: object containing initialized model for training\n",
        "    Xy: object containing train and test data for X and y sets\n",
        "    \n",
        "    Returns:\n",
        "    gs: object containing updated model\n",
        "    Xy: object with test train data\n",
        "    '''\n",
        "    gs = GridSearchCV(model, params, scoring='f1_macro', cv=None, n_jobs=1)\n",
        "    gs = gs.fit(X_train, y_train)\n",
        "    best_parameters = gs.best_params_\n",
        "\n",
        "    print('Grid Search found the following optimal parameters: ')\n",
        "    for param_name in sorted(best_parameters.keys()):\n",
        "        print('%s: %r' % (param_name, best_parameters[param_name]))\n",
        "\n",
        "    # Make predictions for test data\n",
        "    y_hat_train = gs.predict(X_train)\n",
        "    \n",
        "    # Make predictions for test data\n",
        "    y_hat_test = gs.predict(X_test)\n",
        "    \n",
        "    return gs, y_hat_train, y_hat_test"
      ],
      "execution_count": 41,
      "outputs": []
    },
    {
      "cell_type": "code",
      "metadata": {
        "colab": {
          "base_uri": "https://localhost:8080/",
          "height": 370
        },
        "id": "XdFaMEjhqXWU",
        "outputId": "6bc66ba5-6117-4db7-a801-57fd3b532dda"
      },
      "source": [
        "# define parameters to search\n",
        "params_dt = {\n",
        "    'criterion':['gini', 'entropy'],\n",
        "    'max_depth':range(2,10),\n",
        "    'min_samples_split':range(3,10),\n",
        "    'min_samples_leaf':range(3,5)\n",
        "    }\n",
        "\n",
        "# run grid search\n",
        "dt, y_hat_train, y_hat_test = run_grid_search(params_dt, dt, X_train, y_train)\n",
        "\n",
        "# Evaluate model\n",
        "model_scores(dt, \n",
        "             X_train, X_test, \n",
        "             y_train, y_test, \n",
        "             y_hat_train, y_hat_test)"
      ],
      "execution_count": 42,
      "outputs": [
        {
          "output_type": "error",
          "ename": "KeyboardInterrupt",
          "evalue": "ignored",
          "traceback": [
            "\u001b[0;31m---------------------------------------------------------------------------\u001b[0m",
            "\u001b[0;31mKeyboardInterrupt\u001b[0m                         Traceback (most recent call last)",
            "\u001b[0;32m<ipython-input-42-7d483d13f8c3>\u001b[0m in \u001b[0;36m<module>\u001b[0;34m()\u001b[0m\n\u001b[1;32m      8\u001b[0m \u001b[0;34m\u001b[0m\u001b[0m\n\u001b[1;32m      9\u001b[0m \u001b[0;31m# run grid search\u001b[0m\u001b[0;34m\u001b[0m\u001b[0;34m\u001b[0m\u001b[0;34m\u001b[0m\u001b[0m\n\u001b[0;32m---> 10\u001b[0;31m \u001b[0mdt\u001b[0m\u001b[0;34m,\u001b[0m \u001b[0my_hat_train\u001b[0m\u001b[0;34m,\u001b[0m \u001b[0my_hat_test\u001b[0m \u001b[0;34m=\u001b[0m \u001b[0mrun_grid_search\u001b[0m\u001b[0;34m(\u001b[0m\u001b[0mparams_dt\u001b[0m\u001b[0;34m,\u001b[0m \u001b[0mdt\u001b[0m\u001b[0;34m,\u001b[0m \u001b[0mX_train\u001b[0m\u001b[0;34m,\u001b[0m \u001b[0my_train\u001b[0m\u001b[0;34m)\u001b[0m\u001b[0;34m\u001b[0m\u001b[0;34m\u001b[0m\u001b[0m\n\u001b[0m\u001b[1;32m     11\u001b[0m \u001b[0;34m\u001b[0m\u001b[0m\n\u001b[1;32m     12\u001b[0m \u001b[0;31m# Evaluate model\u001b[0m\u001b[0;34m\u001b[0m\u001b[0;34m\u001b[0m\u001b[0;34m\u001b[0m\u001b[0m\n",
            "\u001b[0;32m<ipython-input-41-cc526b4ad373>\u001b[0m in \u001b[0;36mrun_grid_search\u001b[0;34m(params, model, X_train, y_train)\u001b[0m\n\u001b[1;32m     14\u001b[0m     '''\n\u001b[1;32m     15\u001b[0m     \u001b[0mgs\u001b[0m \u001b[0;34m=\u001b[0m \u001b[0mGridSearchCV\u001b[0m\u001b[0;34m(\u001b[0m\u001b[0mmodel\u001b[0m\u001b[0;34m,\u001b[0m \u001b[0mparams\u001b[0m\u001b[0;34m,\u001b[0m \u001b[0mscoring\u001b[0m\u001b[0;34m=\u001b[0m\u001b[0;34m'f1_macro'\u001b[0m\u001b[0;34m,\u001b[0m \u001b[0mcv\u001b[0m\u001b[0;34m=\u001b[0m\u001b[0;32mNone\u001b[0m\u001b[0;34m,\u001b[0m \u001b[0mn_jobs\u001b[0m\u001b[0;34m=\u001b[0m\u001b[0;36m1\u001b[0m\u001b[0;34m)\u001b[0m\u001b[0;34m\u001b[0m\u001b[0;34m\u001b[0m\u001b[0m\n\u001b[0;32m---> 16\u001b[0;31m     \u001b[0mgs\u001b[0m \u001b[0;34m=\u001b[0m \u001b[0mgs\u001b[0m\u001b[0;34m.\u001b[0m\u001b[0mfit\u001b[0m\u001b[0;34m(\u001b[0m\u001b[0mX_train\u001b[0m\u001b[0;34m,\u001b[0m \u001b[0my_train\u001b[0m\u001b[0;34m)\u001b[0m\u001b[0;34m\u001b[0m\u001b[0;34m\u001b[0m\u001b[0m\n\u001b[0m\u001b[1;32m     17\u001b[0m     \u001b[0mbest_parameters\u001b[0m \u001b[0;34m=\u001b[0m \u001b[0mgs\u001b[0m\u001b[0;34m.\u001b[0m\u001b[0mbest_params_\u001b[0m\u001b[0;34m\u001b[0m\u001b[0;34m\u001b[0m\u001b[0m\n\u001b[1;32m     18\u001b[0m \u001b[0;34m\u001b[0m\u001b[0m\n",
            "\u001b[0;32m/usr/local/lib/python3.7/dist-packages/sklearn/model_selection/_search.py\u001b[0m in \u001b[0;36mfit\u001b[0;34m(self, X, y, groups, **fit_params)\u001b[0m\n\u001b[1;32m    708\u001b[0m                 \u001b[0;32mreturn\u001b[0m \u001b[0mresults\u001b[0m\u001b[0;34m\u001b[0m\u001b[0;34m\u001b[0m\u001b[0m\n\u001b[1;32m    709\u001b[0m \u001b[0;34m\u001b[0m\u001b[0m\n\u001b[0;32m--> 710\u001b[0;31m             \u001b[0mself\u001b[0m\u001b[0;34m.\u001b[0m\u001b[0m_run_search\u001b[0m\u001b[0;34m(\u001b[0m\u001b[0mevaluate_candidates\u001b[0m\u001b[0;34m)\u001b[0m\u001b[0;34m\u001b[0m\u001b[0;34m\u001b[0m\u001b[0m\n\u001b[0m\u001b[1;32m    711\u001b[0m \u001b[0;34m\u001b[0m\u001b[0m\n\u001b[1;32m    712\u001b[0m         \u001b[0;31m# For multi-metric evaluation, store the best_index_, best_params_ and\u001b[0m\u001b[0;34m\u001b[0m\u001b[0;34m\u001b[0m\u001b[0;34m\u001b[0m\u001b[0m\n",
            "\u001b[0;32m/usr/local/lib/python3.7/dist-packages/sklearn/model_selection/_search.py\u001b[0m in \u001b[0;36m_run_search\u001b[0;34m(self, evaluate_candidates)\u001b[0m\n\u001b[1;32m   1149\u001b[0m     \u001b[0;32mdef\u001b[0m \u001b[0m_run_search\u001b[0m\u001b[0;34m(\u001b[0m\u001b[0mself\u001b[0m\u001b[0;34m,\u001b[0m \u001b[0mevaluate_candidates\u001b[0m\u001b[0;34m)\u001b[0m\u001b[0;34m:\u001b[0m\u001b[0;34m\u001b[0m\u001b[0;34m\u001b[0m\u001b[0m\n\u001b[1;32m   1150\u001b[0m         \u001b[0;34m\"\"\"Search all candidates in param_grid\"\"\"\u001b[0m\u001b[0;34m\u001b[0m\u001b[0;34m\u001b[0m\u001b[0m\n\u001b[0;32m-> 1151\u001b[0;31m         \u001b[0mevaluate_candidates\u001b[0m\u001b[0;34m(\u001b[0m\u001b[0mParameterGrid\u001b[0m\u001b[0;34m(\u001b[0m\u001b[0mself\u001b[0m\u001b[0;34m.\u001b[0m\u001b[0mparam_grid\u001b[0m\u001b[0;34m)\u001b[0m\u001b[0;34m)\u001b[0m\u001b[0;34m\u001b[0m\u001b[0;34m\u001b[0m\u001b[0m\n\u001b[0m\u001b[1;32m   1152\u001b[0m \u001b[0;34m\u001b[0m\u001b[0m\n\u001b[1;32m   1153\u001b[0m \u001b[0;34m\u001b[0m\u001b[0m\n",
            "\u001b[0;32m/usr/local/lib/python3.7/dist-packages/sklearn/model_selection/_search.py\u001b[0m in \u001b[0;36mevaluate_candidates\u001b[0;34m(candidate_params)\u001b[0m\n\u001b[1;32m    687\u001b[0m                                \u001b[0;32mfor\u001b[0m \u001b[0mparameters\u001b[0m\u001b[0;34m,\u001b[0m \u001b[0;34m(\u001b[0m\u001b[0mtrain\u001b[0m\u001b[0;34m,\u001b[0m \u001b[0mtest\u001b[0m\u001b[0;34m)\u001b[0m\u001b[0;34m\u001b[0m\u001b[0;34m\u001b[0m\u001b[0m\n\u001b[1;32m    688\u001b[0m                                in product(candidate_params,\n\u001b[0;32m--> 689\u001b[0;31m                                           cv.split(X, y, groups)))\n\u001b[0m\u001b[1;32m    690\u001b[0m \u001b[0;34m\u001b[0m\u001b[0m\n\u001b[1;32m    691\u001b[0m                 \u001b[0;32mif\u001b[0m \u001b[0mlen\u001b[0m\u001b[0;34m(\u001b[0m\u001b[0mout\u001b[0m\u001b[0;34m)\u001b[0m \u001b[0;34m<\u001b[0m \u001b[0;36m1\u001b[0m\u001b[0;34m:\u001b[0m\u001b[0;34m\u001b[0m\u001b[0;34m\u001b[0m\u001b[0m\n",
            "\u001b[0;32m/usr/local/lib/python3.7/dist-packages/joblib/parallel.py\u001b[0m in \u001b[0;36m__call__\u001b[0;34m(self, iterable)\u001b[0m\n\u001b[1;32m   1042\u001b[0m                 \u001b[0mself\u001b[0m\u001b[0;34m.\u001b[0m\u001b[0m_iterating\u001b[0m \u001b[0;34m=\u001b[0m \u001b[0mself\u001b[0m\u001b[0;34m.\u001b[0m\u001b[0m_original_iterator\u001b[0m \u001b[0;32mis\u001b[0m \u001b[0;32mnot\u001b[0m \u001b[0;32mNone\u001b[0m\u001b[0;34m\u001b[0m\u001b[0;34m\u001b[0m\u001b[0m\n\u001b[1;32m   1043\u001b[0m \u001b[0;34m\u001b[0m\u001b[0m\n\u001b[0;32m-> 1044\u001b[0;31m             \u001b[0;32mwhile\u001b[0m \u001b[0mself\u001b[0m\u001b[0;34m.\u001b[0m\u001b[0mdispatch_one_batch\u001b[0m\u001b[0;34m(\u001b[0m\u001b[0miterator\u001b[0m\u001b[0;34m)\u001b[0m\u001b[0;34m:\u001b[0m\u001b[0;34m\u001b[0m\u001b[0;34m\u001b[0m\u001b[0m\n\u001b[0m\u001b[1;32m   1045\u001b[0m                 \u001b[0;32mpass\u001b[0m\u001b[0;34m\u001b[0m\u001b[0;34m\u001b[0m\u001b[0m\n\u001b[1;32m   1046\u001b[0m \u001b[0;34m\u001b[0m\u001b[0m\n",
            "\u001b[0;32m/usr/local/lib/python3.7/dist-packages/joblib/parallel.py\u001b[0m in \u001b[0;36mdispatch_one_batch\u001b[0;34m(self, iterator)\u001b[0m\n\u001b[1;32m    857\u001b[0m                 \u001b[0;32mreturn\u001b[0m \u001b[0;32mFalse\u001b[0m\u001b[0;34m\u001b[0m\u001b[0;34m\u001b[0m\u001b[0m\n\u001b[1;32m    858\u001b[0m             \u001b[0;32melse\u001b[0m\u001b[0;34m:\u001b[0m\u001b[0;34m\u001b[0m\u001b[0;34m\u001b[0m\u001b[0m\n\u001b[0;32m--> 859\u001b[0;31m                 \u001b[0mself\u001b[0m\u001b[0;34m.\u001b[0m\u001b[0m_dispatch\u001b[0m\u001b[0;34m(\u001b[0m\u001b[0mtasks\u001b[0m\u001b[0;34m)\u001b[0m\u001b[0;34m\u001b[0m\u001b[0;34m\u001b[0m\u001b[0m\n\u001b[0m\u001b[1;32m    860\u001b[0m                 \u001b[0;32mreturn\u001b[0m \u001b[0;32mTrue\u001b[0m\u001b[0;34m\u001b[0m\u001b[0;34m\u001b[0m\u001b[0m\n\u001b[1;32m    861\u001b[0m \u001b[0;34m\u001b[0m\u001b[0m\n",
            "\u001b[0;32m/usr/local/lib/python3.7/dist-packages/joblib/parallel.py\u001b[0m in \u001b[0;36m_dispatch\u001b[0;34m(self, batch)\u001b[0m\n\u001b[1;32m    775\u001b[0m         \u001b[0;32mwith\u001b[0m \u001b[0mself\u001b[0m\u001b[0;34m.\u001b[0m\u001b[0m_lock\u001b[0m\u001b[0;34m:\u001b[0m\u001b[0;34m\u001b[0m\u001b[0;34m\u001b[0m\u001b[0m\n\u001b[1;32m    776\u001b[0m             \u001b[0mjob_idx\u001b[0m \u001b[0;34m=\u001b[0m \u001b[0mlen\u001b[0m\u001b[0;34m(\u001b[0m\u001b[0mself\u001b[0m\u001b[0;34m.\u001b[0m\u001b[0m_jobs\u001b[0m\u001b[0;34m)\u001b[0m\u001b[0;34m\u001b[0m\u001b[0;34m\u001b[0m\u001b[0m\n\u001b[0;32m--> 777\u001b[0;31m             \u001b[0mjob\u001b[0m \u001b[0;34m=\u001b[0m \u001b[0mself\u001b[0m\u001b[0;34m.\u001b[0m\u001b[0m_backend\u001b[0m\u001b[0;34m.\u001b[0m\u001b[0mapply_async\u001b[0m\u001b[0;34m(\u001b[0m\u001b[0mbatch\u001b[0m\u001b[0;34m,\u001b[0m \u001b[0mcallback\u001b[0m\u001b[0;34m=\u001b[0m\u001b[0mcb\u001b[0m\u001b[0;34m)\u001b[0m\u001b[0;34m\u001b[0m\u001b[0;34m\u001b[0m\u001b[0m\n\u001b[0m\u001b[1;32m    778\u001b[0m             \u001b[0;31m# A job can complete so quickly than its callback is\u001b[0m\u001b[0;34m\u001b[0m\u001b[0;34m\u001b[0m\u001b[0;34m\u001b[0m\u001b[0m\n\u001b[1;32m    779\u001b[0m             \u001b[0;31m# called before we get here, causing self._jobs to\u001b[0m\u001b[0;34m\u001b[0m\u001b[0;34m\u001b[0m\u001b[0;34m\u001b[0m\u001b[0m\n",
            "\u001b[0;32m/usr/local/lib/python3.7/dist-packages/joblib/_parallel_backends.py\u001b[0m in \u001b[0;36mapply_async\u001b[0;34m(self, func, callback)\u001b[0m\n\u001b[1;32m    206\u001b[0m     \u001b[0;32mdef\u001b[0m \u001b[0mapply_async\u001b[0m\u001b[0;34m(\u001b[0m\u001b[0mself\u001b[0m\u001b[0;34m,\u001b[0m \u001b[0mfunc\u001b[0m\u001b[0;34m,\u001b[0m \u001b[0mcallback\u001b[0m\u001b[0;34m=\u001b[0m\u001b[0;32mNone\u001b[0m\u001b[0;34m)\u001b[0m\u001b[0;34m:\u001b[0m\u001b[0;34m\u001b[0m\u001b[0;34m\u001b[0m\u001b[0m\n\u001b[1;32m    207\u001b[0m         \u001b[0;34m\"\"\"Schedule a func to be run\"\"\"\u001b[0m\u001b[0;34m\u001b[0m\u001b[0;34m\u001b[0m\u001b[0m\n\u001b[0;32m--> 208\u001b[0;31m         \u001b[0mresult\u001b[0m \u001b[0;34m=\u001b[0m \u001b[0mImmediateResult\u001b[0m\u001b[0;34m(\u001b[0m\u001b[0mfunc\u001b[0m\u001b[0;34m)\u001b[0m\u001b[0;34m\u001b[0m\u001b[0;34m\u001b[0m\u001b[0m\n\u001b[0m\u001b[1;32m    209\u001b[0m         \u001b[0;32mif\u001b[0m \u001b[0mcallback\u001b[0m\u001b[0;34m:\u001b[0m\u001b[0;34m\u001b[0m\u001b[0;34m\u001b[0m\u001b[0m\n\u001b[1;32m    210\u001b[0m             \u001b[0mcallback\u001b[0m\u001b[0;34m(\u001b[0m\u001b[0mresult\u001b[0m\u001b[0;34m)\u001b[0m\u001b[0;34m\u001b[0m\u001b[0;34m\u001b[0m\u001b[0m\n",
            "\u001b[0;32m/usr/local/lib/python3.7/dist-packages/joblib/_parallel_backends.py\u001b[0m in \u001b[0;36m__init__\u001b[0;34m(self, batch)\u001b[0m\n\u001b[1;32m    570\u001b[0m         \u001b[0;31m# Don't delay the application, to avoid keeping the input\u001b[0m\u001b[0;34m\u001b[0m\u001b[0;34m\u001b[0m\u001b[0;34m\u001b[0m\u001b[0m\n\u001b[1;32m    571\u001b[0m         \u001b[0;31m# arguments in memory\u001b[0m\u001b[0;34m\u001b[0m\u001b[0;34m\u001b[0m\u001b[0;34m\u001b[0m\u001b[0m\n\u001b[0;32m--> 572\u001b[0;31m         \u001b[0mself\u001b[0m\u001b[0;34m.\u001b[0m\u001b[0mresults\u001b[0m \u001b[0;34m=\u001b[0m \u001b[0mbatch\u001b[0m\u001b[0;34m(\u001b[0m\u001b[0;34m)\u001b[0m\u001b[0;34m\u001b[0m\u001b[0;34m\u001b[0m\u001b[0m\n\u001b[0m\u001b[1;32m    573\u001b[0m \u001b[0;34m\u001b[0m\u001b[0m\n\u001b[1;32m    574\u001b[0m     \u001b[0;32mdef\u001b[0m \u001b[0mget\u001b[0m\u001b[0;34m(\u001b[0m\u001b[0mself\u001b[0m\u001b[0;34m)\u001b[0m\u001b[0;34m:\u001b[0m\u001b[0;34m\u001b[0m\u001b[0;34m\u001b[0m\u001b[0m\n",
            "\u001b[0;32m/usr/local/lib/python3.7/dist-packages/joblib/parallel.py\u001b[0m in \u001b[0;36m__call__\u001b[0;34m(self)\u001b[0m\n\u001b[1;32m    261\u001b[0m         \u001b[0;32mwith\u001b[0m \u001b[0mparallel_backend\u001b[0m\u001b[0;34m(\u001b[0m\u001b[0mself\u001b[0m\u001b[0;34m.\u001b[0m\u001b[0m_backend\u001b[0m\u001b[0;34m,\u001b[0m \u001b[0mn_jobs\u001b[0m\u001b[0;34m=\u001b[0m\u001b[0mself\u001b[0m\u001b[0;34m.\u001b[0m\u001b[0m_n_jobs\u001b[0m\u001b[0;34m)\u001b[0m\u001b[0;34m:\u001b[0m\u001b[0;34m\u001b[0m\u001b[0;34m\u001b[0m\u001b[0m\n\u001b[1;32m    262\u001b[0m             return [func(*args, **kwargs)\n\u001b[0;32m--> 263\u001b[0;31m                     for func, args, kwargs in self.items]\n\u001b[0m\u001b[1;32m    264\u001b[0m \u001b[0;34m\u001b[0m\u001b[0m\n\u001b[1;32m    265\u001b[0m     \u001b[0;32mdef\u001b[0m \u001b[0m__reduce__\u001b[0m\u001b[0;34m(\u001b[0m\u001b[0mself\u001b[0m\u001b[0;34m)\u001b[0m\u001b[0;34m:\u001b[0m\u001b[0;34m\u001b[0m\u001b[0;34m\u001b[0m\u001b[0m\n",
            "\u001b[0;32m/usr/local/lib/python3.7/dist-packages/joblib/parallel.py\u001b[0m in \u001b[0;36m<listcomp>\u001b[0;34m(.0)\u001b[0m\n\u001b[1;32m    261\u001b[0m         \u001b[0;32mwith\u001b[0m \u001b[0mparallel_backend\u001b[0m\u001b[0;34m(\u001b[0m\u001b[0mself\u001b[0m\u001b[0;34m.\u001b[0m\u001b[0m_backend\u001b[0m\u001b[0;34m,\u001b[0m \u001b[0mn_jobs\u001b[0m\u001b[0;34m=\u001b[0m\u001b[0mself\u001b[0m\u001b[0;34m.\u001b[0m\u001b[0m_n_jobs\u001b[0m\u001b[0;34m)\u001b[0m\u001b[0;34m:\u001b[0m\u001b[0;34m\u001b[0m\u001b[0;34m\u001b[0m\u001b[0m\n\u001b[1;32m    262\u001b[0m             return [func(*args, **kwargs)\n\u001b[0;32m--> 263\u001b[0;31m                     for func, args, kwargs in self.items]\n\u001b[0m\u001b[1;32m    264\u001b[0m \u001b[0;34m\u001b[0m\u001b[0m\n\u001b[1;32m    265\u001b[0m     \u001b[0;32mdef\u001b[0m \u001b[0m__reduce__\u001b[0m\u001b[0;34m(\u001b[0m\u001b[0mself\u001b[0m\u001b[0;34m)\u001b[0m\u001b[0;34m:\u001b[0m\u001b[0;34m\u001b[0m\u001b[0;34m\u001b[0m\u001b[0m\n",
            "\u001b[0;32m/usr/local/lib/python3.7/dist-packages/sklearn/model_selection/_validation.py\u001b[0m in \u001b[0;36m_fit_and_score\u001b[0;34m(estimator, X, y, scorer, train, test, verbose, parameters, fit_params, return_train_score, return_parameters, return_n_test_samples, return_times, return_estimator, error_score)\u001b[0m\n\u001b[1;32m    513\u001b[0m             \u001b[0mestimator\u001b[0m\u001b[0;34m.\u001b[0m\u001b[0mfit\u001b[0m\u001b[0;34m(\u001b[0m\u001b[0mX_train\u001b[0m\u001b[0;34m,\u001b[0m \u001b[0;34m**\u001b[0m\u001b[0mfit_params\u001b[0m\u001b[0;34m)\u001b[0m\u001b[0;34m\u001b[0m\u001b[0;34m\u001b[0m\u001b[0m\n\u001b[1;32m    514\u001b[0m         \u001b[0;32melse\u001b[0m\u001b[0;34m:\u001b[0m\u001b[0;34m\u001b[0m\u001b[0;34m\u001b[0m\u001b[0m\n\u001b[0;32m--> 515\u001b[0;31m             \u001b[0mestimator\u001b[0m\u001b[0;34m.\u001b[0m\u001b[0mfit\u001b[0m\u001b[0;34m(\u001b[0m\u001b[0mX_train\u001b[0m\u001b[0;34m,\u001b[0m \u001b[0my_train\u001b[0m\u001b[0;34m,\u001b[0m \u001b[0;34m**\u001b[0m\u001b[0mfit_params\u001b[0m\u001b[0;34m)\u001b[0m\u001b[0;34m\u001b[0m\u001b[0;34m\u001b[0m\u001b[0m\n\u001b[0m\u001b[1;32m    516\u001b[0m \u001b[0;34m\u001b[0m\u001b[0m\n\u001b[1;32m    517\u001b[0m     \u001b[0;32mexcept\u001b[0m \u001b[0mException\u001b[0m \u001b[0;32mas\u001b[0m \u001b[0me\u001b[0m\u001b[0;34m:\u001b[0m\u001b[0;34m\u001b[0m\u001b[0;34m\u001b[0m\u001b[0m\n",
            "\u001b[0;32m/usr/local/lib/python3.7/dist-packages/sklearn/tree/_classes.py\u001b[0m in \u001b[0;36mfit\u001b[0;34m(self, X, y, sample_weight, check_input, X_idx_sorted)\u001b[0m\n\u001b[1;32m    875\u001b[0m             \u001b[0msample_weight\u001b[0m\u001b[0;34m=\u001b[0m\u001b[0msample_weight\u001b[0m\u001b[0;34m,\u001b[0m\u001b[0;34m\u001b[0m\u001b[0;34m\u001b[0m\u001b[0m\n\u001b[1;32m    876\u001b[0m             \u001b[0mcheck_input\u001b[0m\u001b[0;34m=\u001b[0m\u001b[0mcheck_input\u001b[0m\u001b[0;34m,\u001b[0m\u001b[0;34m\u001b[0m\u001b[0;34m\u001b[0m\u001b[0m\n\u001b[0;32m--> 877\u001b[0;31m             X_idx_sorted=X_idx_sorted)\n\u001b[0m\u001b[1;32m    878\u001b[0m         \u001b[0;32mreturn\u001b[0m \u001b[0mself\u001b[0m\u001b[0;34m\u001b[0m\u001b[0;34m\u001b[0m\u001b[0m\n\u001b[1;32m    879\u001b[0m \u001b[0;34m\u001b[0m\u001b[0m\n",
            "\u001b[0;32m/usr/local/lib/python3.7/dist-packages/sklearn/tree/_classes.py\u001b[0m in \u001b[0;36mfit\u001b[0;34m(self, X, y, sample_weight, check_input, X_idx_sorted)\u001b[0m\n\u001b[1;32m    365\u001b[0m                                            min_impurity_split)\n\u001b[1;32m    366\u001b[0m \u001b[0;34m\u001b[0m\u001b[0m\n\u001b[0;32m--> 367\u001b[0;31m         \u001b[0mbuilder\u001b[0m\u001b[0;34m.\u001b[0m\u001b[0mbuild\u001b[0m\u001b[0;34m(\u001b[0m\u001b[0mself\u001b[0m\u001b[0;34m.\u001b[0m\u001b[0mtree_\u001b[0m\u001b[0;34m,\u001b[0m \u001b[0mX\u001b[0m\u001b[0;34m,\u001b[0m \u001b[0my\u001b[0m\u001b[0;34m,\u001b[0m \u001b[0msample_weight\u001b[0m\u001b[0;34m,\u001b[0m \u001b[0mX_idx_sorted\u001b[0m\u001b[0;34m)\u001b[0m\u001b[0;34m\u001b[0m\u001b[0;34m\u001b[0m\u001b[0m\n\u001b[0m\u001b[1;32m    368\u001b[0m \u001b[0;34m\u001b[0m\u001b[0m\n\u001b[1;32m    369\u001b[0m         \u001b[0;32mif\u001b[0m \u001b[0mself\u001b[0m\u001b[0;34m.\u001b[0m\u001b[0mn_outputs_\u001b[0m \u001b[0;34m==\u001b[0m \u001b[0;36m1\u001b[0m \u001b[0;32mand\u001b[0m \u001b[0mis_classifier\u001b[0m\u001b[0;34m(\u001b[0m\u001b[0mself\u001b[0m\u001b[0;34m)\u001b[0m\u001b[0;34m:\u001b[0m\u001b[0;34m\u001b[0m\u001b[0;34m\u001b[0m\u001b[0m\n",
            "\u001b[0;31mKeyboardInterrupt\u001b[0m: "
          ]
        }
      ]
    },
    {
      "cell_type": "code",
      "metadata": {
        "colab": {
          "base_uri": "https://localhost:8080/",
          "height": 447
        },
        "id": "iWGWkfXmIhz8",
        "outputId": "8cde2bb4-61cc-4f79-8915-fd73d825b3ff"
      },
      "source": [
        "# Initiate the model\n",
        "xgb = XGBClassifier(random_state=42)\n",
        "xgb.fit(X_train, y_train)\n",
        "\n",
        "# Make predictions for test data\n",
        "y_hat_train = xgb.predict(X_train)\n",
        "\n",
        "# Make predictions for test data\n",
        "y_hat_test = xgb.predict(X_test)\n",
        "\n",
        "# Evaluate model\n",
        "model_scores(xgb, \n",
        "             X_train, X_test, \n",
        "             y_train, y_test, \n",
        "             y_hat_train, y_hat_test)"
      ],
      "execution_count": 43,
      "outputs": [
        {
          "output_type": "stream",
          "text": [
            "Training Accuracy: 86.61%\n",
            "Test Accuracy: 86.65%\n",
            "\n",
            "Training Recall Score: 82.58%\n",
            "Test Recall Score: 82.73%\n",
            "\n",
            "Training F1 Score: 85.38%\n",
            "Test F1 Score: 85.47%\n",
            "\n",
            "Confusion Matrix for test data\n"
          ],
          "name": "stdout"
        },
        {
          "output_type": "display_data",
          "data": {
            "image/png": "[encoded data removed]",
            "text/plain": [
              "<Figure size 432x288 with 2 Axes>"
            ]
          },
          "metadata": {
            "tags": [],
            "needs_background": "light"
          }
        }
      ]
    },
    {
      "cell_type": "code",
      "metadata": {
        "id": "hs0zfDrsF7m0"
      },
      "source": [
        "# from gensim.models import Word2Vec\n",
        "# from nltk import word_tokenize"
      ],
      "execution_count": null,
      "outputs": []
    },
    {
      "cell_type": "code",
      "metadata": {
        "id": "rr86NWSMGQY7"
      },
      "source": [
        "# import nltk\n",
        "# nltk.download('punkt')"
      ],
      "execution_count": null,
      "outputs": []
    },
    {
      "cell_type": "code",
      "metadata": {
        "id": "veaLlDE3GJpt"
      },
      "source": [
        "# data = df['text'].map(word_tokenize)\n",
        "# data[:5]"
      ],
      "execution_count": null,
      "outputs": []
    },
    {
      "cell_type": "code",
      "metadata": {
        "id": "Zd_x_gB0Glx2"
      },
      "source": [
        "# model = Word2Vec(data, size=100, window=5, min_count=1, workers=4)\n",
        "# model.train(data, total_examples=model.corpus_count, epochs=10)\n",
        "# wv = model.wv"
      ],
      "execution_count": null,
      "outputs": []
    }
  ]
}