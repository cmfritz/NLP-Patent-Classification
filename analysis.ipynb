{
  "nbformat": 4,
  "nbformat_minor": 0,
  "metadata": {
    "colab": {
      "name": "analysis.ipynb",
      "provenance": [],
      "collapsed_sections": [],
      "machine_shape": "hm",
      "mount_file_id": "1w_uZBFn0PNj-Y84lYlQzkLDpqRVY4dKh",
      "authorship_tag": "ABX9TyMDWKZHOyMmNAiVvfYQYFWi",
      "include_colab_link": true
    },
    "kernelspec": {
      "display_name": "Python 3",
      "name": "python3"
    },
    "language_info": {
      "name": "python"
    }
  },
  "cells": [
    {
      "cell_type": "markdown",
      "metadata": {
        "id": "view-in-github",
        "colab_type": "text"
      },
      "source": [
        "<a href=\"https://colab.research.google.com/github/cmfritz/capstone/blob/main/analysis.ipynb\" target=\"_parent\"><img src=\"https://colab.research.google.com/assets/colab-badge.svg\" alt=\"Open In Colab\"/></a>"
      ]
    },
    {
      "cell_type": "code",
      "metadata": {
        "colab": {
          "base_uri": "https://localhost:8080/"
        },
        "id": "VceD5ruAqjJC",
        "outputId": "7d26e4d8-4333-4369-fc33-7b54ea066b8e"
      },
      "source": [
        "#import packages\n",
        "import pandas as pd\n",
        "import numpy as np\n",
        "import string\n",
        "import re\n",
        "from matplotlib import pyplot as plt\n",
        "import seaborn as sns\n",
        "import nltk\n",
        "\n",
        "from nltk import FreqDist, word_tokenize\n",
        "from nltk.tokenize import TweetTokenizer\n",
        "from nltk.stem import WordNetLemmatizer \n",
        "from wordcloud import WordCloud, STOPWORDS\n",
        "\n",
        "from nltk.corpus import stopwords\n",
        "from sklearn.feature_extraction.text import TfidfVectorizer\n",
        "\n",
        "import xgboost as xgb\n",
        "from xgboost import XGBClassifier, plot_importance\n",
        "from sklearn.pipeline import Pipeline\n",
        "from sklearn.linear_model import LogisticRegression\n",
        "from sklearn.model_selection import train_test_split, GridSearchCV\n",
        "from sklearn.preprocessing import LabelEncoder\n",
        "from sklearn.feature_extraction.text import CountVectorizer\n",
        "from sklearn.tree import DecisionTreeClassifier \n",
        "from sklearn.metrics import accuracy_score, plot_confusion_matrix\n",
        "from sklearn.metrics import confusion_matrix, precision_recall_curve, f1_score, recall_score\n",
        "from imblearn.over_sampling import SMOTE"
      ],
      "execution_count": 1,
      "outputs": [
        {
          "output_type": "stream",
          "text": [
            "/usr/local/lib/python3.7/dist-packages/sklearn/externals/six.py:31: FutureWarning: The module is deprecated in version 0.21 and will be removed in version 0.23 since we've dropped support for Python 2.7. Please rely on the official version of six (https://pypi.org/project/six/).\n",
            "  \"(https://pypi.org/project/six/).\", FutureWarning)\n",
            "/usr/local/lib/python3.7/dist-packages/sklearn/utils/deprecation.py:144: FutureWarning: The sklearn.neighbors.base module is  deprecated in version 0.22 and will be removed in version 0.24. The corresponding classes / functions should instead be imported from sklearn.neighbors. Anything that cannot be imported from sklearn.neighbors is now part of the private API.\n",
            "  warnings.warn(message, FutureWarning)\n"
          ],
          "name": "stderr"
        }
      ]
    },
    {
      "cell_type": "code",
      "metadata": {
        "colab": {
          "base_uri": "https://localhost:8080/"
        },
        "id": "DMNbJ0ihVwsF",
        "outputId": "b50a20e5-dbb1-491a-d7f5-f51f58e7a1b7"
      },
      "source": [
        "from google.colab import drive\n",
        "drive.mount('/content/gdrive')\n",
        "\n",
        "# import my custom library into colab\n",
        "import sys\n",
        "sys.path.append('/content/gdrive/MyDrive/Github/capstone/')\n",
        "import mylibrary as mylib"
      ],
      "execution_count": 2,
      "outputs": [
        {
          "output_type": "stream",
          "text": [
            "Mounted at /content/gdrive\n"
          ],
          "name": "stdout"
        }
      ]
    },
    {
      "cell_type": "code",
      "metadata": {
        "colab": {
          "base_uri": "https://localhost:8080/"
        },
        "id": "jgL7LsnXzAqP",
        "outputId": "2ad12c9e-273d-49b7-8692-fd7bdb92146d"
      },
      "source": [
        "import nltk\n",
        "nltk.download('punkt')\n",
        "nltk.download('wordnet')\n",
        "nltk.download('stopwords')"
      ],
      "execution_count": 3,
      "outputs": [
        {
          "output_type": "stream",
          "text": [
            "[nltk_data] Downloading package punkt to /root/nltk_data...\n",
            "[nltk_data]   Unzipping tokenizers/punkt.zip.\n",
            "[nltk_data] Downloading package wordnet to /root/nltk_data...\n",
            "[nltk_data]   Unzipping corpora/wordnet.zip.\n",
            "[nltk_data] Downloading package stopwords to /root/nltk_data...\n",
            "[nltk_data]   Unzipping corpora/stopwords.zip.\n"
          ],
          "name": "stdout"
        },
        {
          "output_type": "execute_result",
          "data": {
            "text/plain": [
              "True"
            ]
          },
          "metadata": {
            "tags": []
          },
          "execution_count": 3
        }
      ]
    },
    {
      "cell_type": "code",
      "metadata": {
        "colab": {
          "base_uri": "https://localhost:8080/"
        },
        "id": "zV7eOfAv-7PP",
        "outputId": "1e369101-7f40-4c3e-d419-0133376fa2d4"
      },
      "source": [
        "%cd /content/gdrive/My Drive/Github/capstone"
      ],
      "execution_count": 4,
      "outputs": [
        {
          "output_type": "stream",
          "text": [
            "/content/gdrive/My Drive/Github/capstone\n"
          ],
          "name": "stdout"
        }
      ]
    },
    {
      "cell_type": "code",
      "metadata": {
        "id": "3t3TRdOBnzir"
      },
      "source": [
        "# df = pd.read_pickle('data/data_4_analysis.pkl')"
      ],
      "execution_count": 5,
      "outputs": []
    },
    {
      "cell_type": "code",
      "metadata": {
        "id": "CB2DlGK_pR6t"
      },
      "source": [
        "# df_master = df[df.sector!='Other fields']\n",
        "# df_master"
      ],
      "execution_count": 6,
      "outputs": []
    },
    {
      "cell_type": "code",
      "metadata": {
        "id": "t916veJiLLFn"
      },
      "source": [
        "# # truncate data for testing purposes\n",
        "# df = df_master[:int(len(df_master.patent_id)*0.2)]\n",
        "# df"
      ],
      "execution_count": 7,
      "outputs": []
    },
    {
      "cell_type": "code",
      "metadata": {
        "id": "XEOiunB_8eye"
      },
      "source": [
        "# # Look at the counts for each category\n",
        "# ax = sns.countplot(x='sector', data=df, palette='viridis')"
      ],
      "execution_count": 8,
      "outputs": []
    },
    {
      "cell_type": "code",
      "metadata": {
        "id": "LusqOVWD9mkI"
      },
      "source": [
        "# # drop large sectors\n",
        "# df = df[df.sector != 'Electrical engineering'] # Deal with EE later\n",
        "# df = df[df.sector != 'Chemistry']\n",
        "# ax = sns.countplot(x='sector', data=df, palette='viridis')"
      ],
      "execution_count": 9,
      "outputs": []
    },
    {
      "cell_type": "code",
      "metadata": {
        "id": "A6PoFSwFhbzK"
      },
      "source": [
        "# y = df['sector']\n",
        "# X = df['text']"
      ],
      "execution_count": 10,
      "outputs": []
    },
    {
      "cell_type": "code",
      "metadata": {
        "id": "toTAW-uWAESd"
      },
      "source": [
        "# X_train, X_test, y_train, y_test = train_test_split(X, y, random_state = 42, test_size = 0.2)\n",
        "# y_train.to_pickle('data/y_train.pkl')\n",
        "# y_test.to_pickle('data/y_test.pkl')"
      ],
      "execution_count": 11,
      "outputs": []
    },
    {
      "cell_type": "code",
      "metadata": {
        "id": "qoXhrJAgyv_j"
      },
      "source": [
        "# def tokenize(text):\n",
        "#     # text = ''.join([ch for ch in text if ch not in string.punctuation])\n",
        "#     tokens = nltk.word_tokenize(text)\n",
        "#     lemmatizer = WordNetLemmatizer()\n",
        "#     return [lemmatizer.lemmatize(token) for token in tokens]"
      ],
      "execution_count": 12,
      "outputs": []
    },
    {
      "cell_type": "code",
      "metadata": {
        "id": "s6F5J24I5RYl"
      },
      "source": [
        "# make nltk stoplist\n",
        "# can add extra features like year, length of document, avg length of words, etc.\n",
        "# TFIDF vectorizer instead of CountVectorizer"
      ],
      "execution_count": 13,
      "outputs": []
    },
    {
      "cell_type": "code",
      "metadata": {
        "id": "6g0vVMc3-kLA"
      },
      "source": [
        "# vec = CountVectorizer(ngram_range=(1,3),\n",
        "#                       tokenizer=tokenize, \n",
        "#                       stop_words='english')"
      ],
      "execution_count": 14,
      "outputs": []
    },
    {
      "cell_type": "code",
      "metadata": {
        "id": "16m3WKssIne-"
      },
      "source": [
        "# stop_words = stopwords.words('english')\n",
        "# custom_stops = ['claim', 'claims', 'method', 'comprising', 'comprises', 'including', 'includes', 'according']\n",
        "# [stop_words.append(word) for word in custom_stops]\n",
        "# stop_words[-10:]"
      ],
      "execution_count": 15,
      "outputs": []
    },
    {
      "cell_type": "code",
      "metadata": {
        "id": "k4_p71akHzWo"
      },
      "source": [
        "# vec = TfidfVectorizer(ngram_range=(1,3),\n",
        "#                       stop_words=stop_words,\n",
        "#                       min_df=0.1,\n",
        "#                       max_df=0.9)"
      ],
      "execution_count": 16,
      "outputs": []
    },
    {
      "cell_type": "code",
      "metadata": {
        "id": "d9zlEv4rA2Xt"
      },
      "source": [
        "# X_train_transformed = vec.fit_transform(X_train)\n",
        "# X_train = pd.DataFrame(X_train_transformed.toarray(), columns = vec.get_feature_names())\n",
        "# X_train.to_pickle('data/X_train.pkl')\n",
        "\n",
        "# X_test_transformed = vec.transform(X_test)\n",
        "# X_test = pd.DataFrame(X_test_transformed.toarray(), columns = vec.get_feature_names())\n",
        "# X_test.to_pickle('data/X_test.pkl')"
      ],
      "execution_count": 17,
      "outputs": []
    },
    {
      "cell_type": "code",
      "metadata": {
        "id": "NyHHZufxgFjk"
      },
      "source": [
        "X_train = pd.read_pickle('data/X_train.pkl')\n",
        "X_test = pd.read_pickle('data/X_test.pkl')\n",
        "y_train = pd.read_pickle('data/y_train.pkl')\n",
        "y_test = pd.read_pickle('data/y_test.pkl')"
      ],
      "execution_count": 23,
      "outputs": []
    },
    {
      "cell_type": "code",
      "metadata": {
        "colab": {
          "base_uri": "https://localhost:8080/",
          "height": 295
        },
        "id": "mBBLxQs7R1TC",
        "outputId": "5e6970b2-99ac-44c1-8fa4-f5f8c05d0175"
      },
      "source": [
        "# Initiate the model\n",
        "logreg = LogisticRegression(random_state=42, n_jobs=1)\n",
        "\n",
        "# Train and evaluate model\n",
        "logreg_scores = mylib.model_scores(logreg, 'logistic_regression',\n",
        "                                   X_train, X_test, \n",
        "                                   y_train, y_test)"
      ],
      "execution_count": 24,
      "outputs": [
        {
          "output_type": "display_data",
          "data": {
            "image/png": "[encoded data removed]",
            "text/plain": [
              "<Figure size 432x288 with 2 Axes>"
            ]
          },
          "metadata": {
            "tags": [],
            "needs_background": "light"
          }
        }
      ]
    },
    {
      "cell_type": "code",
      "metadata": {
        "colab": {
          "base_uri": "https://localhost:8080/",
          "height": 295
        },
        "id": "SdEmuJBzpw9y",
        "outputId": "bdeb60a7-676e-4e88-8211-a291f3093500"
      },
      "source": [
        "# Initiate the model\n",
        "dt = DecisionTreeClassifier(random_state=42)  \n",
        "\n",
        "# Train and evaluate model\n",
        "dt_scores = mylib.model_scores(dt, 'decision_tree',\n",
        "                                   X_train, X_test, \n",
        "                                   y_train, y_test)"
      ],
      "execution_count": 25,
      "outputs": [
        {
          "output_type": "display_data",
          "data": {
            "image/png": "[encoded data removed]",
            "text/plain": [
              "<Figure size 432x288 with 2 Axes>"
            ]
          },
          "metadata": {
            "tags": [],
            "needs_background": "light"
          }
        }
      ]
    },
    {
      "cell_type": "code",
      "metadata": {
        "colab": {
          "base_uri": "https://localhost:8080/",
          "height": 295
        },
        "id": "iWGWkfXmIhz8",
        "outputId": "fb87318d-4f5e-49c0-f0e0-5107aaccd307"
      },
      "source": [
        "# Initiate the model\n",
        "xgb = XGBClassifier(random_state=42)\n",
        "\n",
        "# Train and evaluate model\n",
        "xgb_scores = mylib.model_scores(xgb, 'xg_boost',\n",
        "                                   X_train, X_test, \n",
        "                                   y_train, y_test)"
      ],
      "execution_count": 26,
      "outputs": [
        {
          "output_type": "display_data",
          "data": {
            "image/png": "[encoded data removed]",
            "text/plain": [
              "<Figure size 432x288 with 2 Axes>"
            ]
          },
          "metadata": {
            "tags": [],
            "needs_background": "light"
          }
        }
      ]
    },
    {
      "cell_type": "code",
      "metadata": {
        "colab": {
          "base_uri": "https://localhost:8080/",
          "height": 295
        },
        "id": "94loHHHteqki",
        "outputId": "37b031e7-866d-459e-ece9-e7205ae7cbe0"
      },
      "source": [
        "# plot feature importance\n",
        "plot_importance(xgb, importance_type='weight')\n",
        "plt.title('Feature Importance (Weight)')\n",
        "plt.show()"
      ],
      "execution_count": 27,
      "outputs": [
        {
          "output_type": "display_data",
          "data": {
            "image/png": "[encoded data removed]",
            "text/plain": [
              "<Figure size 432x288 with 1 Axes>"
            ]
          },
          "metadata": {
            "tags": [],
            "needs_background": "light"
          }
        }
      ]
    },
    {
      "cell_type": "code",
      "metadata": {
        "colab": {
          "base_uri": "https://localhost:8080/",
          "height": 142
        },
        "id": "SFeUCkmuaoKy",
        "outputId": "bc3e8c94-a265-4e7c-f55e-7f4275dc224c"
      },
      "source": [
        "scores = pd.concat([logreg_scores, dt_scores, xgb_scores])\n",
        "scores"
      ],
      "execution_count": 28,
      "outputs": [
        {
          "output_type": "execute_result",
          "data": {
            "text/html": [
              "<div>\n",
              "<style scoped>\n",
              "    .dataframe tbody tr th:only-of-type {\n",
              "        vertical-align: middle;\n",
              "    }\n",
              "\n",
              "    .dataframe tbody tr th {\n",
              "        vertical-align: top;\n",
              "    }\n",
              "\n",
              "    .dataframe thead th {\n",
              "        text-align: right;\n",
              "    }\n",
              "</style>\n",
              "<table border=\"1\" class=\"dataframe\">\n",
              "  <thead>\n",
              "    <tr style=\"text-align: right;\">\n",
              "      <th></th>\n",
              "      <th>train_accuracy</th>\n",
              "      <th>test_accuracy</th>\n",
              "      <th>train_recall</th>\n",
              "      <th>test_recall</th>\n",
              "      <th>train_f1</th>\n",
              "      <th>test_f1</th>\n",
              "    </tr>\n",
              "  </thead>\n",
              "  <tbody>\n",
              "    <tr>\n",
              "      <th>logistic_regression</th>\n",
              "      <td>0.858086</td>\n",
              "      <td>0.860247</td>\n",
              "      <td>0.863074</td>\n",
              "      <td>0.863822</td>\n",
              "      <td>0.875352</td>\n",
              "      <td>0.878264</td>\n",
              "    </tr>\n",
              "    <tr>\n",
              "      <th>decision_tree</th>\n",
              "      <td>0.998533</td>\n",
              "      <td>0.834042</td>\n",
              "      <td>0.999684</td>\n",
              "      <td>0.858603</td>\n",
              "      <td>0.998730</td>\n",
              "      <td>0.857927</td>\n",
              "    </tr>\n",
              "    <tr>\n",
              "      <th>xg_boost</th>\n",
              "      <td>0.877859</td>\n",
              "      <td>0.879505</td>\n",
              "      <td>0.894300</td>\n",
              "      <td>0.896765</td>\n",
              "      <td>0.894233</td>\n",
              "      <td>0.896765</td>\n",
              "    </tr>\n",
              "  </tbody>\n",
              "</table>\n",
              "</div>"
            ],
            "text/plain": [
              "                     train_accuracy  test_accuracy  ...  train_f1   test_f1\n",
              "logistic_regression        0.858086       0.860247  ...  0.875352  0.878264\n",
              "decision_tree              0.998533       0.834042  ...  0.998730  0.857927\n",
              "xg_boost                   0.877859       0.879505  ...  0.894233  0.896765\n",
              "\n",
              "[3 rows x 6 columns]"
            ]
          },
          "metadata": {
            "tags": []
          },
          "execution_count": 28
        }
      ]
    },
    {
      "cell_type": "code",
      "metadata": {
        "colab": {
          "base_uri": "https://localhost:8080/",
          "height": 298
        },
        "id": "GjqeQ0aegdHa",
        "outputId": "a96cb77a-7e5d-467f-c553-6c79380ec111"
      },
      "source": [
        "# get importance\n",
        "feature_names = X_train.columns\n",
        "\n",
        "# create dataframe of top features\n",
        "feature_importance = pd.DataFrame(feature_names, columns = ['feature'])\n",
        "feature_importance['importance'] = logreg.coef_[0]\n",
        "feature_importance = feature_importance.sort_values(by = ['importance'], ascending=False)\n",
        "\n",
        "# plot importance\n",
        "n = 20\n",
        "ax = feature_importance.iloc[:n].plot.barh(x='feature', y='importance', color='teal').invert_yaxis()\n",
        "plt.title(f'Feature Importance Top {n} - Logistic Regression')"
      ],
      "execution_count": 29,
      "outputs": [
        {
          "output_type": "execute_result",
          "data": {
            "text/plain": [
              "Text(0.5, 1.0, 'Feature Importance Top 20 - Logistic Regression')"
            ]
          },
          "metadata": {
            "tags": []
          },
          "execution_count": 29
        },
        {
          "output_type": "display_data",
          "data": {
            "image/png": "[encoded data removed]",
            "text/plain": [
              "<Figure size 432x288 with 1 Axes>"
            ]
          },
          "metadata": {
            "tags": [],
            "needs_background": "light"
          }
        }
      ]
    },
    {
      "cell_type": "code",
      "metadata": {
        "id": "rn7eOFMQqr-c"
      },
      "source": [
        "def run_grid_search(params, model, X_train, y_train):\n",
        "    '''\n",
        "    Takes in parameters, model, and test train data, runs grid search, and \n",
        "    returns updated model and test train data.\n",
        "    \n",
        "    Parameters: \n",
        "    params: dict with parameters for grid search\n",
        "    model: object containing initialized model for training\n",
        "    Xy: object containing train and test data for X and y sets\n",
        "    \n",
        "    Returns:\n",
        "    gs: object containing updated model\n",
        "    Xy: object with test train data\n",
        "    '''\n",
        "    gs = GridSearchCV(model, params, scoring='f1_macro', cv=None, n_jobs=1)\n",
        "    gs = gs.fit(X_train, y_train)\n",
        "    best_parameters = gs.best_params_\n",
        "\n",
        "    print('Grid Search found the following optimal parameters: ')\n",
        "    for param_name in sorted(best_parameters.keys()):\n",
        "        print('%s: %r' % (param_name, best_parameters[param_name]))\n",
        "\n",
        "    # Make predictions for test data\n",
        "    y_hat_train = gs.predict(X_train)\n",
        "    \n",
        "    # Make predictions for test data\n",
        "    y_hat_test = gs.predict(X_test)\n",
        "    \n",
        "    return gs, y_hat_train, y_hat_test"
      ],
      "execution_count": 30,
      "outputs": []
    },
    {
      "cell_type": "code",
      "metadata": {
        "id": "XdFaMEjhqXWU",
        "colab": {
          "base_uri": "https://localhost:8080/",
          "height": 313
        },
        "outputId": "3b5906cb-80e2-4bf5-e28a-cdfefbc27779"
      },
      "source": [
        "# define parameters to search\n",
        "params_dt = {\n",
        "    'criterion':['gini', 'entropy'],\n",
        "    'max_depth':range(6,10),\n",
        "    'min_samples_split':range(6,10),\n",
        "    'min_samples_leaf':range(3,5)\n",
        "    }\n",
        "\n",
        "# run grid search\n",
        "dt, y_hat_train, y_hat_test = run_grid_search(params_dt, dt, X_train, y_train)\n",
        "\n",
        "# Evaluate model\n",
        "model_scores(dt, \n",
        "             X_train, X_test, \n",
        "             y_train, y_test, \n",
        "             y_hat_train, y_hat_test)"
      ],
      "execution_count": 31,
      "outputs": [
        {
          "output_type": "stream",
          "text": [
            "Grid Search found the following optimal parameters: \n",
            "criterion: 'gini'\n",
            "max_depth: 9\n",
            "min_samples_leaf: 4\n",
            "min_samples_split: 9\n"
          ],
          "name": "stdout"
        },
        {
          "output_type": "error",
          "ename": "NameError",
          "evalue": "ignored",
          "traceback": [
            "\u001b[0;31m---------------------------------------------------------------------------\u001b[0m",
            "\u001b[0;31mNameError\u001b[0m                                 Traceback (most recent call last)",
            "\u001b[0;32m<ipython-input-31-91b87d756376>\u001b[0m in \u001b[0;36m<module>\u001b[0;34m()\u001b[0m\n\u001b[1;32m     11\u001b[0m \u001b[0;34m\u001b[0m\u001b[0m\n\u001b[1;32m     12\u001b[0m \u001b[0;31m# Evaluate model\u001b[0m\u001b[0;34m\u001b[0m\u001b[0;34m\u001b[0m\u001b[0;34m\u001b[0m\u001b[0m\n\u001b[0;32m---> 13\u001b[0;31m model_scores(dt, \n\u001b[0m\u001b[1;32m     14\u001b[0m              \u001b[0mX_train\u001b[0m\u001b[0;34m,\u001b[0m \u001b[0mX_test\u001b[0m\u001b[0;34m,\u001b[0m\u001b[0;34m\u001b[0m\u001b[0;34m\u001b[0m\u001b[0m\n\u001b[1;32m     15\u001b[0m              \u001b[0my_train\u001b[0m\u001b[0;34m,\u001b[0m \u001b[0my_test\u001b[0m\u001b[0;34m,\u001b[0m\u001b[0;34m\u001b[0m\u001b[0;34m\u001b[0m\u001b[0m\n",
            "\u001b[0;31mNameError\u001b[0m: name 'model_scores' is not defined"
          ]
        }
      ]
    },
    {
      "cell_type": "code",
      "metadata": {
        "id": "Qgf5HVS3RlbC"
      },
      "source": [
        "# define parameters to search\n",
        "params_xgb = {\n",
        "    'booster':['gbtree', 'gblinear', 'dart'],\n",
        "    'max_delta_step ':[100, 10, 1, 0.1],\n",
        "    'max_depth':8\n",
        "    }\n",
        "\n",
        "# run grid search\n",
        "dt, y_hat_train, y_hat_test = run_grid_search(params_xgb, xgb, X_train, y_train)\n",
        "\n",
        "# Evaluate model\n",
        "model_scores(dt, \n",
        "             X_train, X_test, \n",
        "             y_train, y_test, \n",
        "             y_hat_train, y_hat_test)"
      ],
      "execution_count": null,
      "outputs": []
    }
  ]
}